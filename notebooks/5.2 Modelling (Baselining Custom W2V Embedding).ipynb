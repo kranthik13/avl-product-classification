{
 "cells": [
  {
   "cell_type": "code",
   "execution_count": 73,
   "metadata": {
    "_cell_guid": "79c7e3d0-c299-4dcb-8224-4455121ee9b0",
    "_uuid": "d629ff2d2480ee46fbb7e2d37f6b5fab8052498a"
   },
   "outputs": [
    {
     "name": "stderr",
     "output_type": "stream",
     "text": [
      "/opt/conda/lib/python3.7/site-packages/tqdm/std.py:666: FutureWarning: The Panel class is removed from pandas. Accessing it from the top-level namespace will also be removed in the next version\n",
      "  from pandas import Panel\n"
     ]
    }
   ],
   "source": [
    "import sys \n",
    "import os \n",
    "import re \n",
    "import csv\n",
    "import time\n",
    "import codecs\n",
    "\n",
    "import numpy as np\n",
    "import pandas as pd\n",
    "\n",
    "import logging\n",
    "from sklearn.metrics import roc_auc_score, f1_score\n",
    "from sklearn.model_selection import train_test_split\n",
    "\n",
    "from keras.preprocessing.text import Tokenizer\n",
    "from keras.preprocessing.sequence import pad_sequences\n",
    "from keras.layers import Dense, Input, LSTM, Embedding, Dropout, Activation, Conv1D\n",
    "from keras.layers import Bidirectional, GlobalMaxPool1D, MaxPooling1D, Add, Flatten, Conv1D, BatchNormalization, GRU\n",
    "from keras.layers import GlobalAveragePooling1D, GlobalMaxPooling1D, concatenate, SpatialDropout1D\n",
    "from keras.models import Model, load_model\n",
    "from keras import initializers, regularizers, constraints, optimizers, layers, callbacks\n",
    "from keras import backend as K\n",
    "from keras.engine import InputSpec, Layer\n",
    "from keras.callbacks import Callback, EarlyStopping, ModelCheckpoint, LearningRateScheduler\n",
    "from keras.optimizers import Adam, RMSprop\n",
    "\n",
    "\n",
    "from gensim.models import Word2Vec\n",
    "from tqdm import tqdm, tqdm_notebook\n",
    "tqdm.pandas()\n",
    "\n",
    "start_time = time.time()\n",
    "np.random.seed(32)\n",
    "os.environ[\"OMP_NUM_THREADS\"] = \"4\"\n"
   ]
  },
  {
   "cell_type": "code",
   "execution_count": 74,
   "metadata": {},
   "outputs": [],
   "source": [
    "import matplotlib.pyplot as plt\n",
    "import seaborn as sns\n",
    "%matplotlib inline"
   ]
  },
  {
   "cell_type": "code",
   "execution_count": 75,
   "metadata": {},
   "outputs": [],
   "source": [
    "class F1Evaluation(Callback):\n",
    "    def __init__(self, validation_data=(), test_data=(), interval=1):\n",
    "        super(Callback, self).__init__()\n",
    "        \n",
    "        self.interval = interval\n",
    "        self.X_val, self.y_val = validation_data\n",
    "        self.X_test, self.y_test = test_data\n",
    "        self.y_val = self.y_val[:, 1]\n",
    "        self.y_test = self.y_test[:, 1]\n",
    "        self.T = 0.5\n",
    "    \n",
    "    def on_epoch_end(self, epoch, logs={}):\n",
    "        if epoch % self.interval == 0:\n",
    "            y_val = self.model.predict(self.X_val, verbose=0)[:, 1]\n",
    "            y_test = self.model.predict(self.X_test, verbose=0)[:, 1]\n",
    "            y_val[y_val >= self.T] = 1\n",
    "            y_val[y_val < self.T] = 0\n",
    "            y_test[y_test >= self.T] = 1\n",
    "            y_test[y_test < self.T] = 0\n",
    "            \n",
    "            val_score = f1_score(self.y_val, y_val)\n",
    "            test_score = f1_score(self.y_test, y_test)\n",
    "            print(\"F1 : Epoch : {} \\t Valid Score : {:.4f} \\t Test Score : {:.4f}\".format(epoch+1, val_score, test_score))"
   ]
  },
  {
   "cell_type": "code",
   "execution_count": 76,
   "metadata": {},
   "outputs": [],
   "source": [
    "def get_data():\n",
    "    train = pd.read_csv(\"../input/avlpp-2/train_ne.csv\")\n",
    "    test = pd.read_csv(\"../input/avalaraproduct-classification/test_ne_imputed.csv\")\n",
    "    print(\"Train Shape : {}\\nTest Shape :  {}\".format(train.shape, test.shape))\n",
    "    \n",
    "    train = train[['fold_id', 'title', 'description', 'text', 'category', 'source']]\n",
    "    test = test[['title', 'description', 'text', 'category']]\n",
    "    train.dropna(inplace=True)\n",
    "    \n",
    "    return train, test"
   ]
  },
  {
   "cell_type": "code",
   "execution_count": 77,
   "metadata": {},
   "outputs": [
    {
     "name": "stdout",
     "output_type": "stream",
     "text": [
      "Train Shape : (1199998, 5)\n",
      "Test Shape :  (92, 5)\n"
     ]
    }
   ],
   "source": [
    "train, test = get_data()\n",
    "target = 'category'"
   ]
  },
  {
   "cell_type": "code",
   "execution_count": 78,
   "metadata": {},
   "outputs": [
    {
     "data": {
      "text/html": [
       "<div>\n",
       "<style scoped>\n",
       "    .dataframe tbody tr th:only-of-type {\n",
       "        vertical-align: middle;\n",
       "    }\n",
       "\n",
       "    .dataframe tbody tr th {\n",
       "        vertical-align: top;\n",
       "    }\n",
       "\n",
       "    .dataframe thead th {\n",
       "        text-align: right;\n",
       "    }\n",
       "</style>\n",
       "<table border=\"1\" class=\"dataframe\">\n",
       "  <thead>\n",
       "    <tr style=\"text-align: right;\">\n",
       "      <th></th>\n",
       "      <th>fold_id</th>\n",
       "      <th>title</th>\n",
       "      <th>description</th>\n",
       "      <th>text</th>\n",
       "      <th>category</th>\n",
       "    </tr>\n",
       "  </thead>\n",
       "  <tbody>\n",
       "    <tr>\n",
       "      <th>0</th>\n",
       "      <td>1</td>\n",
       "      <td>ziczac black red euro 44</td>\n",
       "      <td>clothing related products b2c shoes shoe laces</td>\n",
       "      <td>ziczac black red euro 44 clothing related prod...</td>\n",
       "      <td>R</td>\n",
       "    </tr>\n",
       "    <tr>\n",
       "      <th>1</th>\n",
       "      <td>1</td>\n",
       "      <td>9x9 resista 484938</td>\n",
       "      <td>publishing printing printing services</td>\n",
       "      <td>9x9 resista 484938 publishing printing printin...</td>\n",
       "      <td>S</td>\n",
       "    </tr>\n",
       "    <tr>\n",
       "      <th>2</th>\n",
       "      <td>1</td>\n",
       "      <td>halle pant short inseam 013049561d0010001 02</td>\n",
       "      <td>clothing related products b2c general</td>\n",
       "      <td>halle pant short inseam 013049561d0010001 02 c...</td>\n",
       "      <td>R</td>\n",
       "    </tr>\n",
       "    <tr>\n",
       "      <th>3</th>\n",
       "      <td>1</td>\n",
       "      <td>harry houser travel expenses meals</td>\n",
       "      <td>security personnel</td>\n",
       "      <td>harry houser travel expenses meals security pe...</td>\n",
       "      <td>S</td>\n",
       "    </tr>\n",
       "    <tr>\n",
       "      <th>4</th>\n",
       "      <td>1</td>\n",
       "      <td>tee time 740078609 greens fee composite</td>\n",
       "      <td>admissions green fees privately owned golf course</td>\n",
       "      <td>tee time 740078609 greens fee composite admiss...</td>\n",
       "      <td>R</td>\n",
       "    </tr>\n",
       "  </tbody>\n",
       "</table>\n",
       "</div>"
      ],
      "text/plain": [
       "   fold_id                                         title  \\\n",
       "0        1                      ziczac black red euro 44   \n",
       "1        1                            9x9 resista 484938   \n",
       "2        1  halle pant short inseam 013049561d0010001 02   \n",
       "3        1            harry houser travel expenses meals   \n",
       "4        1       tee time 740078609 greens fee composite   \n",
       "\n",
       "                                         description  \\\n",
       "0     clothing related products b2c shoes shoe laces   \n",
       "1              publishing printing printing services   \n",
       "2              clothing related products b2c general   \n",
       "3                                 security personnel   \n",
       "4  admissions green fees privately owned golf course   \n",
       "\n",
       "                                                text category  \n",
       "0  ziczac black red euro 44 clothing related prod...        R  \n",
       "1  9x9 resista 484938 publishing printing printin...        S  \n",
       "2  halle pant short inseam 013049561d0010001 02 c...        R  \n",
       "3  harry houser travel expenses meals security pe...        S  \n",
       "4  tee time 740078609 greens fee composite admiss...        R  "
      ]
     },
     "execution_count": 78,
     "metadata": {},
     "output_type": "execute_result"
    }
   ],
   "source": [
    "train.head()"
   ]
  },
  {
   "cell_type": "code",
   "execution_count": null,
   "metadata": {},
   "outputs": [],
   "source": [
    "K = 6"
   ]
  },
  {
   "cell_type": "code",
   "execution_count": 79,
   "metadata": {},
   "outputs": [],
   "source": [
    "train[target] = train[target].map({\"R\": 0, \"S\": 1})\n",
    "train['target_S'] = np.nan\n",
    "train['target_R'] = np.nan\n",
    "train['target_R'] = 1 - train[target].values\n",
    "train['target_S'] = train[target].values\n",
    "\n",
    "train.drop([target], axis=1, inplace=True)"
   ]
  },
  {
   "cell_type": "code",
   "execution_count": 80,
   "metadata": {},
   "outputs": [],
   "source": [
    "test[target] = test[target].map({\"R\": 0, \"S\": 1})\n",
    "test['target_S'] = np.nan\n",
    "test['target_R'] = np.nan\n",
    "test['target_R'] = 1 - test[target].values\n",
    "test['target_S'] = test[target].values\n",
    "\n",
    "test.drop([target], axis=1, inplace=True)"
   ]
  },
  {
   "cell_type": "code",
   "execution_count": null,
   "metadata": {},
   "outputs": [],
   "source": [
    "### Splitter\n",
    "\n",
    "def splitter(data, k=K):\n",
    "    \n",
    "    data_v1 = data[data['fold_id'] == k].copy()\n",
    "    data_v1.reset_index(drop=True, inplace=True)\n",
    "    \n",
    "    train_set = data_v1[data_v1['source'] == 'train'].copy()\n",
    "    valid_set = data_v1[data_v1['source'] == 'valid'].copy()\n",
    "    train_set.reset_index(drop=True, inplace=True)\n",
    "    valid_set.reset_index(drop=True, inplace=True)\n",
    "    \n",
    "    del data_v1\n",
    "    gc.collect()\n",
    "    \n",
    "#     print(train_set.shape, valid_set.shape)\n",
    "    \n",
    "    return train_set, valid_set, train_set[list_classes].values, valid_set[list_classes].values"
   ]
  },
  {
   "cell_type": "code",
   "execution_count": 81,
   "metadata": {},
   "outputs": [
    {
     "data": {
      "image/png": "[encoded data removed]",
      "text/plain": [
       "<Figure size 432x288 with 1 Axes>"
      ]
     },
     "metadata": {
      "needs_background": "light"
     },
     "output_type": "display_data"
    }
   ],
   "source": [
    "# visualize word length distribution\n",
    "train['doc_len'] = train['text'].apply(lambda words: len(words.split(\" \")))\n",
    "max_len = np.round(train['doc_len'].mean() + 2*train['doc_len'].std()).astype(int)\n",
    "\n",
    "sns.distplot(train['doc_len'], hist=True, kde=True, color='b', label='doc len')\n",
    "plt.axvline(x=max_len, color='k', linestyle='--', label='max len')\n",
    "plt.title('comment length')\n",
    "plt.legend()\n",
    "plt.show()"
   ]
  },
  {
   "cell_type": "code",
   "execution_count": 82,
   "metadata": {},
   "outputs": [
    {
     "data": {
      "text/plain": [
       "26"
      ]
     },
     "execution_count": 82,
     "metadata": {},
     "output_type": "execute_result"
    }
   ],
   "source": [
    "max_len"
   ]
  },
  {
   "cell_type": "code",
   "execution_count": 83,
   "metadata": {},
   "outputs": [],
   "source": [
    "embed_size = 100\n",
    "# embedding_path = \"../input/glove840b300dtxt/glove.840B.300d.txt\"\n",
    "max_features = 1_000_000\n",
    "max_len = 50\n",
    "\n",
    "BS = 128\n",
    "N_EPOCHS = 5"
   ]
  },
  {
   "cell_type": "code",
   "execution_count": null,
   "metadata": {},
   "outputs": [],
   "source": [
    "list_classes = [\"target_R\", \"target_S\"]\n",
    "y_test = test[list_classes].values\n",
    "\n",
    "X_train, X_valid, y_new_train, y_new_valid = splitter(train)\n",
    "# print(X_train.shape, X_valid.shape, y_new_train.shape, y_new_valid.shape)"
   ]
  },
  {
   "cell_type": "markdown",
   "metadata": {},
   "source": [
    "## Custom Word2Vec"
   ]
  },
  {
   "cell_type": "code",
   "execution_count": 85,
   "metadata": {},
   "outputs": [
    {
     "name": "stderr",
     "output_type": "stream",
     "text": [
      "100%|██████████| 1199559/1199559 [00:06<00:00, 176008.00it/s]\n",
      "100%|██████████| 92/92 [00:00<00:00, 61027.36it/s]\n"
     ]
    },
    {
     "name": "stdout",
     "output_type": "stream",
     "text": [
      "Length of Vocabulary : 47157\n",
      "CPU times: user 3min 59s, sys: 1.75 s, total: 4min 1s\n",
      "Wall time: 2min 28s\n"
     ]
    }
   ],
   "source": [
    "%%time\n",
    "\n",
    "col = 'text'\n",
    "\n",
    "values = train[col].progress_apply(lambda x: x.split()).values.tolist() + test[col].progress_apply(\n",
    "    lambda x: x.split()).values.tolist()\n",
    "embedding_index = Word2Vec(values, min_count=5, size=embed_size)\n",
    "print(\"Length of Vocabulary : {}\".format(len(embedding_index.wv.vocab)))"
   ]
  },
  {
   "cell_type": "code",
   "execution_count": 86,
   "metadata": {},
   "outputs": [
    {
     "name": "stderr",
     "output_type": "stream",
     "text": [
      "/opt/conda/lib/python3.7/site-packages/ipykernel_launcher.py:1: DeprecationWarning: Call to deprecated `__getitem__` (Method will be removed in 4.0.0, use self.wv.__getitem__() instead).\n",
      "  \"\"\"Entry point for launching an IPython kernel.\n"
     ]
    },
    {
     "data": {
      "text/plain": [
       "(100,)"
      ]
     },
     "execution_count": 86,
     "metadata": {},
     "output_type": "execute_result"
    }
   ],
   "source": [
    "embedding_index[\"shirt\"].shape"
   ]
  },
  {
   "cell_type": "code",
   "execution_count": 87,
   "metadata": {},
   "outputs": [],
   "source": [
    "raw_text_train = X_train['text'].str.lower()\n",
    "raw_text_valid = X_valid['text'].str.lower()\n",
    "raw_text_test = test['text'].str.lower()"
   ]
  },
  {
   "cell_type": "code",
   "execution_count": 88,
   "metadata": {},
   "outputs": [
    {
     "name": "stderr",
     "output_type": "stream",
     "text": [
      "/opt/conda/lib/python3.7/site-packages/ipykernel_launcher.py:3: SettingWithCopyWarning: \n",
      "A value is trying to be set on a copy of a slice from a DataFrame.\n",
      "Try using .loc[row_indexer,col_indexer] = value instead\n",
      "\n",
      "See the caveats in the documentation: https://pandas.pydata.org/pandas-docs/stable/user_guide/indexing.html#returning-a-view-versus-a-copy\n",
      "  This is separate from the ipykernel package so we can avoid doing imports until\n",
      "/opt/conda/lib/python3.7/site-packages/ipykernel_launcher.py:4: SettingWithCopyWarning: \n",
      "A value is trying to be set on a copy of a slice from a DataFrame.\n",
      "Try using .loc[row_indexer,col_indexer] = value instead\n",
      "\n",
      "See the caveats in the documentation: https://pandas.pydata.org/pandas-docs/stable/user_guide/indexing.html#returning-a-view-versus-a-copy\n",
      "  after removing the cwd from sys.path.\n"
     ]
    },
    {
     "name": "stdout",
     "output_type": "stream",
     "text": [
      "CPU times: user 6.56 s, sys: 32.4 ms, total: 6.59 s\n",
      "Wall time: 6.61 s\n"
     ]
    }
   ],
   "source": [
    "%%time\n",
    "\n",
    "tk = Tokenizer(num_words=max_features, lower=True)\n",
    "tk.fit_on_texts(raw_text_train.values.tolist() + raw_text_valid.values.tolist() + test['text'].values.tolist())\n",
    "X_train['seq'] = tk.texts_to_sequences(raw_text_train.values)\n",
    "X_valid['seq'] = tk.texts_to_sequences(raw_text_valid.values)\n",
    "test['seq'] = tk.texts_to_sequences(raw_text_test.values)\n",
    "\n",
    "X_train = pad_sequences(X_train.seq, maxlen=max_len)\n",
    "X_valid = pad_sequences(X_valid.seq, maxlen=max_len)\n",
    "test = pad_sequences(test.seq, maxlen=max_len)"
   ]
  },
  {
   "cell_type": "markdown",
   "metadata": {},
   "source": [
    "## Word2Vec"
   ]
  },
  {
   "cell_type": "code",
   "execution_count": 89,
   "metadata": {},
   "outputs": [
    {
     "name": "stderr",
     "output_type": "stream",
     "text": [
      "/opt/conda/lib/python3.7/site-packages/ipykernel_launcher.py:6: TqdmDeprecationWarning: This function will be removed in tqdm==5.0.0\n",
      "Please use `tqdm.notebook.tqdm` instead of `tqdm.tqdm_notebook`\n",
      "  \n"
     ]
    },
    {
     "data": {
      "application/vnd.jupyter.widget-view+json": {
       "model_id": "8afa43ec58534c61bfcb977a5295866e",
       "version_major": 2,
       "version_minor": 0
      },
      "text/plain": [
       "HBox(children=(FloatProgress(value=0.0, max=156328.0), HTML(value='')))"
      ]
     },
     "metadata": {},
     "output_type": "display_data"
    },
    {
     "name": "stderr",
     "output_type": "stream",
     "text": [
      "/opt/conda/lib/python3.7/site-packages/ipykernel_launcher.py:10: DeprecationWarning: Call to deprecated `__getitem__` (Method will be removed in 4.0.0, use self.wv.__getitem__() instead).\n",
      "  # Remove the CWD from sys.path while we load stuff.\n"
     ]
    },
    {
     "name": "stdout",
     "output_type": "stream",
     "text": [
      "\n",
      "Number of words : 156328\n",
      "Coverage : 21.61\n"
     ]
    }
   ],
   "source": [
    "word_index = tk.word_index\n",
    "nb_words = min(max_features, len(word_index))\n",
    "\n",
    "embedding_matrix = np.zeros((nb_words, embed_size))\n",
    "cnt = 0\n",
    "for word, i in tqdm_notebook(word_index.items()):\n",
    "    if i>= nb_words:\n",
    "        continue\n",
    "    try:\n",
    "        embedding_vector = embedding_index[word]\n",
    "        if embedding_vector is not None:\n",
    "            embedding_matrix[i] = embedding_vector\n",
    "            cnt += 1\n",
    "    except KeyError:\n",
    "        continue\n",
    "cov = (cnt / nb_words)*100\n",
    "print(\"Number of words : {}\".format(nb_words))\n",
    "print(\"Coverage : {:.2f}\".format(cov))"
   ]
  },
  {
   "cell_type": "code",
   "execution_count": 90,
   "metadata": {},
   "outputs": [],
   "source": [
    "file_path = \"model.hdf5\"\n",
    "check_point = ModelCheckpoint(file_path, monitor=\"val_loss\", verbose=1, save_best_only=True, mode=\"min\")\n",
    "f1_val = F1Evaluation(validation_data=(X_valid, y_new_valid), test_data=(test, y_test), interval=1)\n",
    "early_stop = EarlyStopping(monitor=\"val_loss\", mode=\"min\", patience=5)"
   ]
  },
  {
   "cell_type": "markdown",
   "metadata": {},
   "source": [
    "## Modelling Utils"
   ]
  },
  {
   "cell_type": "markdown",
   "metadata": {},
   "source": [
    "## CNN"
   ]
  },
  {
   "cell_type": "code",
   "execution_count": 92,
   "metadata": {},
   "outputs": [],
   "source": [
    "def build_model_cnn(embedding_matrix, lr=0.0, lr_d=0.0, units=0, dr=0.0):\n",
    "    \n",
    "    inp = Input(shape=(max_len, ))\n",
    "\n",
    "    x = Embedding(nb_words, embed_size, weights=[embedding_matrix], trainable=False)(inp)\n",
    "    x = Conv1D(128, 3, activation='relu')(x)\n",
    "    x = MaxPooling1D(3)(x)\n",
    "    x = Dropout(0.2)(x)\n",
    "    x = Conv1D(64, 3, activation='relu')(x)\n",
    "    x = MaxPooling1D(3)(x)\n",
    "    x = Dropout(0.2)(x)\n",
    "    x = Conv1D(64, 3, activation='relu')(x)\n",
    "    x = Dropout(0.2)(x)\n",
    "    x = Flatten()(x)\n",
    "    x = Dense(2, activation='sigmoid')(x)\n",
    "    \n",
    "    model = Model(inputs=inp, outputs=x)\n",
    "    model.compile(loss=\"binary_crossentropy\", optimizer=Adam(lr=lr, decay=lr_d), metrics=['accuracy'])\n",
    "    history = model.fit(X_train, y_new_train, batch_size=BS, epochs=N_EPOCHS, validation_data=(X_valid, y_new_valid), verbose=1, \n",
    "                        callbacks=[f1_val, check_point, early_stop])\n",
    "    model = load_model(file_path)\n",
    "    \n",
    "    return model"
   ]
  },
  {
   "cell_type": "markdown",
   "metadata": {},
   "source": [
    "## BiLSTM+CNN"
   ]
  },
  {
   "cell_type": "code",
   "execution_count": 97,
   "metadata": {},
   "outputs": [],
   "source": [
    "def build_model_bilstm_cnn(embedding_matrix, lr=0.0, lr_d=0.0, units=0, dr=0.0):\n",
    "    \n",
    "    inp = Input(shape=(max_len, ))\n",
    "    x = Embedding(nb_words, embed_size, weights=[embedding_matrix], trainable=False)(inp)\n",
    "    x = SpatialDropout1D(dr)(x)\n",
    "    \n",
    "    x = Bidirectional(LSTM(units, return_sequences=True))(x)\n",
    "    x = Conv1D(64, kernel_size=2, padding=\"valid\", kernel_initializer=\"he_uniform\")(x)\n",
    "    \n",
    "    avg_pool = GlobalAveragePooling1D()(x)\n",
    "    max_pool = GlobalMaxPooling1D()(x)\n",
    "    x = concatenate([avg_pool, max_pool])\n",
    "    \n",
    "    x = Dense(2, activation=\"sigmoid\")(x)\n",
    "    model = Model(inputs=inp, outputs=x)\n",
    "    model.compile(loss=\"binary_crossentropy\", optimizer=Adam(lr=lr, decay=lr_d), metrics=['accuracy'])\n",
    "    history = model.fit(X_train, y_new_train, batch_size=BS, epochs=N_EPOCHS, validation_data=(X_valid, y_new_valid), verbose=1, \n",
    "                        callbacks=[f1_val, check_point, early_stop])\n",
    "    model = load_model(file_path)\n",
    "    \n",
    "    return model"
   ]
  },
  {
   "cell_type": "code",
   "execution_count": 93,
   "metadata": {},
   "outputs": [
    {
     "name": "stdout",
     "output_type": "stream",
     "text": [
      "Train on 107955 samples, validate on 11995 samples\n",
      "Epoch 1/5\n",
      "107955/107955 [==============================] - 5s 46us/step - loss: 0.1591 - accuracy: 0.9358 - val_loss: 0.1225 - val_accuracy: 0.9489\n",
      "F1 : Epoch : 1 \t Valid Score : 0.9506 \t Test Score : 0.8504\n",
      "\n",
      "Epoch 00001: val_loss improved from inf to 0.12249, saving model to model.hdf5\n",
      "Epoch 2/5\n",
      "107955/107955 [==============================] - 5s 44us/step - loss: 0.1214 - accuracy: 0.9506 - val_loss: 0.1185 - val_accuracy: 0.9517\n",
      "F1 : Epoch : 2 \t Valid Score : 0.9537 \t Test Score : 0.8462\n",
      "\n",
      "Epoch 00002: val_loss improved from 0.12249 to 0.11848, saving model to model.hdf5\n",
      "Epoch 3/5\n",
      "107955/107955 [==============================] - 5s 42us/step - loss: 0.1117 - accuracy: 0.9546 - val_loss: 0.1111 - val_accuracy: 0.9540\n",
      "F1 : Epoch : 3 \t Valid Score : 0.9552 \t Test Score : 0.8254\n",
      "\n",
      "Epoch 00003: val_loss improved from 0.11848 to 0.11110, saving model to model.hdf5\n",
      "Epoch 4/5\n",
      "107955/107955 [==============================] - 5s 45us/step - loss: 0.1050 - accuracy: 0.9572 - val_loss: 0.1159 - val_accuracy: 0.9539\n",
      "F1 : Epoch : 4 \t Valid Score : 0.9554 \t Test Score : 0.8281\n",
      "\n",
      "Epoch 00004: val_loss did not improve from 0.11110\n",
      "Epoch 5/5\n",
      "107955/107955 [==============================] - 4s 41us/step - loss: 0.1017 - accuracy: 0.9580 - val_loss: 0.1088 - val_accuracy: 0.9561\n",
      "F1 : Epoch : 5 \t Valid Score : 0.9574 \t Test Score : 0.8504\n",
      "\n",
      "Epoch 00005: val_loss improved from 0.11110 to 0.10883, saving model to model.hdf5\n"
     ]
    }
   ],
   "source": [
    "lr = 1e-3\n",
    "lr_d = 0\n",
    "units = 128\n",
    "dr = 0.2\n",
    "\n",
    "model = build_model_cnn(embedding_matrix, lr, lr_d, units, dr)"
   ]
  },
  {
   "cell_type": "code",
   "execution_count": 101,
   "metadata": {},
   "outputs": [
    {
     "name": "stdout",
     "output_type": "stream",
     "text": [
      "Train on 107955 samples, validate on 11995 samples\n",
      "Epoch 1/1\n",
      "107955/107955 [==============================] - 201s 2ms/step - loss: 0.0116 - accuracy: 0.9964 - val_loss: 0.0026 - val_accuracy: 0.9994\n",
      "F1 : Epoch : 1 \t Valid Score : 0.9994 \t Test Score : 0.8932\n",
      "\n",
      "Epoch 00001: val_loss did not improve from 0.00223\n"
     ]
    }
   ],
   "source": [
    "model_1 = build_model_bilstm_cnn(embedding_matrix, lr, lr_d, units, dr)"
   ]
  },
  {
   "cell_type": "code",
   "execution_count": 94,
   "metadata": {},
   "outputs": [],
   "source": [
    "sub = pd.DataFrame()\n",
    "sub['word2vec_cust_cnn'] = np.nan\n",
    "preds = model.predict(test, batch_size=1024, verbose=1)\n",
    "sub['word2vec_cust_cnn'] = preds[:, 1]\n",
    "preds = model_1.predict(test, batch_size=1024, verbose=1)\n",
    "sub['word2vec_cust_lstm'] = preds[:, 1]"
   ]
  },
  {
   "cell_type": "code",
   "execution_count": 102,
   "metadata": {},
   "outputs": [
    {
     "name": "stdout",
     "output_type": "stream",
     "text": [
      "92/92 [==============================] - 0s 2ms/step\n",
      "(92, 2)\n"
     ]
    },
    {
     "data": {
      "text/html": [
       "<div>\n",
       "<style scoped>\n",
       "    .dataframe tbody tr th:only-of-type {\n",
       "        vertical-align: middle;\n",
       "    }\n",
       "\n",
       "    .dataframe tbody tr th {\n",
       "        vertical-align: top;\n",
       "    }\n",
       "\n",
       "    .dataframe thead th {\n",
       "        text-align: right;\n",
       "    }\n",
       "</style>\n",
       "<table border=\"1\" class=\"dataframe\">\n",
       "  <thead>\n",
       "    <tr style=\"text-align: right;\">\n",
       "      <th></th>\n",
       "      <th>word2vec_cust_cnn</th>\n",
       "      <th>word2vec_cust_lstm</th>\n",
       "    </tr>\n",
       "  </thead>\n",
       "  <tbody>\n",
       "    <tr>\n",
       "      <th>0</th>\n",
       "      <td>0.722099</td>\n",
       "      <td>3.601626e-07</td>\n",
       "    </tr>\n",
       "    <tr>\n",
       "      <th>1</th>\n",
       "      <td>0.983842</td>\n",
       "      <td>9.919144e-01</td>\n",
       "    </tr>\n",
       "    <tr>\n",
       "      <th>2</th>\n",
       "      <td>0.999993</td>\n",
       "      <td>9.999949e-01</td>\n",
       "    </tr>\n",
       "    <tr>\n",
       "      <th>3</th>\n",
       "      <td>0.999998</td>\n",
       "      <td>1.000000e+00</td>\n",
       "    </tr>\n",
       "    <tr>\n",
       "      <th>4</th>\n",
       "      <td>0.590205</td>\n",
       "      <td>3.338496e-07</td>\n",
       "    </tr>\n",
       "  </tbody>\n",
       "</table>\n",
       "</div>"
      ],
      "text/plain": [
       "   word2vec_cust_cnn  word2vec_cust_lstm\n",
       "0           0.722099        3.601626e-07\n",
       "1           0.983842        9.919144e-01\n",
       "2           0.999993        9.999949e-01\n",
       "3           0.999998        1.000000e+00\n",
       "4           0.590205        3.338496e-07"
      ]
     },
     "execution_count": 102,
     "metadata": {},
     "output_type": "execute_result"
    }
   ],
   "source": [
    "print(sub.shape)\n",
    "sub.head()"
   ]
  },
  {
   "cell_type": "code",
   "execution_count": 103,
   "metadata": {},
   "outputs": [],
   "source": [
    "sub.to_csv(\"custom_w2v.csv\", index=False)"
   ]
  },
  {
   "cell_type": "markdown",
   "metadata": {},
   "source": [
    "## Custom W2V Embedding : \n",
    "\n",
    "Coverage : 21.61 (Well this is higher than the coverage of 17% got by pre-trained embeddings).\n",
    "\n",
    "Best Test - F1 : **0.9245** (Our hypothesis that a custom trained embedding might work better is proved :)  )\n",
    "\n",
    "PS : **baselined by CNN becuase it veryyyy fast**"
   ]
  },
  {
   "cell_type": "markdown",
   "metadata": {},
   "source": [
    "# Conclusion\n",
    "\n",
    "We proved the hypothesis that as this is a very domain-specific task it would be better to train custom embeddings as we have more than enough data to get the contextual meanings and we got a jump to **0.9245** almost equalling our best BOW model."
   ]
  },
  {
   "cell_type": "code",
   "execution_count": null,
   "metadata": {},
   "outputs": [],
   "source": []
  }
 ],
 "metadata": {
  "kernelspec": {
   "display_name": "Python 3",
   "language": "python",
   "name": "python3"
  },
  "language_info": {
   "codemirror_mode": {
    "name": "ipython",
    "version": 3
   },
   "file_extension": ".py",
   "mimetype": "text/x-python",
   "name": "python",
   "nbconvert_exporter": "python",
   "pygments_lexer": "ipython3",
   "version": "3.7.3"
  }
 },
 "nbformat": 4,
 "nbformat_minor": 4
}

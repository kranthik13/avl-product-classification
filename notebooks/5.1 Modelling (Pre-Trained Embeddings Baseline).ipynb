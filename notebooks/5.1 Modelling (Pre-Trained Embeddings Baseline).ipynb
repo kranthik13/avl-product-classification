{
 "cells": [
  {
   "cell_type": "code",
   "execution_count": 20,
   "metadata": {
    "_cell_guid": "79c7e3d0-c299-4dcb-8224-4455121ee9b0",
    "_uuid": "d629ff2d2480ee46fbb7e2d37f6b5fab8052498a"
   },
   "outputs": [],
   "source": [
    "import sys\n",
    "import gc\n",
    "import os \n",
    "import re \n",
    "import csv\n",
    "import time\n",
    "import codecs\n",
    "\n",
    "import numpy as np\n",
    "import pandas as pd\n",
    "\n",
    "import logging\n",
    "from sklearn.metrics import roc_auc_score, f1_score\n",
    "from sklearn.model_selection import train_test_split\n",
    "\n",
    "from keras.preprocessing.text import Tokenizer\n",
    "from keras.preprocessing.sequence import pad_sequences\n",
    "from keras.layers import Dense, Input, LSTM, Embedding, Dropout, Activation, Conv1D\n",
    "from keras.layers import Bidirectional, GlobalMaxPool1D, MaxPooling1D, Add, Flatten, Conv1D, BatchNormalization, GRU\n",
    "from keras.layers import GlobalAveragePooling1D, GlobalMaxPooling1D, concatenate, SpatialDropout1D\n",
    "from keras.models import Model, load_model\n",
    "from keras import initializers, regularizers, constraints, optimizers, layers, callbacks\n",
    "from keras import backend as K\n",
    "from keras.engine import InputSpec, Layer\n",
    "from keras.callbacks import Callback, EarlyStopping, ModelCheckpoint, LearningRateScheduler\n",
    "from keras.optimizers import Adam, RMSprop\n",
    "\n",
    "from tqdm import tqdm_notebook\n",
    "\n",
    "start_time = time.time()\n",
    "np.random.seed(32)\n",
    "os.environ[\"OMP_NUM_THREADS\"] = \"4\""
   ]
  },
  {
   "cell_type": "code",
   "execution_count": 6,
   "metadata": {},
   "outputs": [],
   "source": [
    "import matplotlib.pyplot as plt\n",
    "import seaborn as sns\n",
    "%matplotlib inline"
   ]
  },
  {
   "cell_type": "code",
   "execution_count": 7,
   "metadata": {},
   "outputs": [],
   "source": [
    "class F1Evaluation(Callback):\n",
    "    def __init__(self, validation_data=(), test_data=(), interval=1):\n",
    "        super(Callback, self).__init__()\n",
    "        \n",
    "        self.interval = interval\n",
    "        self.X_val, self.y_val = validation_data\n",
    "        self.X_test, self.y_test = test_data\n",
    "        self.y_val = self.y_val[:, 1]\n",
    "        self.y_test = self.y_test[:, 1]\n",
    "        self.T = 0.5\n",
    "    \n",
    "    def on_epoch_end(self, epoch, logs={}):\n",
    "        if epoch % self.interval == 0:\n",
    "            y_val = self.model.predict(self.X_val, verbose=0)[:, 1]\n",
    "            y_test = self.model.predict(self.X_test, verbose=0)[:, 1]\n",
    "            y_val[y_val >= self.T] = 1\n",
    "            y_val[y_val < self.T] = 0\n",
    "            y_test[y_test >= self.T] = 1\n",
    "            y_test[y_test < self.T] = 0\n",
    "            \n",
    "            val_score = f1_score(self.y_val, y_val)\n",
    "            test_score = f1_score(self.y_test, y_test)\n",
    "            print(\"F1 : Epoch : {} \\t Valid Score : {:.4f} \\t Test Score : {:.4f}\".format(epoch+1, val_score, test_score))"
   ]
  },
  {
   "cell_type": "code",
   "execution_count": 8,
   "metadata": {},
   "outputs": [],
   "source": [
    "def get_data():\n",
    "    train = pd.read_csv(\"../input/avlpp-2/train_ne.csv\")\n",
    "    test = pd.read_csv(\"../input/avalaraproduct-classification/test_ne_imputed.csv\")\n",
    "    print(\"Train Shape : {}\\nTest Shape :  {}\".format(train.shape, test.shape))\n",
    "    \n",
    "    train = train[['fold_id', 'title', 'description', 'text', 'category', 'source']]\n",
    "    test = test[['title', 'description', 'text', 'category']]\n",
    "    train.dropna(inplace=True)\n",
    "    \n",
    "    return train, test"
   ]
  },
  {
   "cell_type": "code",
   "execution_count": 9,
   "metadata": {},
   "outputs": [
    {
     "name": "stdout",
     "output_type": "stream",
     "text": [
      "Train Shape : (1199998, 6)\n",
      "Test Shape :  (92, 5)\n"
     ]
    }
   ],
   "source": [
    "train, test = get_data()\n",
    "target = 'category'"
   ]
  },
  {
   "cell_type": "code",
   "execution_count": 10,
   "metadata": {},
   "outputs": [
    {
     "data": {
      "text/html": [
       "<div>\n",
       "<style scoped>\n",
       "    .dataframe tbody tr th:only-of-type {\n",
       "        vertical-align: middle;\n",
       "    }\n",
       "\n",
       "    .dataframe tbody tr th {\n",
       "        vertical-align: top;\n",
       "    }\n",
       "\n",
       "    .dataframe thead th {\n",
       "        text-align: right;\n",
       "    }\n",
       "</style>\n",
       "<table border=\"1\" class=\"dataframe\">\n",
       "  <thead>\n",
       "    <tr style=\"text-align: right;\">\n",
       "      <th></th>\n",
       "      <th>fold_id</th>\n",
       "      <th>title</th>\n",
       "      <th>description</th>\n",
       "      <th>text</th>\n",
       "      <th>category</th>\n",
       "      <th>source</th>\n",
       "    </tr>\n",
       "  </thead>\n",
       "  <tbody>\n",
       "    <tr>\n",
       "      <th>0</th>\n",
       "      <td>1</td>\n",
       "      <td>ziczac black red euro 44</td>\n",
       "      <td>clothing related products b2c shoes shoe laces</td>\n",
       "      <td>ziczac black red euro 44 clothing related prod...</td>\n",
       "      <td>R</td>\n",
       "      <td>valid</td>\n",
       "    </tr>\n",
       "    <tr>\n",
       "      <th>1</th>\n",
       "      <td>1</td>\n",
       "      <td>9x9 resista 484938</td>\n",
       "      <td>publishing printing printing services</td>\n",
       "      <td>9x9 resista 484938 publishing printing printin...</td>\n",
       "      <td>S</td>\n",
       "      <td>train</td>\n",
       "    </tr>\n",
       "    <tr>\n",
       "      <th>2</th>\n",
       "      <td>1</td>\n",
       "      <td>halle pant short inseam 013049561d0010001 02</td>\n",
       "      <td>clothing related products b2c general</td>\n",
       "      <td>halle pant short inseam 013049561d0010001 02 c...</td>\n",
       "      <td>R</td>\n",
       "      <td>train</td>\n",
       "    </tr>\n",
       "    <tr>\n",
       "      <th>3</th>\n",
       "      <td>1</td>\n",
       "      <td>harry houser travel expenses meals</td>\n",
       "      <td>security personnel</td>\n",
       "      <td>harry houser travel expenses meals security pe...</td>\n",
       "      <td>S</td>\n",
       "      <td>train</td>\n",
       "    </tr>\n",
       "    <tr>\n",
       "      <th>4</th>\n",
       "      <td>1</td>\n",
       "      <td>tee time 740078609 greens fee composite</td>\n",
       "      <td>admissions green fees privately owned golf course</td>\n",
       "      <td>tee time 740078609 greens fee composite admiss...</td>\n",
       "      <td>R</td>\n",
       "      <td>valid</td>\n",
       "    </tr>\n",
       "  </tbody>\n",
       "</table>\n",
       "</div>"
      ],
      "text/plain": [
       "   fold_id                                         title  \\\n",
       "0        1                      ziczac black red euro 44   \n",
       "1        1                            9x9 resista 484938   \n",
       "2        1  halle pant short inseam 013049561d0010001 02   \n",
       "3        1            harry houser travel expenses meals   \n",
       "4        1       tee time 740078609 greens fee composite   \n",
       "\n",
       "                                         description  \\\n",
       "0     clothing related products b2c shoes shoe laces   \n",
       "1              publishing printing printing services   \n",
       "2              clothing related products b2c general   \n",
       "3                                 security personnel   \n",
       "4  admissions green fees privately owned golf course   \n",
       "\n",
       "                                                text category source  \n",
       "0  ziczac black red euro 44 clothing related prod...        R  valid  \n",
       "1  9x9 resista 484938 publishing printing printin...        S  train  \n",
       "2  halle pant short inseam 013049561d0010001 02 c...        R  train  \n",
       "3  harry houser travel expenses meals security pe...        S  train  \n",
       "4  tee time 740078609 greens fee composite admiss...        R  valid  "
      ]
     },
     "execution_count": 10,
     "metadata": {},
     "output_type": "execute_result"
    }
   ],
   "source": [
    "train.head()"
   ]
  },
  {
   "cell_type": "code",
   "execution_count": 11,
   "metadata": {},
   "outputs": [],
   "source": [
    "K = 6"
   ]
  },
  {
   "cell_type": "code",
   "execution_count": 12,
   "metadata": {},
   "outputs": [],
   "source": [
    "list_classes = [\"target_R\", \"target_S\"]\n",
    "\n",
    "train[target] = train[target].map({\"R\": 0, \"S\": 1})\n",
    "train['target_S'] = np.nan\n",
    "train['target_R'] = np.nan\n",
    "train['target_R'] = 1 - train[target].values\n",
    "train['target_S'] = train[target].values\n",
    "\n",
    "train.drop([target], axis=1, inplace=True)"
   ]
  },
  {
   "cell_type": "code",
   "execution_count": 13,
   "metadata": {},
   "outputs": [],
   "source": [
    "test[target] = test[target].map({\"R\": 0, \"S\": 1})\n",
    "test['target_S'] = np.nan\n",
    "test['target_R'] = np.nan\n",
    "test['target_R'] = 1 - test[target].values\n",
    "test['target_S'] = test[target].values\n",
    "\n",
    "test.drop([target], axis=1, inplace=True)"
   ]
  },
  {
   "cell_type": "code",
   "execution_count": 14,
   "metadata": {},
   "outputs": [],
   "source": [
    "### Splitter\n",
    "\n",
    "def splitter(data, k=K):\n",
    "    \n",
    "    data_v1 = data[data['fold_id'] == k].copy()\n",
    "    data_v1.reset_index(drop=True, inplace=True)\n",
    "    \n",
    "    train_set = data_v1[data_v1['source'] == 'train'].copy()\n",
    "    valid_set = data_v1[data_v1['source'] == 'valid'].copy()\n",
    "    train_set.reset_index(drop=True, inplace=True)\n",
    "    valid_set.reset_index(drop=True, inplace=True)\n",
    "    \n",
    "    del data_v1\n",
    "    gc.collect()\n",
    "    \n",
    "#     print(train_set.shape, valid_set.shape)\n",
    "    \n",
    "    return train_set, valid_set, train_set[list_classes].values, valid_set[list_classes].values"
   ]
  },
  {
   "cell_type": "code",
   "execution_count": 15,
   "metadata": {},
   "outputs": [
    {
     "data": {
      "image/png": "[encoded data removed]",
      "text/plain": [
       "<Figure size 432x288 with 1 Axes>"
      ]
     },
     "metadata": {
      "needs_background": "light"
     },
     "output_type": "display_data"
    }
   ],
   "source": [
    "# visualize word length distribution\n",
    "train['doc_len'] = train['text'].apply(lambda words: len(words.split(\" \")))\n",
    "max_len = np.round(train['doc_len'].mean() + 2*train['doc_len'].std()).astype(int)\n",
    "\n",
    "sns.distplot(train['doc_len'], hist=True, kde=True, color='b', label='doc len')\n",
    "plt.axvline(x=max_len, color='k', linestyle='--', label='max len')\n",
    "plt.title('comment length')\n",
    "plt.legend()\n",
    "plt.show()"
   ]
  },
  {
   "cell_type": "code",
   "execution_count": 16,
   "metadata": {},
   "outputs": [
    {
     "data": {
      "text/plain": [
       "26"
      ]
     },
     "execution_count": 16,
     "metadata": {},
     "output_type": "execute_result"
    }
   ],
   "source": [
    "max_len"
   ]
  },
  {
   "cell_type": "code",
   "execution_count": 17,
   "metadata": {},
   "outputs": [],
   "source": [
    "embed_size = 300\n",
    "embedding_path = \"../input/glove840b300dtxt/glove.840B.300d.txt\"\n",
    "max_features = 100000\n",
    "max_len = 50\n",
    "\n",
    "BS = 128"
   ]
  },
  {
   "cell_type": "code",
   "execution_count": 22,
   "metadata": {},
   "outputs": [
    {
     "name": "stdout",
     "output_type": "stream",
     "text": [
      "(99371, 8) (20593, 8) (99371, 2) (20593, 2)\n"
     ]
    }
   ],
   "source": [
    "y_test = test[list_classes].values\n",
    "\n",
    "X_train, X_valid, y_new_train, y_new_valid = splitter(train)\n",
    "print(X_train.shape, X_valid.shape, y_new_train.shape, y_new_valid.shape)"
   ]
  },
  {
   "cell_type": "code",
   "execution_count": 23,
   "metadata": {},
   "outputs": [],
   "source": [
    "raw_text_train = X_train['text'].str.lower()\n",
    "raw_text_valid = X_valid['text'].str.lower()\n",
    "raw_text_test = test['text'].str.lower()"
   ]
  },
  {
   "cell_type": "code",
   "execution_count": 24,
   "metadata": {},
   "outputs": [
    {
     "name": "stdout",
     "output_type": "stream",
     "text": [
      "CPU times: user 6.81 s, sys: 54.4 ms, total: 6.87 s\n",
      "Wall time: 6.93 s\n"
     ]
    }
   ],
   "source": [
    "%%time\n",
    "\n",
    "tk = Tokenizer(num_words=max_features, lower=True)\n",
    "tk.fit_on_texts(raw_text_train.values.tolist() + raw_text_valid.values.tolist() + test['text'].values.tolist())\n",
    "X_train['seq'] = tk.texts_to_sequences(raw_text_train.values)\n",
    "X_valid['seq'] = tk.texts_to_sequences(raw_text_valid.values)\n",
    "test['seq'] = tk.texts_to_sequences(raw_text_test.values)\n",
    "\n",
    "X_train = pad_sequences(X_train.seq, maxlen=max_len)\n",
    "X_valid = pad_sequences(X_valid.seq, maxlen=max_len)\n",
    "test = pad_sequences(test.seq, maxlen=max_len)"
   ]
  },
  {
   "cell_type": "markdown",
   "metadata": {},
   "source": [
    "### Glove Baselining"
   ]
  },
  {
   "cell_type": "code",
   "execution_count": 41,
   "metadata": {},
   "outputs": [
    {
     "name": "stdout",
     "output_type": "stream",
     "text": [
      "CPU times: user 4min 40s, sys: 7.03 s, total: 4min 47s\n",
      "Wall time: 4min 47s\n"
     ]
    }
   ],
   "source": [
    "%%time\n",
    "\n",
    "# GloVE\n",
    "def get_coefs(word, *arr):\n",
    "    return word, np.asarray(arr, dtype=\"float32\")\n",
    "embedding_index = dict(get_coefs(*o.strip().split(\" \")) for o in open(embedding_path))"
   ]
  },
  {
   "cell_type": "code",
   "execution_count": 42,
   "metadata": {},
   "outputs": [
    {
     "name": "stderr",
     "output_type": "stream",
     "text": [
      "/opt/conda/lib/python3.7/site-packages/ipykernel_launcher.py:6: TqdmDeprecationWarning: This function will be removed in tqdm==5.0.0\n",
      "Please use `tqdm.notebook.tqdm` instead of `tqdm.tqdm_notebook`\n",
      "  \n"
     ]
    },
    {
     "data": {
      "application/vnd.jupyter.widget-view+json": {
       "model_id": "59e784ad1a794aada9a97b4a4c43f4c3",
       "version_major": 2,
       "version_minor": 0
      },
      "text/plain": [
       "HBox(children=(FloatProgress(value=0.0, max=157153.0), HTML(value='')))"
      ]
     },
     "metadata": {},
     "output_type": "display_data"
    },
    {
     "name": "stdout",
     "output_type": "stream",
     "text": [
      "\n",
      "Number of words : 100000\n",
      "Coverage : 28.82\n"
     ]
    }
   ],
   "source": [
    "word_index = tk.word_index\n",
    "nb_words = min(max_features, len(word_index))\n",
    "\n",
    "embedding_matrix = np.zeros((nb_words, embed_size))\n",
    "cnt = 0\n",
    "for word, i in tqdm_notebook(word_index.items()):\n",
    "    if i>= nb_words:\n",
    "        continue\n",
    "    embedding_vector = embedding_index.get(word)\n",
    "    if embedding_vector is not None:\n",
    "        embedding_matrix[i] = embedding_vector\n",
    "        cnt += 1\n",
    "\n",
    "cov = (cnt / nb_words)*100\n",
    "print(\"Number of words : {}\".format(nb_words))\n",
    "print(\"Coverage : {:.2f}\".format(cov))"
   ]
  },
  {
   "cell_type": "markdown",
   "metadata": {},
   "source": [
    "## Modelling Utils"
   ]
  },
  {
   "cell_type": "code",
   "execution_count": 43,
   "metadata": {},
   "outputs": [],
   "source": [
    "N_EPOCHS = 5"
   ]
  },
  {
   "cell_type": "markdown",
   "metadata": {},
   "source": [
    "## CNN"
   ]
  },
  {
   "cell_type": "code",
   "execution_count": 44,
   "metadata": {},
   "outputs": [],
   "source": [
    "def build_model_cnn(test, embedding_matrix, lr=0.0, lr_d=0.0, units=0, dr=0.0, filename=\"cnn\"):\n",
    "    \n",
    "    file_path = \"cnn-{epoch:02d}.hdf5\"\n",
    "    check_point = ModelCheckpoint(file_path, monitor=\"val_loss\", verbose=1, save_best_only=False, save_weights_only=True, mode='auto', period=1)\n",
    "    f1_val = F1Evaluation(validation_data=(X_valid, y_new_valid), test_data=(test, y_test), interval=1)\n",
    "    early_stop = EarlyStopping(monitor=\"val_loss\", mode=\"min\", patience=5)\n",
    "\n",
    "    inp = Input(shape=(max_len, ))\n",
    "\n",
    "    x = Embedding(nb_words, embed_size, weights=[embedding_matrix], trainable=False)(inp)\n",
    "    x = Conv1D(128, 3, activation='relu')(x)\n",
    "    x = MaxPooling1D(3)(x)\n",
    "    x = Dropout(0.2)(x)\n",
    "    x = Conv1D(64, 3, activation='relu')(x)\n",
    "    x = MaxPooling1D(3)(x)\n",
    "    x = Dropout(0.2)(x)\n",
    "    x = Conv1D(64, 3, activation='relu')(x)\n",
    "    x = Dropout(0.2)(x)\n",
    "    x = Flatten()(x)\n",
    "    x = Dense(2, activation='sigmoid')(x)\n",
    "    \n",
    "    model = Model(inputs=inp, outputs=x)\n",
    "    model.compile(loss=\"binary_crossentropy\", optimizer=Adam(lr=lr, decay=lr_d), metrics=['accuracy'])\n",
    "    history = model.fit(X_train, y_new_train, batch_size=BS, epochs=N_EPOCHS, validation_data=(X_valid, y_new_valid), verbose=1, \n",
    "                        callbacks=[f1_val, check_point, early_stop])\n",
    "    preds = model.predict(test, batch_size=1024, verbose=1)[:, 1]\n",
    "    \n",
    "    return model, preds"
   ]
  },
  {
   "cell_type": "code",
   "execution_count": 45,
   "metadata": {},
   "outputs": [
    {
     "name": "stdout",
     "output_type": "stream",
     "text": [
      "Train on 99371 samples, validate on 20593 samples\n",
      "Epoch 1/5\n",
      "99371/99371 [==============================] - 6s 57us/step - loss: 0.1861 - accuracy: 0.9076 - val_loss: 0.3564 - val_accuracy: 0.8594\n",
      "F1 : Epoch : 1 \t Valid Score : 0.9020 \t Test Score : 0.8430\n",
      "\n",
      "Epoch 00001: saving model to cnn-01.hdf5\n",
      "Epoch 2/5\n",
      "99371/99371 [==============================] - 5s 49us/step - loss: 0.1409 - accuracy: 0.9259 - val_loss: 0.4974 - val_accuracy: 0.8166\n",
      "F1 : Epoch : 2 \t Valid Score : 0.8667 \t Test Score : 0.8430\n",
      "\n",
      "Epoch 00002: saving model to cnn-02.hdf5\n",
      "Epoch 3/5\n",
      "99371/99371 [==============================] - 5s 49us/step - loss: 0.1259 - accuracy: 0.9306 - val_loss: 0.4154 - val_accuracy: 0.8544\n",
      "F1 : Epoch : 3 \t Valid Score : 0.9015 \t Test Score : 0.8430\n",
      "\n",
      "Epoch 00003: saving model to cnn-03.hdf5\n",
      "Epoch 4/5\n",
      "99371/99371 [==============================] - 5s 47us/step - loss: 0.1161 - accuracy: 0.9341 - val_loss: 0.5109 - val_accuracy: 0.8269\n",
      "F1 : Epoch : 4 \t Valid Score : 0.8756 \t Test Score : 0.8361\n",
      "\n",
      "Epoch 00004: saving model to cnn-04.hdf5\n",
      "Epoch 5/5\n",
      "99371/99371 [==============================] - 5s 48us/step - loss: 0.1105 - accuracy: 0.9364 - val_loss: 0.5716 - val_accuracy: 0.7906\n",
      "F1 : Epoch : 5 \t Valid Score : 0.8492 \t Test Score : 0.8480\n",
      "\n",
      "Epoch 00005: saving model to cnn-05.hdf5\n",
      "92/92 [==============================] - 0s 33us/step\n"
     ]
    }
   ],
   "source": [
    "lr = 1e-3\n",
    "lr_d = 0\n",
    "units = 128\n",
    "dr = 0.2\n",
    "\n",
    "model, preds = build_model_cnn(test, embedding_matrix, lr, lr_d, units, dr, filename=\"cnn\")"
   ]
  },
  {
   "cell_type": "code",
   "execution_count": 28,
   "metadata": {},
   "outputs": [],
   "source": [
    "sub = pd.DataFrame()\n",
    "sub['glove_pre'] = np.nan\n",
    "sub['fasttext_pre'] = np.nan\n",
    "sub['word2vec_pre'] = np.nan"
   ]
  },
  {
   "cell_type": "code",
   "execution_count": 47,
   "metadata": {},
   "outputs": [
    {
     "name": "stdout",
     "output_type": "stream",
     "text": [
      "\r",
      "92/92 [==============================] - 0s 26us/step\n"
     ]
    },
    {
     "data": {
      "text/html": [
       "<div>\n",
       "<style scoped>\n",
       "    .dataframe tbody tr th:only-of-type {\n",
       "        vertical-align: middle;\n",
       "    }\n",
       "\n",
       "    .dataframe tbody tr th {\n",
       "        vertical-align: top;\n",
       "    }\n",
       "\n",
       "    .dataframe thead th {\n",
       "        text-align: right;\n",
       "    }\n",
       "</style>\n",
       "<table border=\"1\" class=\"dataframe\">\n",
       "  <thead>\n",
       "    <tr style=\"text-align: right;\">\n",
       "      <th></th>\n",
       "      <th>glove_pre</th>\n",
       "      <th>fasttext_pre</th>\n",
       "      <th>word2vec_pre</th>\n",
       "    </tr>\n",
       "  </thead>\n",
       "  <tbody>\n",
       "    <tr>\n",
       "      <th>0</th>\n",
       "      <td>0.668374</td>\n",
       "      <td>0.513431</td>\n",
       "      <td>0.467357</td>\n",
       "    </tr>\n",
       "    <tr>\n",
       "      <th>1</th>\n",
       "      <td>0.985637</td>\n",
       "      <td>0.864065</td>\n",
       "      <td>0.287055</td>\n",
       "    </tr>\n",
       "    <tr>\n",
       "      <th>2</th>\n",
       "      <td>0.999998</td>\n",
       "      <td>0.999983</td>\n",
       "      <td>0.999927</td>\n",
       "    </tr>\n",
       "    <tr>\n",
       "      <th>3</th>\n",
       "      <td>1.000000</td>\n",
       "      <td>0.999967</td>\n",
       "      <td>0.999992</td>\n",
       "    </tr>\n",
       "    <tr>\n",
       "      <th>4</th>\n",
       "      <td>0.605352</td>\n",
       "      <td>0.844581</td>\n",
       "      <td>0.091629</td>\n",
       "    </tr>\n",
       "  </tbody>\n",
       "</table>\n",
       "</div>"
      ],
      "text/plain": [
       "   glove_pre  fasttext_pre  word2vec_pre\n",
       "0   0.668374      0.513431      0.467357\n",
       "1   0.985637      0.864065      0.287055\n",
       "2   0.999998      0.999983      0.999927\n",
       "3   1.000000      0.999967      0.999992\n",
       "4   0.605352      0.844581      0.091629"
      ]
     },
     "execution_count": 47,
     "metadata": {},
     "output_type": "execute_result"
    }
   ],
   "source": [
    "epoch_id = 5\n",
    "model_path = \"cnn-0{}.hdf5\".format(epoch_id)\n",
    "model.load_weights(model_path)\n",
    "preds = model.predict(test, batch_size=1024, verbose=1)[:, 1]\n",
    "sub['glove_pre'] = preds\n",
    "sub.head()"
   ]
  },
  {
   "cell_type": "markdown",
   "metadata": {},
   "source": [
    "## GloVe : \n",
    "\n",
    "Coverage : 28.90 (What??? This might be due to the higher unique words which could be Company names and service names which are very domain-specific (services and prodcuts) domain).\n",
    "\n",
    "Best Test - F1 : 0.8689 (Well lesser than our BOW words models)\n",
    "\n",
    "PS : **baselined by CNN becuase it veryyyy fast**"
   ]
  },
  {
   "cell_type": "markdown",
   "metadata": {},
   "source": [
    "### Word2Vec"
   ]
  },
  {
   "cell_type": "code",
   "execution_count": 29,
   "metadata": {},
   "outputs": [
    {
     "name": "stderr",
     "output_type": "stream",
     "text": [
      "/opt/conda/lib/python3.7/site-packages/ipykernel_launcher.py:6: DeprecationWarning: Call to deprecated `wv` (Attribute will be removed in 4.0.0, use self instead).\n",
      "  \n"
     ]
    },
    {
     "name": "stdout",
     "output_type": "stream",
     "text": [
      "Loaded 3000000 word vectors.\n"
     ]
    }
   ],
   "source": [
    "# Word2Vec\n",
    "import gensim.models.keyedvectors as word2vec\n",
    "\n",
    "word2vecDict = word2vec.KeyedVectors.load_word2vec_format(\"../input/googlenewsvectorsnegative300/GoogleNews-vectors-negative300.bin\", binary=True)\n",
    "embedding_index = dict()\n",
    "for word in word2vecDict.wv.vocab:\n",
    "    embedding_index[word] = word2vecDict.word_vec(word)\n",
    "print('Loaded {} word vectors.'.format(len(embedding_index)))"
   ]
  },
  {
   "cell_type": "code",
   "execution_count": 30,
   "metadata": {},
   "outputs": [
    {
     "name": "stderr",
     "output_type": "stream",
     "text": [
      "/opt/conda/lib/python3.7/site-packages/ipykernel_launcher.py:6: TqdmDeprecationWarning: This function will be removed in tqdm==5.0.0\n",
      "Please use `tqdm.notebook.tqdm` instead of `tqdm.tqdm_notebook`\n",
      "  \n"
     ]
    },
    {
     "data": {
      "application/vnd.jupyter.widget-view+json": {
       "model_id": "d9ca4815d8d14517a3515c2bc98df43f",
       "version_major": 2,
       "version_minor": 0
      },
      "text/plain": [
       "HBox(children=(FloatProgress(value=0.0, max=157153.0), HTML(value='')))"
      ]
     },
     "metadata": {},
     "output_type": "display_data"
    },
    {
     "name": "stdout",
     "output_type": "stream",
     "text": [
      "\n",
      "Number of words : 100000\n",
      "Coverage : 17.65\n"
     ]
    }
   ],
   "source": [
    "word_index = tk.word_index\n",
    "nb_words = min(max_features, len(word_index))\n",
    "\n",
    "embedding_matrix = np.zeros((nb_words, embed_size))\n",
    "cnt = 0\n",
    "for word, i in tqdm_notebook(word_index.items()):\n",
    "    if i>= nb_words:\n",
    "        continue\n",
    "    embedding_vector = embedding_index.get(word)\n",
    "    if embedding_vector is not None:\n",
    "        embedding_matrix[i] = embedding_vector\n",
    "        cnt += 1\n",
    "\n",
    "cov = (cnt / nb_words)*100\n",
    "print(\"Number of words : {}\".format(nb_words))\n",
    "print(\"Coverage : {:.2f}\".format(cov))"
   ]
  },
  {
   "cell_type": "code",
   "execution_count": 34,
   "metadata": {},
   "outputs": [
    {
     "name": "stdout",
     "output_type": "stream",
     "text": [
      "Train on 99371 samples, validate on 20593 samples\n",
      "Epoch 1/5\n",
      "99371/99371 [==============================] - 5s 51us/step - loss: 0.2018 - accuracy: 0.8963 - val_loss: 0.4103 - val_accuracy: 0.7953\n",
      "F1 : Epoch : 1 \t Valid Score : 0.8497 \t Test Score : 0.8525\n",
      "\n",
      "Epoch 00001: saving model to cnn-01.hdf5\n",
      "Epoch 2/5\n",
      "99371/99371 [==============================] - 5s 48us/step - loss: 0.1543 - accuracy: 0.9171 - val_loss: 0.5569 - val_accuracy: 0.7812\n",
      "F1 : Epoch : 2 \t Valid Score : 0.8372 \t Test Score : 0.8595\n",
      "\n",
      "Epoch 00002: saving model to cnn-02.hdf5\n",
      "Epoch 3/5\n",
      "99371/99371 [==============================] - 5s 52us/step - loss: 0.1387 - accuracy: 0.9218 - val_loss: 0.5714 - val_accuracy: 0.7475\n",
      "F1 : Epoch : 3 \t Valid Score : 0.8076 \t Test Score : 0.8099\n",
      "\n",
      "Epoch 00003: saving model to cnn-03.hdf5\n",
      "Epoch 4/5\n",
      "99371/99371 [==============================] - 5s 51us/step - loss: 0.1290 - accuracy: 0.9261 - val_loss: 0.6144 - val_accuracy: 0.7902\n",
      "F1 : Epoch : 4 \t Valid Score : 0.8462 \t Test Score : 0.8595\n",
      "\n",
      "Epoch 00004: saving model to cnn-04.hdf5\n",
      "Epoch 5/5\n",
      "99371/99371 [==============================] - 5s 49us/step - loss: 0.1218 - accuracy: 0.9287 - val_loss: 0.6339 - val_accuracy: 0.7526\n",
      "F1 : Epoch : 5 \t Valid Score : 0.8141 \t Test Score : 0.8293\n",
      "\n",
      "Epoch 00005: saving model to cnn-05.hdf5\n",
      "92/92 [==============================] - 0s 41us/step\n"
     ]
    }
   ],
   "source": [
    "lr = 1e-3\n",
    "lr_d = 0\n",
    "units = 128\n",
    "dr = 0.2\n",
    "\n",
    "model, preds = build_model_cnn(test, embedding_matrix, lr, lr_d, units, dr, filename=\"cnn\")"
   ]
  },
  {
   "cell_type": "code",
   "execution_count": 36,
   "metadata": {},
   "outputs": [
    {
     "name": "stdout",
     "output_type": "stream",
     "text": [
      "\r",
      "92/92 [==============================] - 0s 33us/step\n"
     ]
    },
    {
     "data": {
      "text/html": [
       "<div>\n",
       "<style scoped>\n",
       "    .dataframe tbody tr th:only-of-type {\n",
       "        vertical-align: middle;\n",
       "    }\n",
       "\n",
       "    .dataframe tbody tr th {\n",
       "        vertical-align: top;\n",
       "    }\n",
       "\n",
       "    .dataframe thead th {\n",
       "        text-align: right;\n",
       "    }\n",
       "</style>\n",
       "<table border=\"1\" class=\"dataframe\">\n",
       "  <thead>\n",
       "    <tr style=\"text-align: right;\">\n",
       "      <th></th>\n",
       "      <th>glove_pre</th>\n",
       "      <th>fasttext_pre</th>\n",
       "      <th>word2vec_pre</th>\n",
       "    </tr>\n",
       "  </thead>\n",
       "  <tbody>\n",
       "    <tr>\n",
       "      <th>0</th>\n",
       "      <td>NaN</td>\n",
       "      <td>NaN</td>\n",
       "      <td>0.467357</td>\n",
       "    </tr>\n",
       "    <tr>\n",
       "      <th>1</th>\n",
       "      <td>NaN</td>\n",
       "      <td>NaN</td>\n",
       "      <td>0.287055</td>\n",
       "    </tr>\n",
       "    <tr>\n",
       "      <th>2</th>\n",
       "      <td>NaN</td>\n",
       "      <td>NaN</td>\n",
       "      <td>0.999927</td>\n",
       "    </tr>\n",
       "    <tr>\n",
       "      <th>3</th>\n",
       "      <td>NaN</td>\n",
       "      <td>NaN</td>\n",
       "      <td>0.999992</td>\n",
       "    </tr>\n",
       "    <tr>\n",
       "      <th>4</th>\n",
       "      <td>NaN</td>\n",
       "      <td>NaN</td>\n",
       "      <td>0.091629</td>\n",
       "    </tr>\n",
       "  </tbody>\n",
       "</table>\n",
       "</div>"
      ],
      "text/plain": [
       "   glove_pre  fasttext_pre  word2vec_pre\n",
       "0        NaN           NaN      0.467357\n",
       "1        NaN           NaN      0.287055\n",
       "2        NaN           NaN      0.999927\n",
       "3        NaN           NaN      0.999992\n",
       "4        NaN           NaN      0.091629"
      ]
     },
     "execution_count": 36,
     "metadata": {},
     "output_type": "execute_result"
    }
   ],
   "source": [
    "epoch_id = 4\n",
    "model_path = \"cnn-0{}.hdf5\".format(epoch_id)\n",
    "model.load_weights(model_path)\n",
    "preds = model.predict(test, batch_size=1024, verbose=1)[:, 1]\n",
    "sub['word2vec_pre'] = preds\n",
    "sub.head()"
   ]
  },
  {
   "cell_type": "markdown",
   "metadata": {},
   "source": [
    "## Word2Vec : \n",
    "\n",
    "Coverage : 17.65\n",
    "\n",
    "Best Test - F1 : **0.8595**\n",
    "\n",
    "PS : **baselined by CNN becuase it veryyyy fast**"
   ]
  },
  {
   "cell_type": "markdown",
   "metadata": {},
   "source": [
    "### FastText"
   ]
  },
  {
   "cell_type": "code",
   "execution_count": 37,
   "metadata": {},
   "outputs": [
    {
     "name": "stderr",
     "output_type": "stream",
     "text": [
      "/opt/conda/lib/python3.7/site-packages/ipykernel_launcher.py:4: TqdmDeprecationWarning: This function will be removed in tqdm==5.0.0\n",
      "Please use `tqdm.notebook.tqdm` instead of `tqdm.tqdm_notebook`\n",
      "  after removing the cwd from sys.path.\n"
     ]
    },
    {
     "data": {
      "application/vnd.jupyter.widget-view+json": {
       "model_id": "5f431225c5d84adc8b847bcaf844b77e",
       "version_major": 2,
       "version_minor": 0
      },
      "text/plain": [
       "HBox(children=(FloatProgress(value=1.0, bar_style='info', max=1.0), HTML(value='')))"
      ]
     },
     "metadata": {},
     "output_type": "display_data"
    },
    {
     "name": "stdout",
     "output_type": "stream",
     "text": [
      "\n",
      "Loaded 111052 word vectors\n"
     ]
    }
   ],
   "source": [
    "# FastText\n",
    "embedding_index = {}\n",
    "f = codecs.open('../input/fasttext/wiki.simple.vec', encoding='utf-8')\n",
    "for line in tqdm_notebook(f):\n",
    "    values = line.rstrip().rsplit(' ')\n",
    "    word = values[0]\n",
    "    coefs = np.asarray(values[1:], dtype='float32')\n",
    "    embedding_index[word] = coefs\n",
    "f.close()\n",
    "print('Loaded {} word vectors'.format(len(embedding_index)))"
   ]
  },
  {
   "cell_type": "code",
   "execution_count": 38,
   "metadata": {},
   "outputs": [
    {
     "name": "stderr",
     "output_type": "stream",
     "text": [
      "/opt/conda/lib/python3.7/site-packages/ipykernel_launcher.py:6: TqdmDeprecationWarning: This function will be removed in tqdm==5.0.0\n",
      "Please use `tqdm.notebook.tqdm` instead of `tqdm.tqdm_notebook`\n",
      "  \n"
     ]
    },
    {
     "data": {
      "application/vnd.jupyter.widget-view+json": {
       "model_id": "7f45fabb065a4e82998450a1eea311ed",
       "version_major": 2,
       "version_minor": 0
      },
      "text/plain": [
       "HBox(children=(FloatProgress(value=0.0, max=157153.0), HTML(value='')))"
      ]
     },
     "metadata": {},
     "output_type": "display_data"
    },
    {
     "name": "stdout",
     "output_type": "stream",
     "text": [
      "\n",
      "Number of words : 100000\n",
      "Coverage : 17.18\n"
     ]
    }
   ],
   "source": [
    "word_index = tk.word_index\n",
    "nb_words = min(max_features, len(word_index))\n",
    "\n",
    "embedding_matrix = np.zeros((nb_words, embed_size))\n",
    "cnt = 0\n",
    "for word, i in tqdm_notebook(word_index.items()):\n",
    "    if i>= nb_words:\n",
    "        continue\n",
    "    embedding_vector = embedding_index.get(word)\n",
    "    if embedding_vector is not None:\n",
    "        embedding_matrix[i] = embedding_vector\n",
    "        cnt += 1\n",
    "\n",
    "cov = (cnt / nb_words)*100\n",
    "print(\"Number of words : {}\".format(nb_words))\n",
    "print(\"Coverage : {:.2f}\".format(cov))"
   ]
  },
  {
   "cell_type": "code",
   "execution_count": 39,
   "metadata": {},
   "outputs": [
    {
     "name": "stdout",
     "output_type": "stream",
     "text": [
      "Train on 99371 samples, validate on 20593 samples\n",
      "Epoch 1/5\n",
      "99371/99371 [==============================] - 5s 53us/step - loss: 0.2068 - accuracy: 0.8927 - val_loss: 0.5973 - val_accuracy: 0.7326\n",
      "F1 : Epoch : 1 \t Valid Score : 0.7956 \t Test Score : 0.8067\n",
      "\n",
      "Epoch 00001: saving model to cnn-01.hdf5\n",
      "Epoch 2/5\n",
      "99371/99371 [==============================] - 5s 46us/step - loss: 0.1585 - accuracy: 0.9125 - val_loss: 0.5578 - val_accuracy: 0.7494\n",
      "F1 : Epoch : 2 \t Valid Score : 0.8089 \t Test Score : 0.8160\n",
      "\n",
      "Epoch 00002: saving model to cnn-02.hdf5\n",
      "Epoch 3/5\n",
      "99371/99371 [==============================] - 5s 49us/step - loss: 0.1425 - accuracy: 0.9185 - val_loss: 0.6832 - val_accuracy: 0.7399\n",
      "F1 : Epoch : 3 \t Valid Score : 0.8001 \t Test Score : 0.8130\n",
      "\n",
      "Epoch 00003: saving model to cnn-03.hdf5\n",
      "Epoch 4/5\n",
      "99371/99371 [==============================] - 5s 46us/step - loss: 0.1334 - accuracy: 0.9216 - val_loss: 0.5942 - val_accuracy: 0.8012\n",
      "F1 : Epoch : 4 \t Valid Score : 0.8548 \t Test Score : 0.7899\n",
      "\n",
      "Epoch 00004: saving model to cnn-04.hdf5\n",
      "Epoch 5/5\n",
      "99371/99371 [==============================] - 5s 49us/step - loss: 0.1256 - accuracy: 0.9249 - val_loss: 0.5285 - val_accuracy: 0.8771\n",
      "F1 : Epoch : 5 \t Valid Score : 0.9149 \t Test Score : 0.8065\n",
      "\n",
      "Epoch 00005: saving model to cnn-05.hdf5\n",
      "92/92 [==============================] - 0s 45us/step\n"
     ]
    }
   ],
   "source": [
    "lr = 1e-3\n",
    "lr_d = 0\n",
    "units = 128\n",
    "dr = 0.2\n",
    "\n",
    "model, preds = build_model_cnn(test, embedding_matrix, lr, lr_d, units, dr, filename=\"cnn\")"
   ]
  },
  {
   "cell_type": "code",
   "execution_count": 40,
   "metadata": {},
   "outputs": [
    {
     "name": "stdout",
     "output_type": "stream",
     "text": [
      "\r",
      "92/92 [==============================] - 0s 25us/step\n"
     ]
    },
    {
     "data": {
      "text/html": [
       "<div>\n",
       "<style scoped>\n",
       "    .dataframe tbody tr th:only-of-type {\n",
       "        vertical-align: middle;\n",
       "    }\n",
       "\n",
       "    .dataframe tbody tr th {\n",
       "        vertical-align: top;\n",
       "    }\n",
       "\n",
       "    .dataframe thead th {\n",
       "        text-align: right;\n",
       "    }\n",
       "</style>\n",
       "<table border=\"1\" class=\"dataframe\">\n",
       "  <thead>\n",
       "    <tr style=\"text-align: right;\">\n",
       "      <th></th>\n",
       "      <th>glove_pre</th>\n",
       "      <th>fasttext_pre</th>\n",
       "      <th>word2vec_pre</th>\n",
       "    </tr>\n",
       "  </thead>\n",
       "  <tbody>\n",
       "    <tr>\n",
       "      <th>0</th>\n",
       "      <td>NaN</td>\n",
       "      <td>0.513431</td>\n",
       "      <td>0.467357</td>\n",
       "    </tr>\n",
       "    <tr>\n",
       "      <th>1</th>\n",
       "      <td>NaN</td>\n",
       "      <td>0.864065</td>\n",
       "      <td>0.287055</td>\n",
       "    </tr>\n",
       "    <tr>\n",
       "      <th>2</th>\n",
       "      <td>NaN</td>\n",
       "      <td>0.999983</td>\n",
       "      <td>0.999927</td>\n",
       "    </tr>\n",
       "    <tr>\n",
       "      <th>3</th>\n",
       "      <td>NaN</td>\n",
       "      <td>0.999967</td>\n",
       "      <td>0.999992</td>\n",
       "    </tr>\n",
       "    <tr>\n",
       "      <th>4</th>\n",
       "      <td>NaN</td>\n",
       "      <td>0.844581</td>\n",
       "      <td>0.091629</td>\n",
       "    </tr>\n",
       "  </tbody>\n",
       "</table>\n",
       "</div>"
      ],
      "text/plain": [
       "   glove_pre  fasttext_pre  word2vec_pre\n",
       "0        NaN      0.513431      0.467357\n",
       "1        NaN      0.864065      0.287055\n",
       "2        NaN      0.999983      0.999927\n",
       "3        NaN      0.999967      0.999992\n",
       "4        NaN      0.844581      0.091629"
      ]
     },
     "execution_count": 40,
     "metadata": {},
     "output_type": "execute_result"
    }
   ],
   "source": [
    "epoch_id = 2\n",
    "model_path = \"cnn-0{}.hdf5\".format(epoch_id)\n",
    "model.load_weights(model_path)\n",
    "preds = model.predict(test, batch_size=1024, verbose=1)[:, 1]\n",
    "sub['fasttext_pre'] = preds\n",
    "sub.head()"
   ]
  },
  {
   "cell_type": "markdown",
   "metadata": {},
   "source": [
    "## FastText : \n",
    "\n",
    "Coverage : 17.32\n",
    "\n",
    "Best F1 Test Score : **0.8160**\n",
    "\n",
    "PS : **baselined by CNN**"
   ]
  },
  {
   "cell_type": "code",
   "execution_count": null,
   "metadata": {},
   "outputs": [],
   "source": [
    "sub.to_csv(\"pretrained_emb.csv\", index=False)"
   ]
  },
  {
   "cell_type": "markdown",
   "metadata": {},
   "source": [
    "# Compute-Heavy Approach to increase the coverage\n",
    "\n",
    "This might increase the coverage of the pre-trained embeddings most probably leading to an increase in F1 as well."
   ]
  },
  {
   "cell_type": "code",
   "execution_count": 46,
   "metadata": {},
   "outputs": [],
   "source": [
    "from nltk.stem import PorterStemmer\n",
    "ps = PorterStemmer()\n",
    "from nltk.stem.lancaster import LancasterStemmer\n",
    "lc = LancasterStemmer()\n",
    "from nltk.stem import SnowballStemmer\n",
    "sb = SnowballStemmer(\"english\")\n",
    "\n",
    "def load_glove(word_dict, lemma_dict):\n",
    "    EMBEDDING_FILE = '../input/embeddings/glove.840B.300d/glove.840B.300d.txt'\n",
    "    def get_coefs(word,*arr): return word, np.asarray(arr, dtype='float32')\n",
    "    embeddings_index = dict(get_coefs(*o.split(\" \")) for o in open(EMBEDDING_FILE))\n",
    "    embed_size = 300\n",
    "    nb_words = len(word_dict)+1\n",
    "    embedding_matrix = np.zeros((nb_words, embed_size), dtype=np.float32)\n",
    "    unknown_vector = np.zeros((embed_size,), dtype=np.float32) - 1.\n",
    "    print(unknown_vector[:5])\n",
    "    for key in tqdm(word_dict):\n",
    "        word = key\n",
    "        embedding_vector = embeddings_index.get(word)\n",
    "        if embedding_vector is not None:\n",
    "            embedding_matrix[word_dict[key]] = embedding_vector\n",
    "            continue\n",
    "        word = key.lower()\n",
    "        embedding_vector = embeddings_index.get(word)\n",
    "        if embedding_vector is not None:\n",
    "            embedding_matrix[word_dict[key]] = embedding_vector\n",
    "            continue\n",
    "        word = key.upper()\n",
    "        embedding_vector = embeddings_index.get(word)\n",
    "        if embedding_vector is not None:\n",
    "            embedding_matrix[word_dict[key]] = embedding_vector\n",
    "            continue\n",
    "        word = key.capitalize()\n",
    "        embedding_vector = embeddings_index.get(word)\n",
    "        if embedding_vector is not None:\n",
    "            embedding_matrix[word_dict[key]] = embedding_vector\n",
    "            continue\n",
    "        word = ps.stem(key)\n",
    "        embedding_vector = embeddings_index.get(word)\n",
    "        if embedding_vector is not None:\n",
    "            embedding_matrix[word_dict[key]] = embedding_vector\n",
    "            continue\n",
    "        word = lc.stem(key)\n",
    "        embedding_vector = embeddings_index.get(word)\n",
    "        if embedding_vector is not None:\n",
    "            embedding_matrix[word_dict[key]] = embedding_vector\n",
    "            continue\n",
    "        word = sb.stem(key)\n",
    "        embedding_vector = embeddings_index.get(word)\n",
    "        if embedding_vector is not None:\n",
    "            embedding_matrix[word_dict[key]] = embedding_vector\n",
    "            continue\n",
    "        word = lemma_dict[key]\n",
    "        embedding_vector = embeddings_index.get(word)\n",
    "        if embedding_vector is not None:\n",
    "            embedding_matrix[word_dict[key]] = embedding_vector\n",
    "            continue\n",
    "        if len(key) > 1:\n",
    "            word = correction(key)\n",
    "            embedding_vector = embeddings_index.get(word)\n",
    "            if embedding_vector is not None:\n",
    "                embedding_matrix[word_dict[key]] = embedding_vector\n",
    "                continue\n",
    "        embedding_matrix[word_dict[key]] = unknown_vector                    \n",
    "    return embedding_matrix, nb_words "
   ]
  },
  {
   "cell_type": "markdown",
   "metadata": {},
   "source": [
    "# Conclusion\n",
    "\n",
    "| Embedding  | Coverage  | F1  |\n",
    "|---|---|---|\n",
    "| Word2Vec  | 17.65  | 0.8595  |\n",
    "| FastText  | 17.32  | 0.8160  |\n",
    "| GloVe  | 28.82  | 0.8480  |\n",
    "\n",
    "---\n",
    "\n",
    "It seems that Word2Vec works best in these three pre-trained models but still lesser than our BOW Models.\n",
    "\n",
    "Reason : The reason for this might be because our task is to classify a product category based on its title and description and usually the products titles and description are not written in a semantic way rather its written in such a way which capture most of the important keywords representing the product. So the BOW models are better both in compute power as well as accuracy."
   ]
  },
  {
   "cell_type": "code",
   "execution_count": null,
   "metadata": {},
   "outputs": [],
   "source": []
  }
 ],
 "metadata": {
  "kernelspec": {
   "display_name": "Python 3",
   "language": "python",
   "name": "python3"
  },
  "language_info": {
   "codemirror_mode": {
    "name": "ipython",
    "version": 3
   },
   "file_extension": ".py",
   "mimetype": "text/x-python",
   "name": "python",
   "nbconvert_exporter": "python",
   "pygments_lexer": "ipython3",
   "version": "3.7.3"
  }
 },
 "nbformat": 4,
 "nbformat_minor": 4
}

{
 "cells": [
  {
   "cell_type": "code",
   "execution_count": 231,
   "metadata": {
    "_cell_guid": "b1076dfc-b9ad-4769-8c92-a6c4dae69d19",
    "_uuid": "8f2839f25d086af736a60e9eeb907d3b93b6e0e5"
   },
   "outputs": [],
   "source": [
    "import os\n",
    "import re\n",
    "import gc\n",
    "import ast\n",
    "import csv\n",
    "import sys \n",
    "import time\n",
    "import codecs\n",
    "import string\n",
    "import logging\n",
    "import numpy as np\n",
    "import pandas as pd\n",
    "\n",
    "from sklearn.preprocessing import LabelEncoder\n",
    "from sklearn.metrics import f1_score, roc_auc_score\n",
    "from sklearn.model_selection import train_test_split, cross_val_score, StratifiedKFold, GroupShuffleSplit\n",
    "from sklearn.feature_extraction.text import TfidfVectorizer, CountVectorizer\n",
    "\n",
    "# Classification models\n",
    "from sklearn.linear_model import LogisticRegression\n",
    "from sklearn.naive_bayes import GaussianNB\n",
    "from sklearn.neighbors import KNeighborsClassifier\n",
    "from sklearn.tree import DecisionTreeClassifier, ExtraTreeClassifier\n",
    "from sklearn.ensemble import RandomForestClassifier, AdaBoostClassifier, BaggingClassifier, ExtraTreesClassifier, GradientBoostingClassifier\n",
    "\n",
    "import xgboost as xgb\n",
    "import lightgbm as lgb\n",
    "import catboost as cat\n",
    "\n",
    "from keras.preprocessing.text import Tokenizer\n",
    "from keras.preprocessing.sequence import pad_sequences\n",
    "from keras.layers import Input, Bidirectional, Dense, LSTM, Embedding, Dropout, Activation, Lambda\n",
    "from keras.layers import Add, Flatten, BatchNormalization, concatenate, SpatialDropout1D\n",
    "from keras.layers import Conv1D, GlobalMaxPool1D, GlobalAveragePooling1D, GlobalMaxPooling1D, MaxPooling1D, MaxPool1D\n",
    "from keras.models import Model, load_model\n",
    "from keras import initializers, regularizers, constraints, optimizers, layers, callbacks\n",
    "from keras import backend as Ke\n",
    "from keras.engine import InputSpec, Layer\n",
    "from keras.callbacks import Callback, EarlyStopping, ModelCheckpoint, LearningRateScheduler\n",
    "from keras.optimizers import Adam, RMSprop\n",
    "\n",
    "from scipy.spatial.distance import cosine\n",
    "from gensim.models import Word2Vec, KeyedVectors\n",
    "\n",
    "from tqdm import tqdm, tqdm_notebook\n",
    "tqdm.pandas()\n",
    "\n",
    "import joblib\n",
    "import matplotlib.pyplot as plt\n",
    "import seaborn as sns\n",
    "%matplotlib inline\n",
    "\n",
    "pd.options.display.max_colwidth = 200\n",
    "pd.options.display.max_rows = 100\n",
    "\n",
    "start_time = time.time()\n",
    "np.random.seed(32)\n",
    "os.environ[\"OMP_NUM_THREADS\"] = \"4\"\n",
    "\n",
    "import warnings\n",
    "warnings.simplefilter('ignore')"
   ]
  },
  {
   "cell_type": "code",
   "execution_count": 168,
   "metadata": {},
   "outputs": [],
   "source": [
    "from nltk import WordNetLemmatizer\n",
    "from nltk.corpus import stopwords\n",
    "\n",
    "import unidecode\n",
    "import codecs\n",
    "import spacy"
   ]
  },
  {
   "cell_type": "code",
   "execution_count": 169,
   "metadata": {
    "_cell_guid": "79c7e3d0-c299-4dcb-8224-4455121ee9b0",
    "_uuid": "d629ff2d2480ee46fbb7e2d37f6b5fab8052498a"
   },
   "outputs": [],
   "source": [
    "def get_data():\n",
    "    train = pd.read_csv(\"/kaggle/input/avalaraproduct-classification/train.tsv\", sep=\"\\t\")\n",
    "    test = pd.read_csv(\"/kaggle/input/avalaraproduct-classification/test.csv\", sep=\"\\t\")\n",
    "    \n",
    "    print(\"Train Shape : {}\\nTest Shape :  {}\".format(train.shape, test.shape))\n",
    "    \n",
    "    return train, test"
   ]
  },
  {
   "cell_type": "code",
   "execution_count": 170,
   "metadata": {},
   "outputs": [
    {
     "name": "stdout",
     "output_type": "stream",
     "text": [
      "Train Shape : (1200000, 3)\n",
      "Test Shape :  (92, 3)\n"
     ]
    },
    {
     "data": {
      "text/html": [
       "<div>\n",
       "<style scoped>\n",
       "    .dataframe tbody tr th:only-of-type {\n",
       "        vertical-align: middle;\n",
       "    }\n",
       "\n",
       "    .dataframe tbody tr th {\n",
       "        vertical-align: top;\n",
       "    }\n",
       "\n",
       "    .dataframe thead th {\n",
       "        text-align: right;\n",
       "    }\n",
       "</style>\n",
       "<table border=\"1\" class=\"dataframe\">\n",
       "  <thead>\n",
       "    <tr style=\"text-align: right;\">\n",
       "      <th></th>\n",
       "      <th>title</th>\n",
       "      <th>description</th>\n",
       "      <th>category</th>\n",
       "    </tr>\n",
       "  </thead>\n",
       "  <tbody>\n",
       "    <tr>\n",
       "      <th>0</th>\n",
       "      <td>ZicZac // Black + Red (Euro: 44)</td>\n",
       "      <td>Clothing &amp; related products (B2C) - Shoes and shoe laces</td>\n",
       "      <td>R</td>\n",
       "    </tr>\n",
       "    <tr>\n",
       "      <th>1</th>\n",
       "      <td>9X9 RESISTA/484938</td>\n",
       "      <td>Publishing/Printing - Printing Services</td>\n",
       "      <td>S</td>\n",
       "    </tr>\n",
       "    <tr>\n",
       "      <th>2</th>\n",
       "      <td>Halle Pant - Short Inseam 013049561D0010001_ 02</td>\n",
       "      <td>Clothing &amp; related products (B2C) - General</td>\n",
       "      <td>R</td>\n",
       "    </tr>\n",
       "    <tr>\n",
       "      <th>3</th>\n",
       "      <td>Harry Houser Travel Expenses - Meals</td>\n",
       "      <td>Security - personnel</td>\n",
       "      <td>S</td>\n",
       "    </tr>\n",
       "    <tr>\n",
       "      <th>4</th>\n",
       "      <td>Tee Time: 740078609 : Greens Fee - Composite</td>\n",
       "      <td>Admissions - Green Fees for Privately Owned Golf Course</td>\n",
       "      <td>R</td>\n",
       "    </tr>\n",
       "  </tbody>\n",
       "</table>\n",
       "</div>"
      ],
      "text/plain": [
       "                                             title  \\\n",
       "0                 ZicZac // Black + Red (Euro: 44)   \n",
       "1                               9X9 RESISTA/484938   \n",
       "2  Halle Pant - Short Inseam 013049561D0010001_ 02   \n",
       "3             Harry Houser Travel Expenses - Meals   \n",
       "4     Tee Time: 740078609 : Greens Fee - Composite   \n",
       "\n",
       "                                                description category  \n",
       "0  Clothing & related products (B2C) - Shoes and shoe laces        R  \n",
       "1                   Publishing/Printing - Printing Services        S  \n",
       "2               Clothing & related products (B2C) - General        R  \n",
       "3                                      Security - personnel        S  \n",
       "4   Admissions - Green Fees for Privately Owned Golf Course        R  "
      ]
     },
     "execution_count": 170,
     "metadata": {},
     "output_type": "execute_result"
    }
   ],
   "source": [
    "train, test = get_data()\n",
    "train.head()"
   ]
  },
  {
   "cell_type": "code",
   "execution_count": 171,
   "metadata": {},
   "outputs": [],
   "source": [
    "train.dropna(inplace=True)"
   ]
  },
  {
   "cell_type": "code",
   "execution_count": 172,
   "metadata": {},
   "outputs": [
    {
     "name": "stdout",
     "output_type": "stream",
     "text": [
      "Split : 1\n",
      "------------------------------------------------------------\n",
      "Split : 2\n",
      "------------------------------------------------------------\n",
      "Split : 3\n",
      "------------------------------------------------------------\n",
      "Split : 4\n",
      "------------------------------------------------------------\n",
      "Split : 5\n",
      "------------------------------------------------------------\n",
      "Split : 6\n",
      "------------------------------------------------------------\n",
      "Split : 7\n",
      "------------------------------------------------------------\n",
      "Split : 8\n",
      "------------------------------------------------------------\n",
      "Split : 9\n",
      "------------------------------------------------------------\n",
      "Split : 10\n",
      "------------------------------------------------------------\n"
     ]
    },
    {
     "data": {
      "application/vnd.jupyter.widget-view+json": {
       "model_id": "d4523409f7d24d64bc14a3ec50839ec5",
       "version_major": 2,
       "version_minor": 0
      },
      "text/plain": [
       "HBox(children=(FloatProgress(value=0.0, max=10.0), HTML(value='')))"
      ]
     },
     "metadata": {},
     "output_type": "display_data"
    },
    {
     "name": "stdout",
     "output_type": "stream",
     "text": [
      "0\n",
      "0\n",
      "0\n",
      "0\n",
      "0\n",
      "0\n",
      "0\n",
      "0\n",
      "0\n",
      "0\n",
      "\n"
     ]
    }
   ],
   "source": [
    "skf = StratifiedKFold(n_splits=10, random_state=13)\n",
    "\n",
    "train['fold_id'] = np.nan\n",
    "\n",
    "for i, (trn_idx, val_idx) in enumerate(skf.split(train, train['category']), 1):\n",
    "    print(\"Split : {}\".format(i))\n",
    "    train['fold_id'].iloc[val_idx] = i\n",
    "    print(\"--\"*30)\n",
    "train['fold_id'] = train['fold_id'].astype(np.int)\n",
    "\n",
    "train['source'] = np.nan\n",
    "\n",
    "new_df = pd.DataFrame()\n",
    "\n",
    "for i in tqdm_notebook(train['fold_id'].unique()):\n",
    "#     print(i)\n",
    "    gss = GroupShuffleSplit(n_splits=1, test_size=0.2, random_state=13)\n",
    "    train_subsample = train[train['fold_id'] == i].copy()\n",
    "    train_subsample.reset_index(drop=True, inplace=True)\n",
    "    \n",
    "    for idx, (trn_idx, val_idx) in enumerate(gss.split(\n",
    "        X=train_subsample, y=train_subsample['category'], groups=train_subsample['description'])):\n",
    "        \n",
    "        train_set = train_subsample.iloc[trn_idx]\n",
    "        valid_set = train_subsample.iloc[val_idx]\n",
    "\n",
    "        train_subsample['source'].iloc[trn_idx] = \"train\"\n",
    "        train_subsample['source'].iloc[val_idx] = \"valid\"\n",
    "        \n",
    "        print(len(set.intersection(set(train_set['description'].values), set(valid_set['description'].values))))\n",
    "    new_df = pd.concat([new_df, train_subsample], axis=0)\n",
    "    new_df.reset_index(drop=True, inplace=True)\n",
    "#     print(new_df.shape)"
   ]
  },
  {
   "cell_type": "code",
   "execution_count": 173,
   "metadata": {},
   "outputs": [
    {
     "data": {
      "text/plain": [
       "title          0\n",
       "description    0\n",
       "category       0\n",
       "fold_id        0\n",
       "source         0\n",
       "dtype: int64"
      ]
     },
     "execution_count": 173,
     "metadata": {},
     "output_type": "execute_result"
    }
   ],
   "source": [
    "train = new_df.copy()\n",
    "del new_df\n",
    "gc.collect()\n",
    "\n",
    "train.isnull().sum()"
   ]
  },
  {
   "cell_type": "code",
   "execution_count": 174,
   "metadata": {},
   "outputs": [],
   "source": [
    "train.to_csv(\"train_10_skf.csv\", index=False)"
   ]
  },
  {
   "cell_type": "code",
   "execution_count": 175,
   "metadata": {},
   "outputs": [],
   "source": [
    "K = 1"
   ]
  },
  {
   "cell_type": "code",
   "execution_count": 176,
   "metadata": {},
   "outputs": [],
   "source": [
    "def get_data():\n",
    "    train = pd.read_csv(\"train_10_skf.csv\")\n",
    "    test = pd.read_csv(\"/kaggle/input/avalaraproduct-classification/test.csv\", sep=\"\\t\")\n",
    "    \n",
    "    print(\"Train Shape : {}\\nTest Shape :  {}\".format(train.shape, test.shape))\n",
    "    \n",
    "    return train, test"
   ]
  },
  {
   "cell_type": "code",
   "execution_count": 177,
   "metadata": {},
   "outputs": [],
   "source": [
    "test.fillna(\"none\", inplace=True)"
   ]
  },
  {
   "cell_type": "code",
   "execution_count": 178,
   "metadata": {},
   "outputs": [],
   "source": [
    "wnl = WordNetLemmatizer()\n",
    "\n",
    "contraction_mapping = {\"ain't\": \"is not\", \"aren't\": \"are not\",\"can't\": \"cannot\", \"can't've\": \"cannot have\", \"'cause\": \"because\", \"could've\": \"could have\", \"couldn't\": \"could not\", \"couldn't've\": \"could not have\",\"didn't\": \"did not\",  \"doesn't\": \"does not\", \"don't\": \"do not\", \"hadn't\": \"had not\", \"hadn't've\": \"had not have\", \"hasn't\": \"has not\", \"haven't\": \"have not\",  \"he'd\": \"he would\", \"he'd've\": \"he would have\", \"he'll\": \"he will\", \"he'll've\": \"he will have\", \"he's\": \"he is\", \"how'd\": \"how did\", \"how'd'y\": \"how do you\", \"how'll\": \"how will\", \"how's\": \"how is\",  \"I'd\": \"I would\", \"I'd've\": \"I would have\", \"I'll\": \"I will\", \"I'll've\": \"I will have\",\"I'm\": \"I am\", \"I've\": \"I have\", \"i'd\": \"i would\", \"i'd've\": \"i would have\", \"i'll\": \"i will\", \"i'll've\": \"i will have\",\"i'm\": \"i am\", \"i've\": \"i have\", \"isn't\": \"is not\", \"it'd\": \"it would\", \"it'd've\": \"it would have\", \"it'll\": \"it will\", \"it'll've\": \"it will have\",\"it's\": \"it is\", \"let's\": \"let us\", \"ma'am\": \"madam\", \"mayn't\": \"may not\", \"might've\": \"might have\",\"mightn't\": \"might not\",\"mightn't've\": \"might not have\", \"must've\": \"must have\", \"mustn't\": \"must not\", \"mustn't've\": \"must not have\", \"needn't\": \"need not\", \"needn't've\": \"need not have\",\"o'clock\": \"of the clock\", \"oughtn't\": \"ought not\", \"oughtn't've\": \"ought not have\", \"shan't\": \"shall not\",\"sha'n't\": \"shall not\", \"shan't've\": \"shall not have\", \"she'd\": \"she would\", \"she'd've\": \"she would have\", \"she'll\": \"she will\", \"she'll've\": \"she will have\", \"she's\": \"she is\", \"should've\": \"should have\", \"shouldn't\": \"should not\", \"shouldn't've\": \"should not have\", \"so've\": \"so have\",\"so's\": \"so as\", \"this's\": \"this is\",\"that'd\": \"that would\", \"that'd've\": \"that would have\",\"that's\": \"that is\", \"there'd\": \"there would\", \"there'd've\": \"there would have\",\"there's\": \"there is\", \"here's\": \"here is\",\"they'd\": \"they would\", \"they'd've\": \"they would have\", \"they'll\": \"they will\", \"they'll've\": \"they will have\", \"they're\": \"they are\", \"they've\": \"they have\", \"to've\": \"to have\", \"wasn't\": \"was not\", \"we'd\": \"we would\", \"we'd've\": \"we would have\", \"we'll\": \"we will\", \"we'll've\": \"we will have\", \"we're\": \"we are\", \"we've\": \"we have\", \"weren't\": \"were not\", \"what'll\": \"what will\", \"what'll've\": \"what will have\", \"what're\": \"what are\", \"what's\": \"what is\", \"what've\": \"what have\", \"when's\": \"when is\", \"when've\": \"when have\", \"where'd\": \"where did\", \"where's\": \"where is\", \"where've\": \"where have\", \"who'll\": \"who will\", \"who'll've\": \"who will have\", \"who's\": \"who is\", \"who've\": \"who have\", \"why's\": \"why is\", \"why've\": \"why have\", \"will've\": \"will have\", \"won't\": \"will not\", \"won't've\": \"will not have\", \"would've\": \"would have\", \"wouldn't\": \"would not\", \"wouldn't've\": \"would not have\", \"y'all\": \"you all\", \"y'all'd\": \"you all would\",\"y'all'd've\": \"you all would have\",\"y'all're\": \"you all are\",\"y'all've\": \"you all have\",\"you'd\": \"you would\", \"you'd've\": \"you would have\", \"you'll\": \"you will\", \"you'll've\": \"you will have\", \"you're\": \"you are\", \"you've\": \"you have\" }\n",
    "stop_words = set(stopwords.words('english'))\n",
    "\n",
    "def treat_text(X):\n",
    "    # Decoding \n",
    "    try:\n",
    "        decoded = unidecode.unidecode(codecs.decode(X, 'unicode_escape'))\n",
    "    except:\n",
    "        decoded = unidecode.unidecode(X)\n",
    "\n",
    "    # Handling apostrophes\n",
    "    apostrophe_handled = re.sub(\"’\", \"'\", decoded)\n",
    "    X = \" \".join([contraction_mapping[t] if t in contraction_mapping else t for t in apostrophe_handled.split(\" \")])\n",
    "    \n",
    "    # Keeping only text + numbers and lowered.\n",
    "    X = re.findall(r\"[a-zA-Z0-9]+\", X.lower())\n",
    "    \n",
    "    # Removing stopwords\n",
    "    X = [word for word in X if (word not in stop_words)]\n",
    "    \n",
    "    # Lemming\n",
    "#     X = [wnl.lemmatize(word) for word in X]\n",
    "    \n",
    "    return \" \".join(X)"
   ]
  },
  {
   "cell_type": "code",
   "execution_count": 179,
   "metadata": {},
   "outputs": [
    {
     "name": "stdout",
     "output_type": "stream",
     "text": [
      "Sample Preprocessing \n",
      "\n",
      "Original Text : ZicZac // Black + Red (Euro: 44)\n",
      "Preprocessed Text : ziczac black red euro 44\n",
      "\n",
      "Original Text : 9X9 RESISTA/484938\n",
      "Preprocessed Text : 9x9 resista 484938\n",
      "\n",
      "Original Text : Halle Pant - Short Inseam 013049561D0010001_ 02\n",
      "Preprocessed Text : halle pant short inseam 013049561d0010001 02\n",
      "\n"
     ]
    }
   ],
   "source": [
    "print(\"Sample Preprocessing \\n\")\n",
    "for i in range(3):\n",
    "    item = train['title'].iloc[i]\n",
    "    print(\"Original Text : {}\\nPreprocessed Text : {}\\n\".format(item, treat_text(item)))"
   ]
  },
  {
   "cell_type": "code",
   "execution_count": 180,
   "metadata": {},
   "outputs": [
    {
     "name": "stderr",
     "output_type": "stream",
     "text": [
      "100%|██████████| 1199998/1199998 [00:21<00:00, 57132.17it/s]\n",
      "100%|██████████| 1199998/1199998 [00:18<00:00, 64068.33it/s]\n",
      "100%|██████████| 92/92 [00:00<00:00, 36293.83it/s]\n",
      "100%|██████████| 92/92 [00:00<00:00, 21460.21it/s]\n"
     ]
    }
   ],
   "source": [
    "for data in [train, test]:\n",
    "    data['title'] = data['title'].progress_apply(lambda x: treat_text(x))\n",
    "    data['description'] = data['description'].progress_apply(lambda x: treat_text(x))\n",
    "    data['text'] = data['title'] + \" \" + data['description']"
   ]
  },
  {
   "cell_type": "code",
   "execution_count": 181,
   "metadata": {},
   "outputs": [],
   "source": [
    "train.to_csv(\"train_ne.csv\", index=False)\n",
    "test.to_csv(\"test_ne.csv\", index=False)"
   ]
  },
  {
   "cell_type": "code",
   "execution_count": 182,
   "metadata": {},
   "outputs": [
    {
     "data": {
      "text/plain": [
       "title          0\n",
       "description    0\n",
       "category       0\n",
       "fold_id        0\n",
       "source         0\n",
       "text           0\n",
       "dtype: int64"
      ]
     },
     "execution_count": 182,
     "metadata": {},
     "output_type": "execute_result"
    }
   ],
   "source": [
    "train.isnull().sum()"
   ]
  },
  {
   "cell_type": "code",
   "execution_count": 183,
   "metadata": {},
   "outputs": [],
   "source": [
    "target = 'category'"
   ]
  },
  {
   "cell_type": "code",
   "execution_count": 184,
   "metadata": {},
   "outputs": [
    {
     "data": {
      "text/plain": [
       "16"
      ]
     },
     "execution_count": 184,
     "metadata": {},
     "output_type": "execute_result"
    }
   ],
   "source": [
    "test['description'][test['description'] == \"none\"] = np.nan\n",
    "test['description'].isnull().sum()"
   ]
  },
  {
   "cell_type": "code",
   "execution_count": 185,
   "metadata": {},
   "outputs": [],
   "source": [
    "def make_feature_vec(words, model, num_features):\n",
    "    \"\"\"\n",
    "    Average the word vectors for a set of words\n",
    "    \"\"\"\n",
    "    feature_vec = np.zeros((num_features,),dtype=\"float32\")  # pre-initialize (for speed)\n",
    "    nwords = 0.\n",
    "    index2word_set = set(model.wv.index2word)  # words known to the model\n",
    "\n",
    "    for word in words:\n",
    "        if word in index2word_set: \n",
    "            nwords = nwords + 1.\n",
    "            feature_vec = np.add(feature_vec, model[word])\n",
    "    \n",
    "    feature_vec = np.divide(feature_vec, nwords)\n",
    "    return feature_vec"
   ]
  },
  {
   "cell_type": "code",
   "execution_count": 186,
   "metadata": {},
   "outputs": [
    {
     "name": "stderr",
     "output_type": "stream",
     "text": [
      "100%|██████████| 1199998/1199998 [00:05<00:00, 229421.86it/s]\n",
      "100%|██████████| 92/92 [00:00<00:00, 48210.39it/s]\n"
     ]
    },
    {
     "data": {
      "text/plain": [
       "(120000, 7)"
      ]
     },
     "execution_count": 186,
     "metadata": {},
     "output_type": "execute_result"
    }
   ],
   "source": [
    "train['title_tokenized'] = train['title'].progress_apply(lambda x: x.split())\n",
    "test['title_tokenized'] = test['title'].progress_apply(lambda x: x.split())\n",
    "\n",
    "train_subsample = train[train['fold_id'] == K]\n",
    "train_subsample.shape"
   ]
  },
  {
   "cell_type": "code",
   "execution_count": 187,
   "metadata": {},
   "outputs": [
    {
     "name": "stdout",
     "output_type": "stream",
     "text": [
      "Length of Vocabulary : 5820\n"
     ]
    },
    {
     "data": {
      "text/plain": [
       "[('men', 0.9801139831542969),\n",
       " ('polo', 0.9693353176116943),\n",
       " ('long', 0.9682233333587646),\n",
       " ('jacket', 0.9652382135391235),\n",
       " ('sweatshirt', 0.9651938080787659),\n",
       " ('women', 0.961998701095581),\n",
       " ('hoodie', 0.9617142081260681),\n",
       " ('button', 0.9614996314048767),\n",
       " ('ladies', 0.9599067568778992),\n",
       " ('sleeve', 0.9585515856742859)]"
      ]
     },
     "execution_count": 187,
     "metadata": {},
     "output_type": "execute_result"
    }
   ],
   "source": [
    "col = 'title'\n",
    "values = train_subsample['{}_tokenized'.format(col)].values.tolist()\n",
    "model = Word2Vec(values, min_count=10)\n",
    "print(\"Length of Vocabulary : {}\".format(len(model.wv.vocab)))\n",
    "\n",
    "model.most_similar(\"shirt\")"
   ]
  },
  {
   "cell_type": "code",
   "execution_count": 188,
   "metadata": {},
   "outputs": [
    {
     "data": {
      "application/vnd.jupyter.widget-view+json": {
       "model_id": "f00922669191432898ce9900dc970b6c",
       "version_major": 2,
       "version_minor": 0
      },
      "text/plain": [
       "HBox(children=(FloatProgress(value=0.0, max=120000.0), HTML(value='')))"
      ]
     },
     "metadata": {},
     "output_type": "display_data"
    },
    {
     "name": "stdout",
     "output_type": "stream",
     "text": [
      "\n"
     ]
    }
   ],
   "source": [
    "train_sentence_embs = np.zeros((train_subsample.shape[0], 100))\n",
    "\n",
    "for i in tqdm_notebook(range(train_subsample.shape[0])):\n",
    "    train_sentence_embs[i] = make_feature_vec(train['title_tokenized'].iloc[i], model, 100)"
   ]
  },
  {
   "cell_type": "code",
   "execution_count": 189,
   "metadata": {},
   "outputs": [
    {
     "data": {
      "application/vnd.jupyter.widget-view+json": {
       "model_id": "06c66286b64e489eba66d13a148c863f",
       "version_major": 2,
       "version_minor": 0
      },
      "text/plain": [
       "HBox(children=(FloatProgress(value=0.0, max=92.0), HTML(value='')))"
      ]
     },
     "metadata": {},
     "output_type": "display_data"
    },
    {
     "name": "stdout",
     "output_type": "stream",
     "text": [
      "\n"
     ]
    }
   ],
   "source": [
    "test_sentence_embs = np.zeros((test.shape[0], 100))\n",
    "\n",
    "for i in tqdm_notebook(range(test.shape[0])):\n",
    "    test_sentence_embs[i] = make_feature_vec(test['title_tokenized'].iloc[i], model, 100)"
   ]
  },
  {
   "cell_type": "code",
   "execution_count": 190,
   "metadata": {},
   "outputs": [],
   "source": [
    "def calc_cosine_similarity(train_vecs, test_vec):\n",
    "    start_time = time.time()\n",
    "    result = np.full(len(train_vecs), -9999, dtype=float)\n",
    "    for idx, _ in enumerate(range(len(train_vecs))):\n",
    "        r = 1 - cosine(train_vecs[idx], test_vec)\n",
    "        if str(r) != \"nan\":\n",
    "            result[idx] = r\n",
    "    \n",
    "    print(\"Time Taken : {:.2f}\".format(time.time() - start_time))\n",
    "    \n",
    "    return np.argmax(result), result[np.argmax(result)]"
   ]
  },
  {
   "cell_type": "code",
   "execution_count": 191,
   "metadata": {},
   "outputs": [
    {
     "name": "stdout",
     "output_type": "stream",
     "text": [
      "Time Taken : 7.56\n",
      "Index : 44706 \t Similarity : 0.9829737911680743\n",
      "Test Item : carpet repairs\n",
      "Train Title Item matched : cust shorted ctrl board trying repl batt\n",
      "Train Description mapped : repair performed tpp equipment parts labor separately stated\n",
      "----------------------------------------------------------------------------------------------------\n",
      "Time Taken : 7.38\n",
      "Index : 4611 \t Similarity : 0.9740908401710531\n",
      "Test Item : vct floor refinishing\n",
      "Train Title Item matched : fs436 us26d floor stop\n",
      "Train Description mapped : hardware sold medical facility\n",
      "----------------------------------------------------------------------------------------------------\n",
      "Time Taken : 7.19\n",
      "Index : 43582 \t Similarity : 0.9005709003919636\n",
      "Test Item : clean carpet clean windows scrub buff vct floors\n",
      "Train Title Item matched : front porch actor windows ba\n",
      "Train Description mapped : computer software implementation prewritten software electronically downloaded\n",
      "----------------------------------------------------------------------------------------------------\n",
      "Time Taken : 7.25\n",
      "Index : 28269 \t Similarity : 0.9788033306624719\n",
      "Test Item : apparel customization alterations\n",
      "Train Title Item matched : lv ur68 fu2z\n",
      "Train Description mapped : clothing related products b2c general\n",
      "----------------------------------------------------------------------------------------------------\n",
      "Time Taken : 8.09\n",
      "Index : 24563 \t Similarity : 0.9783133435038731\n",
      "Test Item : auto scrub coat lvt wax tile floors\n",
      "Train Title Item matched : face mount auto belay bracket\n",
      "Train Description mapped : installation associated sale tpp equipment parts labor separately stated\n",
      "----------------------------------------------------------------------------------------------------\n",
      "Time Taken : 7.40\n",
      "Index : 56356 \t Similarity : 0.9930445291121084\n",
      "Test Item : extension labor services\n",
      "Train Title Item matched : remote combustion tuning services labor\n",
      "Train Description mapped : professional services\n",
      "----------------------------------------------------------------------------------------------------\n",
      "Time Taken : 6.99\n",
      "Index : 28269 \t Similarity : 0.9849425885196562\n",
      "Test Item : apparel uniform accessories\n",
      "Train Title Item matched : lv ur68 fu2z\n",
      "Train Description mapped : clothing related products b2c general\n",
      "----------------------------------------------------------------------------------------------------\n",
      "Time Taken : 7.12\n",
      "Index : 88189 \t Similarity : 0.9659217630556148\n",
      "Test Item : window cleaning\n",
      "Train Title Item matched : 1602 veterans blvd window cleaning mccomb ms\n",
      "Train Description mapped : janitorial non residential\n",
      "----------------------------------------------------------------------------------------------------\n",
      "Time Taken : 7.08\n",
      "Index : 67140 \t Similarity : 0.968434504110343\n",
      "Test Item : bathroom vestibule ssw santizing\n",
      "Train Title Item matched : iarw trash tuesday thursday\n",
      "Train Description mapped : services\n",
      "----------------------------------------------------------------------------------------------------\n",
      "Time Taken : 7.44\n",
      "Index : 82660 \t Similarity : 0.9620837093339802\n",
      "Test Item : store cleaning\n",
      "Train Title Item matched : emergency response cleaning urine\n",
      "Train Description mapped : janitorial non residential\n",
      "----------------------------------------------------------------------------------------------------\n",
      "Time Taken : 7.21\n",
      "Index : 44001 \t Similarity : 0.9832836114759136\n",
      "Test Item : carpet laminate wood floors\n",
      "Train Title Item matched : 16533 mount laurel nj\n",
      "Train Description mapped : janitorial non residential\n",
      "----------------------------------------------------------------------------------------------------\n",
      "Time Taken : 6.92\n",
      "Index : 51093 \t Similarity : 1.0\n",
      "Test Item : janitorial services\n",
      "Train Title Item matched : may2018 janitorial services tmc045\n",
      "Train Description mapped : janitorial non residential\n",
      "----------------------------------------------------------------------------------------------------\n",
      "Time Taken : 7.63\n",
      "Index : 97989 \t Similarity : 0.9584161350822471\n",
      "Test Item : apparel patches\n",
      "Train Title Item matched : ice display pedestal ret\n",
      "Train Description mapped : tangible personal property tpp\n",
      "----------------------------------------------------------------------------------------------------\n",
      "Time Taken : 7.53\n",
      "Index : 3962 \t Similarity : 1.0\n",
      "Test Item : service\n",
      "Train Title Item matched : conveyor service\n",
      "Train Description mapped : installation associated sale tpp equipment parts labor separately stated\n",
      "----------------------------------------------------------------------------------------------------\n",
      "Time Taken : 7.18\n",
      "Index : 73964 \t Similarity : 0.9574252416730645\n",
      "Test Item : repair maintenance services performed tpp include parts materials labor\n",
      "Train Title Item matched : completion repair services pricing parts applied separately replaced temple 2342 18\n",
      "Train Description mapped : repair performed tpp labor\n",
      "----------------------------------------------------------------------------------------------------\n",
      "Time Taken : 7.13\n",
      "Index : 80648 \t Similarity : 0.9932654795654583\n",
      "Test Item : restorative carpet cleaning\n",
      "Train Title Item matched : carpet upholstery cleaning k4 1306 4477033780\n",
      "Train Description mapped : janitorial non residential\n",
      "----------------------------------------------------------------------------------------------------\n"
     ]
    }
   ],
   "source": [
    "null_idxs = test[test['description'].isnull()].index.tolist()\n",
    "\n",
    "mapping = {}\n",
    "\n",
    "for i in null_idxs:\n",
    "    item = test['title'].iloc[i]\n",
    "    mapping[i] = {}\n",
    "    mapping[i]['test_title'] = item\n",
    "    \n",
    "    max_idx, max_sim = calc_cosine_similarity(train_sentence_embs, test_sentence_embs[i])\n",
    "    print(\"Index : {} \\t Similarity : {}\".format(max_idx, max_sim))\n",
    "\n",
    "    mapping[i]['train_title'] = train_subsample['title'].iloc[max_idx]\n",
    "    mapping[i]['mapped_desc'] = train_subsample['description'].iloc[max_idx]\n",
    "    \n",
    "    print(\"Test Item : {}\".format(item))\n",
    "    print(\"Train Title Item matched : {}\".format(mapping[i]['train_title']))\n",
    "    print(\"Train Description mapped : {}\".format(mapping[i]['mapped_desc']))\n",
    "    print(\"--\"*50)"
   ]
  },
  {
   "cell_type": "code",
   "execution_count": 192,
   "metadata": {},
   "outputs": [],
   "source": [
    "for key, value in mapping.items():\n",
    "    test['description'].iloc[key] = value['mapped_desc']"
   ]
  },
  {
   "cell_type": "code",
   "execution_count": 193,
   "metadata": {},
   "outputs": [
    {
     "data": {
      "text/plain": [
       "title              0\n",
       "description        0\n",
       "category           0\n",
       "text               0\n",
       "title_tokenized    0\n",
       "dtype: int64"
      ]
     },
     "execution_count": 193,
     "metadata": {},
     "output_type": "execute_result"
    }
   ],
   "source": [
    "test['text'] = test['title'] + \" \" + test['description']\n",
    "test.to_csv(\"test_ne_imputed.csv\", index=False)\n",
    "test.isnull().sum()"
   ]
  },
  {
   "cell_type": "markdown",
   "metadata": {},
   "source": [
    "## Modelling - 1 : Frequency Based"
   ]
  },
  {
   "cell_type": "code",
   "execution_count": 194,
   "metadata": {},
   "outputs": [],
   "source": [
    "def get_data(train, test):\n",
    "    train = pd.read_csv(\"train_ne.csv\")\n",
    "    test = pd.read_csv(\"test_ne_imputed.csv\")\n",
    "    print(\"Train Shape : {}\\nTest Shape :  {}\".format(train.shape, test.shape))\n",
    "    \n",
    "    train = train[['fold_id', 'title', 'description', 'text', 'category', 'source']]\n",
    "    test = test[['title', 'description', 'text', 'category']]\n",
    "    train.dropna(inplace=True)\n",
    "    \n",
    "    return train, test"
   ]
  },
  {
   "cell_type": "code",
   "execution_count": 195,
   "metadata": {},
   "outputs": [
    {
     "name": "stdout",
     "output_type": "stream",
     "text": [
      "Train Shape : (1199998, 6)\n",
      "Test Shape :  (92, 5)\n"
     ]
    }
   ],
   "source": [
    "train, test = get_data(train, test)"
   ]
  },
  {
   "cell_type": "markdown",
   "metadata": {},
   "source": [
    "### Labelling Target"
   ]
  },
  {
   "cell_type": "code",
   "execution_count": 196,
   "metadata": {},
   "outputs": [
    {
     "name": "stdout",
     "output_type": "stream",
     "text": [
      "['R' 'S']\n"
     ]
    }
   ],
   "source": [
    "target = 'category'\n",
    "\n",
    "le = LabelEncoder()\n",
    "train[target] = le.fit_transform(train[target].values)\n",
    "test[target] = le.transform(test[target].values)\n",
    "\n",
    "y = train[target].values\n",
    "y_test = test[target].values\n",
    "\n",
    "print(le.classes_)"
   ]
  },
  {
   "cell_type": "markdown",
   "metadata": {},
   "source": [
    "### Splitter"
   ]
  },
  {
   "cell_type": "code",
   "execution_count": 197,
   "metadata": {},
   "outputs": [],
   "source": [
    "K = 6"
   ]
  },
  {
   "cell_type": "code",
   "execution_count": 198,
   "metadata": {},
   "outputs": [],
   "source": [
    "def splitter(data, k=K):\n",
    "    \n",
    "    data_v1 = data[data['fold_id'] == k].copy()\n",
    "    data_v1.reset_index(drop=True, inplace=True)\n",
    "    \n",
    "    train_set = data_v1[data_v1['source'] == 'train'].copy()\n",
    "    valid_set = data_v1[data_v1['source'] == 'valid'].copy()\n",
    "    train_set.reset_index(drop=True, inplace=True)\n",
    "    valid_set.reset_index(drop=True, inplace=True)\n",
    "    \n",
    "    del data_v1\n",
    "    gc.collect()\n",
    "    \n",
    "#     print(train_set.shape, valid_set.shape)\n",
    "    \n",
    "    return train_set['text'].values, valid_set['text'].values, train_set['category'].values, valid_set['category'].values"
   ]
  },
  {
   "cell_type": "markdown",
   "metadata": {},
   "source": [
    "### Baseliner Utils"
   ]
  },
  {
   "cell_type": "code",
   "execution_count": 199,
   "metadata": {},
   "outputs": [],
   "source": [
    "def eval_t(y_pred):\n",
    "    return f1_score(y_test, y_pred)\n",
    "\n",
    "def baseliner(X_train, X_valid, y_train, y_valid, X_test, cv=3, metric='f1'):\n",
    "    print(\"Baseliner Models\\n\")\n",
    "    eval_dict = {}\n",
    "    models = [LogisticRegression(), GaussianNB(), lgb.LGBMClassifier(), RandomForestClassifier(),\n",
    "              DecisionTreeClassifier(), ExtraTreeClassifier()\n",
    "             ]\n",
    "    # xgb.XGBClassifier(), GradientBoostingClassifier(), AdaBoostClassifier(), BaggingClassifier(), ExtraTreesClassifier() \n",
    "    print(\"Model Name \\t | Train \\t | Valid \\t | Test \") #    | \\t TRN   | \\t  VAL\n",
    "    print(\"--\" * 30)\n",
    "    \n",
    "    for index, model in enumerate(models, 0):\n",
    "        model_name = str(model).split(\"(\")[0]\n",
    "        eval_dict[model_name] = {}\n",
    "        \n",
    "        model.fit(X_train, y_train)\n",
    "        train_f1 = f1_score(y_train, model.predict(X_train))\n",
    "        valid_f1 = f1_score(y_valid, model.predict(X_valid))\n",
    "        test_f1 = eval_t(model.predict(X_test))\n",
    "        \n",
    "        eval_dict[model_name]['train'] = train_f1\n",
    "        eval_dict[model_name]['valid'] = valid_f1\n",
    "        eval_dict[model_name]['test'] = test_f1\n",
    "        \n",
    "        print(\"%s \\t | %.4f \\t | %.4f \\t | %.4f \\t \" % (\n",
    "            model_name[:12], eval_dict[model_name]['train'], eval_dict[model_name]['valid'], eval_dict[model_name]['test']))"
   ]
  },
  {
   "cell_type": "code",
   "execution_count": 200,
   "metadata": {},
   "outputs": [],
   "source": [
    "def tokenize(s): \n",
    "    return s.split()"
   ]
  },
  {
   "cell_type": "code",
   "execution_count": 201,
   "metadata": {},
   "outputs": [],
   "source": [
    "def fit_and_return_vectorizer(train, test, vectorizer, text_col='text', subsample_train=False):\n",
    "\n",
    "    total_texts = pd.concat([train[text_col], test[text_col]], axis=0)\n",
    "    total_texts.reset_index(drop=True, inplace=True)\n",
    "\n",
    "    vectorizer.fit(total_texts.values)\n",
    "    if subsample_train:\n",
    "#         k = np.random.choice(train['fold_id'].unique())\n",
    "        print(f\"Choosing Random Subsample Fold-ID : {K}\")\n",
    "        X_train, X_valid, y_train, y_valid = splitter(train)\n",
    "\n",
    "    train_count_vect = vectorizer.transform(X_train)\n",
    "    valid_count_vect = vectorizer.transform(X_valid)\n",
    "    test_count_vect = vectorizer.transform(test[text_col].values)\n",
    "\n",
    "    print(\"Number of features / words in vocab : {}\".format(len(vectorizer.get_feature_names())))\n",
    "    print(\"Transformed Shapes :: \\nTrain : {}\\nValid : {}\\nTest :  {}\".format(\n",
    "        train_count_vect.shape, valid_count_vect.shape, test_count_vect.shape))\n",
    "    \n",
    "    del total_texts\n",
    "    gc.collect()\n",
    "    \n",
    "    return vectorizer, train_count_vect, valid_count_vect, test_count_vect, y_train, y_valid"
   ]
  },
  {
   "cell_type": "code",
   "execution_count": 202,
   "metadata": {},
   "outputs": [
    {
     "name": "stdout",
     "output_type": "stream",
     "text": [
      "Choosing Random Subsample Fold-ID : 6\n",
      "Number of features / words in vocab : 1000\n",
      "Transformed Shapes :: \n",
      "Train : (99371, 1000)\n",
      "Valid : (20593, 1000)\n",
      "Test :  (92, 1000)\n",
      "CPU times: user 30.4 s, sys: 330 ms, total: 30.7 s\n",
      "Wall time: 30.9 s\n"
     ]
    }
   ],
   "source": [
    "%%time\n",
    "\n",
    "max_features = 1_000\n",
    "vect = TfidfVectorizer(max_features=max_features)\n",
    "vect, transformed_train, transformed_valid, transformed_test, y_new_train, y_new_valid = fit_and_return_vectorizer(\n",
    "    train, test, vect, subsample_train=True)"
   ]
  },
  {
   "cell_type": "code",
   "execution_count": 203,
   "metadata": {},
   "outputs": [
    {
     "name": "stdout",
     "output_type": "stream",
     "text": [
      "Baseliner Models\n",
      "\n",
      "Model Name \t | Train \t | Valid \t | Test \n",
      "------------------------------------------------------------\n",
      "LogisticRegr \t | 0.9988 \t | 0.9723 \t | 0.9057 \t \n",
      "GaussianNB \t | 0.9807 \t | 0.9618 \t | 0.9358 \t \n",
      "LGBMClassifi \t | 0.9999 \t | 0.9493 \t | 0.8515 \t \n",
      "RandomForest \t | 0.9999 \t | 0.9741 \t | 0.8824 \t \n",
      "DecisionTree \t | 0.9999 \t | 0.9684 \t | 0.8367 \t \n",
      "ExtraTreeCla \t | 0.9999 \t | 0.8586 \t | 0.8515 \t \n"
     ]
    }
   ],
   "source": [
    "baseliner(transformed_train.toarray(), transformed_valid.toarray(), y_new_train, y_new_valid, transformed_test.toarray())"
   ]
  },
  {
   "cell_type": "markdown",
   "metadata": {},
   "source": [
    "### Confusion Matrix + Understanding Evaluation"
   ]
  },
  {
   "cell_type": "code",
   "execution_count": 204,
   "metadata": {},
   "outputs": [],
   "source": [
    "from sklearn.metrics import confusion_matrix, classification_report\n",
    "from sklearn.model_selection import train_test_split\n",
    "\n",
    "def plot_classification_report(model, X_train, X_test, y_train, y_test):\n",
    "\n",
    "    model.fit(X_train, y_train)\n",
    "    T = 0.44\n",
    "    preds = model.predict_proba(X_test)[:, 1]\n",
    "    pred_probs = preds.copy()\n",
    "    preds[preds >= T] = 1\n",
    "    preds[preds < T] = 0\n",
    "    \n",
    "    cm = confusion_matrix(y_test, preds)\n",
    "    print(\"Classification Report\")\n",
    "    print(classification_report(y_test, preds))\n",
    "    class_names = [\"R\", \"S\"]  # name  of classes\n",
    "\n",
    "    fig, ax = plt.subplots()\n",
    "    tick_marks = np.arange(len(class_names))\n",
    "    plt.xticks(tick_marks, class_names)\n",
    "    plt.yticks(tick_marks, class_names)\n",
    "    sns.heatmap(pd.DataFrame(cm), annot=True, cmap=\"YlGnBu\", fmt='g')\n",
    "    ax.xaxis.set_label_position(\"top\")\n",
    "    plt.tight_layout()\n",
    "    plt.title('Confusion matrix', y=1.1)\n",
    "    plt.ylabel('Actual label')\n",
    "    plt.xlabel('Predicted label')\n",
    "    plt.show()\n",
    "    \n",
    "    return pred_probs"
   ]
  },
  {
   "cell_type": "code",
   "execution_count": 205,
   "metadata": {},
   "outputs": [
    {
     "name": "stdout",
     "output_type": "stream",
     "text": [
      "Classification Report\n",
      "              precision    recall  f1-score   support\n",
      "\n",
      "           0       0.85      0.97      0.91        35\n",
      "           1       0.98      0.89      0.94        57\n",
      "\n",
      "    accuracy                           0.92        92\n",
      "   macro avg       0.92      0.93      0.92        92\n",
      "weighted avg       0.93      0.92      0.92        92\n",
      "\n"
     ]
    },
    {
     "data": {
      "image/png": "[encoded data removed]",
      "text/plain": [
       "<Figure size 432x288 with 2 Axes>"
      ]
     },
     "metadata": {
      "needs_background": "light"
     },
     "output_type": "display_data"
    }
   ],
   "source": [
    "pred_probs = plot_classification_report(GaussianNB(), transformed_train.toarray(), transformed_test.toarray(), y_new_train, y_test)"
   ]
  },
  {
   "cell_type": "markdown",
   "metadata": {},
   "source": [
    "It seems we have higher False Negatives i.e 6 predictions which are actually Positive which have been faslely classified as Negative."
   ]
  },
  {
   "cell_type": "markdown",
   "metadata": {},
   "source": [
    "### Does ensembling help?"
   ]
  },
  {
   "cell_type": "code",
   "execution_count": 206,
   "metadata": {},
   "outputs": [
    {
     "name": "stdout",
     "output_type": "stream",
     "text": [
      "Model : gaussian_nb\n",
      "Train Score : 0.9807\n",
      "Test Score : 0.9358\n",
      "Model : log_reg\n",
      "Train Score : 0.9988\n",
      "Test Score : 0.9057\n",
      "Model : lgb\n",
      "Train Score : 0.9999\n",
      "Test Score : 0.8515\n"
     ]
    }
   ],
   "source": [
    "good_models = {\n",
    "    \"gaussian_nb\": GaussianNB(),\n",
    "    \"log_reg\" : LogisticRegression(),\n",
    "    \"lgb\" : lgb.LGBMClassifier(),\n",
    "}\n",
    "\n",
    "soft_preds = {}\n",
    "hard_preds = {}\n",
    "\n",
    "for model_name, model in good_models.items():\n",
    "    \n",
    "    print(\"Model : {}\".format(model_name))\n",
    "    hard_preds[model_name] = np.nan\n",
    "    soft_preds[model_name] = np.nan\n",
    "    \n",
    "    model.fit(transformed_train.toarray(), y_new_train)\n",
    "    train_score = f1_score(y_new_train, model.predict(transformed_train.toarray()))\n",
    "    preds = model.predict(transformed_test.toarray())\n",
    "    pred_probs = model.predict_proba(transformed_test.toarray())[:, 1]\n",
    "    \n",
    "    hard_preds[model_name] = preds\n",
    "    soft_preds[model_name] = pred_probs\n",
    "    \n",
    "    test_score = eval_t(preds)\n",
    "    print(\"Train Score : {:.4f}\\nTest Score : {:.4f}\".format(train_score, test_score))"
   ]
  },
  {
   "cell_type": "code",
   "execution_count": 207,
   "metadata": {},
   "outputs": [],
   "source": [
    "def tweak_threshold(pred, truth):\n",
    "    thresholds = []\n",
    "    scores = []\n",
    "    for thresh in np.arange(0.1, 0.501, 0.01):\n",
    "        thresh = np.round(thresh, 2)\n",
    "        thresholds.append(thresh)\n",
    "        score = f1_score(truth, (pred>thresh).astype(int))\n",
    "        scores.append(score)\n",
    "    return np.max(scores), thresholds[np.argmax(scores)]"
   ]
  },
  {
   "cell_type": "code",
   "execution_count": 208,
   "metadata": {},
   "outputs": [
    {
     "name": "stdout",
     "output_type": "stream",
     "text": [
      "Scored 0.9999 for threshold 0.41 on train data\n",
      "Scored 0.9259 for threshold 0.41 on test data\n"
     ]
    }
   ],
   "source": [
    "# 2. Soft-Voting\n",
    "# Finding the best threshold for best F1-Score : \n",
    "\n",
    "ens_1 = (soft_preds['gaussian_nb'] + soft_preds['log_reg'] + soft_preds['lgb'])/3\n",
    "\n",
    "# First getting the threshold value from train_predictions\n",
    "score_val, threshold_val = tweak_threshold(model.predict_proba(transformed_train.toarray())[:, 1], y_new_train)\n",
    "print(f\"Scored {round(score_val, 4)} for threshold {threshold_val} on train data\")\n",
    "\n",
    "# Then getting the f1 score in test set using that threshold\n",
    "ens_1[ens_1 >= threshold_val] = 1\n",
    "ens_1[ens_1 < threshold_val] = 0\n",
    "\n",
    "print(f\"Scored {round(eval_t(ens_1), 4)} for threshold {threshold_val} on test data\")"
   ]
  },
  {
   "cell_type": "markdown",
   "metadata": {},
   "source": [
    "## Modelling - 2 : FlipCNN"
   ]
  },
  {
   "cell_type": "code",
   "execution_count": 209,
   "metadata": {},
   "outputs": [],
   "source": [
    "class F1Evaluation(Callback):\n",
    "    def __init__(self, validation_data=(), test_data=(), interval=1):\n",
    "        super(Callback, self).__init__()\n",
    "        \n",
    "        self.interval = interval\n",
    "        self.X_val, self.y_val = validation_data\n",
    "        self.X_test, self.y_test = test_data\n",
    "        self.y_val = self.y_val[:, 1]\n",
    "        self.y_test = self.y_test[:, 1]\n",
    "        self.T = 0.5\n",
    "    \n",
    "    def on_epoch_end(self, epoch, logs={}):\n",
    "        if epoch % self.interval == 0:\n",
    "            y_val = self.model.predict(self.X_val, verbose=0)[:, 1]\n",
    "            y_test = self.model.predict(self.X_test, verbose=0)[:, 1]\n",
    "            y_val[y_val >= self.T] = 1\n",
    "            y_val[y_val < self.T] = 0\n",
    "            y_test[y_test >= self.T] = 1\n",
    "            y_test[y_test < self.T] = 0\n",
    "            \n",
    "            val_score = f1_score(self.y_val, y_val)\n",
    "            test_score = f1_score(self.y_test, y_test)\n",
    "            print(\"F1 : Epoch : {} \\t Valid Score : {:.4f} \\t Test Score : {:.4f}\".format(epoch+1, val_score, test_score))"
   ]
  },
  {
   "cell_type": "code",
   "execution_count": 210,
   "metadata": {},
   "outputs": [],
   "source": [
    "def get_data():\n",
    "    train = pd.read_csv(\"train_ne.csv\")\n",
    "    test = pd.read_csv(\"test_ne_imputed.csv\")\n",
    "    print(\"Train Shape : {}\\nTest Shape :  {}\".format(train.shape, test.shape))\n",
    "    \n",
    "    train = train[['fold_id', 'title', 'description', 'text', 'category', 'source']]\n",
    "    test = test[['title', 'description', 'text', 'category']]\n",
    "    train.dropna(inplace=True)\n",
    "    \n",
    "    return train, test"
   ]
  },
  {
   "cell_type": "code",
   "execution_count": 211,
   "metadata": {},
   "outputs": [
    {
     "name": "stdout",
     "output_type": "stream",
     "text": [
      "Train Shape : (1199998, 6)\n",
      "Test Shape :  (92, 5)\n"
     ]
    }
   ],
   "source": [
    "train, test = get_data()\n",
    "target = 'category'"
   ]
  },
  {
   "cell_type": "code",
   "execution_count": 212,
   "metadata": {},
   "outputs": [],
   "source": [
    "train[target] = train[target].map({\"R\": 0, \"S\": 1})\n",
    "train['target_S'] = np.nan\n",
    "train['target_R'] = np.nan\n",
    "train['target_R'] = 1 - train[target].values\n",
    "train['target_S'] = train[target].values\n",
    "\n",
    "train.drop([target], axis=1, inplace=True)"
   ]
  },
  {
   "cell_type": "code",
   "execution_count": 213,
   "metadata": {},
   "outputs": [],
   "source": [
    "test[target] = test[target].map({\"R\": 0, \"S\": 1})\n",
    "test['target_S'] = np.nan\n",
    "test['target_R'] = np.nan\n",
    "test['target_R'] = 1 - test[target].values\n",
    "test['target_S'] = test[target].values\n",
    "\n",
    "y_test_true = test['target_S'].values\n",
    "test.drop([target], axis=1, inplace=True)"
   ]
  },
  {
   "cell_type": "code",
   "execution_count": 214,
   "metadata": {},
   "outputs": [],
   "source": [
    "list_classes = [\"target_R\", \"target_S\"]"
   ]
  },
  {
   "cell_type": "code",
   "execution_count": 216,
   "metadata": {},
   "outputs": [],
   "source": [
    "### Splitter\n",
    "K = 6\n",
    "def splitter(data, k=6):\n",
    "    \n",
    "    data_v1 = data[data['fold_id'] == k].copy()\n",
    "    data_v1.reset_index(drop=True, inplace=True)\n",
    "    \n",
    "    train_set = data_v1[data_v1['source'] == 'train'].copy()\n",
    "    valid_set = data_v1[data_v1['source'] == 'valid'].copy()\n",
    "    train_set.reset_index(drop=True, inplace=True)\n",
    "    valid_set.reset_index(drop=True, inplace=True)\n",
    "    \n",
    "    del data_v1\n",
    "    gc.collect()\n",
    "\n",
    "    return train_set, valid_set, train_set[list_classes].values, valid_set[list_classes].values"
   ]
  },
  {
   "cell_type": "code",
   "execution_count": 217,
   "metadata": {},
   "outputs": [],
   "source": [
    "T = 0.5\n",
    "def eval_t(y_pred, y_true=y_test_true):\n",
    "    y_pred[y_pred >= T] = 1\n",
    "    y_pred[y_pred < T] = 0\n",
    "    \n",
    "    return f1_score(y_true, y_pred)"
   ]
  },
  {
   "cell_type": "code",
   "execution_count": 218,
   "metadata": {},
   "outputs": [
    {
     "data": {
      "image/png": "[encoded data removed]",
      "text/plain": [
       "<Figure size 432x288 with 1 Axes>"
      ]
     },
     "metadata": {
      "needs_background": "light"
     },
     "output_type": "display_data"
    }
   ],
   "source": [
    "# visualize word length distribution\n",
    "train['doc_len'] = train['text'].apply(lambda words: len(words.split(\" \")))\n",
    "max_len = np.round(train['doc_len'].mean() + 2*train['doc_len'].std()).astype(int)\n",
    "\n",
    "sns.distplot(train['doc_len'], hist=True, kde=True, color='b', label='doc len')\n",
    "plt.axvline(x=max_len, color='k', linestyle='--', label='max len')\n",
    "plt.title('comment length')\n",
    "plt.legend()\n",
    "plt.show()"
   ]
  },
  {
   "cell_type": "code",
   "execution_count": 219,
   "metadata": {},
   "outputs": [
    {
     "data": {
      "text/plain": [
       "26"
      ]
     },
     "execution_count": 219,
     "metadata": {},
     "output_type": "execute_result"
    }
   ],
   "source": [
    "max_len"
   ]
  },
  {
   "cell_type": "code",
   "execution_count": 220,
   "metadata": {},
   "outputs": [],
   "source": [
    "embed_size = 100\n",
    "max_features = 1_000_000\n",
    "max_len = 50\n",
    "\n",
    "BS = 128"
   ]
  },
  {
   "cell_type": "code",
   "execution_count": 221,
   "metadata": {},
   "outputs": [
    {
     "name": "stdout",
     "output_type": "stream",
     "text": [
      "(99371, 8) (20593, 8) (99371, 2) (20593, 2)\n"
     ]
    }
   ],
   "source": [
    "y_test = test[list_classes].values\n",
    "\n",
    "X_train, X_valid, y_new_train, y_new_valid = splitter(train)\n",
    "print(X_train.shape, X_valid.shape, y_new_train.shape, y_new_valid.shape)"
   ]
  },
  {
   "cell_type": "markdown",
   "metadata": {},
   "source": [
    "### Custom W2V"
   ]
  },
  {
   "cell_type": "code",
   "execution_count": 222,
   "metadata": {},
   "outputs": [
    {
     "name": "stderr",
     "output_type": "stream",
     "text": [
      "100%|██████████| 1199559/1199559 [00:06<00:00, 192764.34it/s]\n",
      "100%|██████████| 92/92 [00:00<00:00, 64355.57it/s]\n"
     ]
    },
    {
     "name": "stdout",
     "output_type": "stream",
     "text": [
      "Length of Vocabulary : 47157\n",
      "CPU times: user 4min 2s, sys: 1.69 s, total: 4min 4s\n",
      "Wall time: 2min 30s\n"
     ]
    }
   ],
   "source": [
    "%%time\n",
    "\n",
    "col = 'text'\n",
    "\n",
    "values = train[col].progress_apply(lambda x: x.split()).values.tolist() + test[col].progress_apply(\n",
    "    lambda x: x.split()).values.tolist()\n",
    "embedding_index = Word2Vec(values, min_count=5, size=embed_size)\n",
    "print(\"Length of Vocabulary : {}\".format(len(embedding_index.wv.vocab)))"
   ]
  },
  {
   "cell_type": "code",
   "execution_count": 223,
   "metadata": {},
   "outputs": [
    {
     "data": {
      "text/plain": [
       "(100,)"
      ]
     },
     "execution_count": 223,
     "metadata": {},
     "output_type": "execute_result"
    }
   ],
   "source": [
    "embedding_index[\"shirt\"].shape"
   ]
  },
  {
   "cell_type": "code",
   "execution_count": 224,
   "metadata": {},
   "outputs": [],
   "source": [
    "raw_text_train = X_train['text'].str.lower()\n",
    "raw_text_valid = X_valid['text'].str.lower()\n",
    "raw_text_test = test['text'].str.lower()"
   ]
  },
  {
   "cell_type": "code",
   "execution_count": 225,
   "metadata": {},
   "outputs": [
    {
     "name": "stdout",
     "output_type": "stream",
     "text": [
      "CPU times: user 6.82 s, sys: 29.1 ms, total: 6.85 s\n",
      "Wall time: 6.9 s\n"
     ]
    }
   ],
   "source": [
    "%%time\n",
    "\n",
    "tk = Tokenizer(num_words=max_features, lower=True)\n",
    "tk.fit_on_texts(raw_text_train.values.tolist() + raw_text_valid.values.tolist() + test['text'].values.tolist())\n",
    "X_train['seq'] = tk.texts_to_sequences(raw_text_train.values)\n",
    "X_valid['seq'] = tk.texts_to_sequences(raw_text_valid.values)\n",
    "test['seq'] = tk.texts_to_sequences(raw_text_test.values)\n",
    "\n",
    "X_train = pad_sequences(X_train.seq, maxlen=max_len)\n",
    "X_valid = pad_sequences(X_valid.seq, maxlen=max_len)\n",
    "test = pad_sequences(test.seq, maxlen=max_len)"
   ]
  },
  {
   "cell_type": "markdown",
   "metadata": {},
   "source": [
    "### Word2Vec : Coverage"
   ]
  },
  {
   "cell_type": "code",
   "execution_count": 226,
   "metadata": {},
   "outputs": [
    {
     "data": {
      "application/vnd.jupyter.widget-view+json": {
       "model_id": "458c3ebebdb947b9bc1b98611832ad69",
       "version_major": 2,
       "version_minor": 0
      },
      "text/plain": [
       "HBox(children=(FloatProgress(value=0.0, max=157153.0), HTML(value='')))"
      ]
     },
     "metadata": {},
     "output_type": "display_data"
    },
    {
     "name": "stdout",
     "output_type": "stream",
     "text": [
      "\n",
      "Number of words : 157153\n",
      "Coverage : 21.60\n"
     ]
    }
   ],
   "source": [
    "word_index = tk.word_index\n",
    "nb_words = min(max_features, len(word_index))\n",
    "\n",
    "embedding_matrix = np.zeros((nb_words, embed_size))\n",
    "cnt = 0\n",
    "for word, i in tqdm_notebook(word_index.items()):\n",
    "    if i>= nb_words:\n",
    "        continue\n",
    "    try:\n",
    "        embedding_vector = embedding_index[word]\n",
    "        if embedding_vector is not None:\n",
    "            embedding_matrix[i] = embedding_vector\n",
    "            cnt += 1\n",
    "    except KeyError:\n",
    "        continue\n",
    "cov = (cnt / nb_words)*100\n",
    "print(\"Number of words : {}\".format(nb_words))\n",
    "print(\"Coverage : {:.2f}\".format(cov))"
   ]
  },
  {
   "cell_type": "code",
   "execution_count": 227,
   "metadata": {},
   "outputs": [],
   "source": [
    "lr = 1e-3\n",
    "lr_d = 0\n",
    "units = 128\n",
    "dr = 0.2"
   ]
  },
  {
   "cell_type": "code",
   "execution_count": 228,
   "metadata": {},
   "outputs": [],
   "source": [
    "N_EPOCHS = 5\n",
    "NUM_CLASSES = 2"
   ]
  },
  {
   "cell_type": "code",
   "execution_count": 232,
   "metadata": {},
   "outputs": [],
   "source": [
    "def build_model_flipcnn_forward(test, embedding_matrix, lr=0.0, lr_d=0.0, units=0, dr=0.0, filename=\"flipcnn_forward\"):\n",
    "    \n",
    "    file_path = \"flipcnn_forward-{epoch:02d}.hdf5\"\n",
    "    check_point = ModelCheckpoint(file_path, monitor=\"val_loss\", verbose=1, save_best_only=False, save_weights_only=True, mode='auto', period=1)\n",
    "    f1_val = F1Evaluation(validation_data=(X_valid, y_new_valid), test_data=(test, y_test), interval=1)\n",
    "    early_stop = EarlyStopping(monitor=\"val_loss\", mode=\"min\", patience=5)\n",
    "    \n",
    "    filter_sizes = [1, 2, 3, 4, 5]\n",
    "    num_filters = 36\n",
    "    \n",
    "    inp = Input(shape=(max_len, ))\n",
    "    x = Embedding(nb_words, embed_size, weights=[embedding_matrix], trainable=False)(inp)\n",
    "    x = SpatialDropout1D(dr)(x)\n",
    "    \n",
    "    conv_0 = Conv1D(num_filters, kernel_size=(filter_sizes[0]), kernel_initializer='he_normal', activation='relu')(x)\n",
    "    conv_1 = Conv1D(num_filters, kernel_size=(filter_sizes[1]), kernel_initializer='he_normal', activation='relu')(x)\n",
    "    conv_2 = Conv1D(num_filters, kernel_size=(filter_sizes[2]), kernel_initializer='he_normal', activation='relu')(x)\n",
    "    conv_3 = Conv1D(num_filters, kernel_size=(filter_sizes[3]), kernel_initializer='he_normal', activation='relu')(x)\n",
    "    \n",
    "    maxpool_0 = MaxPool1D(pool_size=(max_len - filter_sizes[0] + 1))(conv_0)\n",
    "    maxpool_1 = MaxPool1D(pool_size=(max_len - filter_sizes[1] + 1))(conv_1)\n",
    "    maxpool_2 = MaxPool1D(pool_size=(max_len - filter_sizes[2] + 1))(conv_2)\n",
    "    maxpool_3 = MaxPool1D(pool_size=(max_len - filter_sizes[3] + 1))(conv_3)\n",
    "    \n",
    "    z = concatenate([maxpool_0, maxpool_1, maxpool_2, maxpool_3])\n",
    "    z = Flatten()(z)\n",
    "    \n",
    "    outp = Dense(NUM_CLASSES, activation=\"sigmoid\")(z)\n",
    "    model = Model(inputs=inp, outputs=outp)\n",
    "    model.compile(loss=\"binary_crossentropy\", optimizer=Adam(lr=lr, decay=lr_d), metrics=['accuracy'])\n",
    "    history = model.fit(X_train, y_new_train, batch_size=BS, epochs=N_EPOCHS, validation_data=(X_valid, y_new_valid), verbose=1, \n",
    "                        callbacks=[f1_val, check_point, early_stop])\n",
    "    preds = model.predict(test, batch_size=1024, verbose=1)[:, 1]\n",
    "    \n",
    "    return model, preds\n",
    "\n",
    "def build_model_flipcnn_backward(test, embedding_matrix, lr=0.0, lr_d=0.0, units=0, dr=0.0, filename=\"flipcnn_backward\"):\n",
    "    \n",
    "    file_path = \"flipcnn_backward-{epoch:02d}.hdf5\"\n",
    "    check_point = ModelCheckpoint(file_path, monitor=\"val_loss\", verbose=1, save_best_only=False, save_weights_only=True, mode='auto', period=1)\n",
    "    f1_val = F1Evaluation(validation_data=(X_valid, y_new_valid), test_data=(test, y_test), interval=1)\n",
    "    early_stop = EarlyStopping(monitor=\"val_loss\", mode=\"min\", patience=5)\n",
    "    \n",
    "    filter_sizes = [1, 2, 3, 4, 5]\n",
    "    num_filters = 36\n",
    "    \n",
    "    inp = Input(shape=(max_len, )) \n",
    "    x = Lambda(lambda x: Ke.reverse(x, axes=-1))(inp)\n",
    "    x = Embedding(nb_words, embed_size, weights=[embedding_matrix], trainable=False)(inp)\n",
    "    x = SpatialDropout1D(dr)(x)\n",
    "    \n",
    "    conv_0 = Conv1D(num_filters, kernel_size=(filter_sizes[0]), kernel_initializer='he_normal', activation='relu')(x)\n",
    "    conv_1 = Conv1D(num_filters, kernel_size=(filter_sizes[1]), kernel_initializer='he_normal', activation='relu')(x)\n",
    "    conv_2 = Conv1D(num_filters, kernel_size=(filter_sizes[2]), kernel_initializer='he_normal', activation='relu')(x)\n",
    "    conv_3 = Conv1D(num_filters, kernel_size=(filter_sizes[3]), kernel_initializer='he_normal', activation='relu')(x)\n",
    "    \n",
    "    maxpool_0 = MaxPool1D(pool_size=(max_len - filter_sizes[0] + 1))(conv_0)\n",
    "    maxpool_1 = MaxPool1D(pool_size=(max_len - filter_sizes[1] + 1))(conv_1)\n",
    "    maxpool_2 = MaxPool1D(pool_size=(max_len - filter_sizes[2] + 1))(conv_2)\n",
    "    maxpool_3 = MaxPool1D(pool_size=(max_len - filter_sizes[3] + 1))(conv_3)\n",
    "    \n",
    "    z = concatenate([maxpool_0, maxpool_1, maxpool_2, maxpool_3])\n",
    "    z = Flatten()(z)\n",
    "    \n",
    "    outp = Dense(NUM_CLASSES, activation=\"sigmoid\")(z)\n",
    "    model = Model(inputs=inp, outputs=outp)\n",
    "    model.compile(loss=\"binary_crossentropy\", optimizer=Adam(lr=lr, decay=lr_d), metrics=['accuracy'])\n",
    "    history = model.fit(X_train, y_new_train, batch_size=BS, epochs=N_EPOCHS, validation_data=(X_valid, y_new_valid), verbose=1, \n",
    "                        callbacks=[f1_val, check_point, early_stop])\n",
    "    preds = model.predict(test, batch_size=1024, verbose=1)[:, 1]\n",
    "    \n",
    "    return model, preds\n",
    "\n",
    "\n",
    "def build_model_flipcnn(test, embedding_matrix, lr=0.0, lr_d=0.0, units=0, dr=0.0):\n",
    "    model_1, preds_1 = build_model_flipcnn_forward(test, embedding_matrix, lr=lr, lr_d=lr_d, units=units, dr=dr, filename=\"flipcnn_forward\")\n",
    "    model_2, preds_2 = build_model_flipcnn_backward(test, embedding_matrix, lr=lr, lr_d=lr_d, units=units, dr=dr, filename=\"flipcnn_backward\")\n",
    "    \n",
    "    preds = (preds_1 + preds_2)/2\n",
    "    \n",
    "    return model_1, model_2, preds, preds_1, preds_2"
   ]
  },
  {
   "cell_type": "code",
   "execution_count": 233,
   "metadata": {},
   "outputs": [
    {
     "name": "stdout",
     "output_type": "stream",
     "text": [
      "Train on 99371 samples, validate on 20593 samples\n",
      "Epoch 1/5\n",
      "99371/99371 [==============================] - 6s 56us/step - loss: 0.0203 - accuracy: 0.9940 - val_loss: 0.1647 - val_accuracy: 0.9647\n",
      "F1 : Epoch : 1 \t Valid Score : 0.9783 \t Test Score : 0.9245\n",
      "\n",
      "Epoch 00001: saving model to flipcnn_forward-01.hdf5\n",
      "Epoch 2/5\n",
      "99371/99371 [==============================] - 5s 49us/step - loss: 0.0024 - accuracy: 0.9992 - val_loss: 0.1815 - val_accuracy: 0.9640\n",
      "F1 : Epoch : 2 \t Valid Score : 0.9778 \t Test Score : 0.9143\n",
      "\n",
      "Epoch 00002: saving model to flipcnn_forward-02.hdf5\n",
      "Epoch 3/5\n",
      "99371/99371 [==============================] - 5s 51us/step - loss: 0.0010 - accuracy: 0.9997 - val_loss: 0.1781 - val_accuracy: 0.9639\n",
      "F1 : Epoch : 3 \t Valid Score : 0.9776 \t Test Score : 0.9143\n",
      "\n",
      "Epoch 00003: saving model to flipcnn_forward-03.hdf5\n",
      "Epoch 4/5\n",
      "99371/99371 [==============================] - 5s 49us/step - loss: 4.6507e-04 - accuracy: 0.9999 - val_loss: 0.2495 - val_accuracy: 0.9579\n",
      "F1 : Epoch : 4 \t Valid Score : 0.9695 \t Test Score : 0.9245\n",
      "\n",
      "Epoch 00004: saving model to flipcnn_forward-04.hdf5\n",
      "Epoch 5/5\n",
      "99371/99371 [==============================] - 5s 50us/step - loss: 3.9934e-04 - accuracy: 0.9999 - val_loss: 0.2201 - val_accuracy: 0.9703\n",
      "F1 : Epoch : 5 \t Valid Score : 0.9869 \t Test Score : 0.9143\n",
      "\n",
      "Epoch 00005: saving model to flipcnn_forward-05.hdf5\n",
      "92/92 [==============================] - 0s 110us/step\n",
      "Train on 99371 samples, validate on 20593 samples\n",
      "Epoch 1/5\n",
      "99371/99371 [==============================] - 5s 55us/step - loss: 0.0363 - accuracy: 0.9904 - val_loss: 0.1462 - val_accuracy: 0.9541\n",
      "F1 : Epoch : 1 \t Valid Score : 0.9628 \t Test Score : 0.9245\n",
      "\n",
      "Epoch 00001: saving model to flipcnn_backward-01.hdf5\n",
      "Epoch 2/5\n",
      "99371/99371 [==============================] - 5s 48us/step - loss: 0.0032 - accuracy: 0.9990 - val_loss: 0.1469 - val_accuracy: 0.9560\n",
      "F1 : Epoch : 2 \t Valid Score : 0.9656 \t Test Score : 0.9245\n",
      "\n",
      "Epoch 00002: saving model to flipcnn_backward-02.hdf5\n",
      "Epoch 3/5\n",
      "99371/99371 [==============================] - 5s 52us/step - loss: 0.0017 - accuracy: 0.9995 - val_loss: 0.1852 - val_accuracy: 0.9577\n",
      "F1 : Epoch : 3 \t Valid Score : 0.9553 \t Test Score : 0.9245\n",
      "\n",
      "Epoch 00003: saving model to flipcnn_backward-03.hdf5\n",
      "Epoch 4/5\n",
      "99371/99371 [==============================] - 5s 52us/step - loss: 9.9291e-04 - accuracy: 0.9997 - val_loss: 0.1861 - val_accuracy: 0.9574\n",
      "F1 : Epoch : 4 \t Valid Score : 0.9679 \t Test Score : 0.9245\n",
      "\n",
      "Epoch 00004: saving model to flipcnn_backward-04.hdf5\n",
      "Epoch 5/5\n",
      "99371/99371 [==============================] - 5s 54us/step - loss: 5.4070e-04 - accuracy: 0.9998 - val_loss: 0.1525 - val_accuracy: 0.9784\n",
      "F1 : Epoch : 5 \t Valid Score : 0.9850 \t Test Score : 0.9245\n",
      "\n",
      "Epoch 00005: saving model to flipcnn_backward-05.hdf5\n",
      "92/92 [==============================] - 0s 48us/step\n"
     ]
    }
   ],
   "source": [
    "model_fow, model_back, avg_preds, for_preds, back_preds = build_model_flipcnn(test, embedding_matrix, lr=lr, lr_d=lr_d, units=units, dr=dr)"
   ]
  },
  {
   "cell_type": "code",
   "execution_count": 234,
   "metadata": {},
   "outputs": [
    {
     "data": {
      "text/plain": [
       "(0.9245283018867925, 0.9142857142857143, 0.9245283018867925)"
      ]
     },
     "execution_count": 234,
     "metadata": {},
     "output_type": "execute_result"
    }
   ],
   "source": [
    "# # Best epochs indexes : \n",
    "# 1. For : 1 0.9245\n",
    "# 2. Back : 5 0.9245\n",
    "\n",
    "eval_t(avg_preds), eval_t(for_preds), eval_t(back_preds)"
   ]
  },
  {
   "cell_type": "code",
   "execution_count": 235,
   "metadata": {},
   "outputs": [
    {
     "name": "stdout",
     "output_type": "stream",
     "text": [
      "flipcnn_forward-01.hdf5\n",
      "92/92 [==============================] - 0s 26us/step\n",
      "flipcnn_backward-05.hdf5\n",
      "92/92 [==============================] - 0s 24us/step\n"
     ]
    },
    {
     "data": {
      "text/html": [
       "<div>\n",
       "<style scoped>\n",
       "    .dataframe tbody tr th:only-of-type {\n",
       "        vertical-align: middle;\n",
       "    }\n",
       "\n",
       "    .dataframe tbody tr th {\n",
       "        vertical-align: top;\n",
       "    }\n",
       "\n",
       "    .dataframe thead th {\n",
       "        text-align: right;\n",
       "    }\n",
       "</style>\n",
       "<table border=\"1\" class=\"dataframe\">\n",
       "  <thead>\n",
       "    <tr style=\"text-align: right;\">\n",
       "      <th></th>\n",
       "      <th>flipcnn_forward</th>\n",
       "      <th>flipcnn_backward</th>\n",
       "      <th>flipcnn_average</th>\n",
       "    </tr>\n",
       "  </thead>\n",
       "  <tbody>\n",
       "    <tr>\n",
       "      <th>0</th>\n",
       "      <td>0.000015</td>\n",
       "      <td>0.000011</td>\n",
       "      <td>0.000013</td>\n",
       "    </tr>\n",
       "    <tr>\n",
       "      <th>1</th>\n",
       "      <td>0.961477</td>\n",
       "      <td>0.999855</td>\n",
       "      <td>0.980666</td>\n",
       "    </tr>\n",
       "    <tr>\n",
       "      <th>2</th>\n",
       "      <td>0.999987</td>\n",
       "      <td>0.999994</td>\n",
       "      <td>0.999991</td>\n",
       "    </tr>\n",
       "    <tr>\n",
       "      <th>3</th>\n",
       "      <td>1.000000</td>\n",
       "      <td>1.000000</td>\n",
       "      <td>1.000000</td>\n",
       "    </tr>\n",
       "    <tr>\n",
       "      <th>4</th>\n",
       "      <td>0.000048</td>\n",
       "      <td>0.000006</td>\n",
       "      <td>0.000027</td>\n",
       "    </tr>\n",
       "  </tbody>\n",
       "</table>\n",
       "</div>"
      ],
      "text/plain": [
       "   flipcnn_forward  flipcnn_backward  flipcnn_average\n",
       "0         0.000015          0.000011         0.000013\n",
       "1         0.961477          0.999855         0.980666\n",
       "2         0.999987          0.999994         0.999991\n",
       "3         1.000000          1.000000         1.000000\n",
       "4         0.000048          0.000006         0.000027"
      ]
     },
     "execution_count": 235,
     "metadata": {},
     "output_type": "execute_result"
    }
   ],
   "source": [
    "# Best epochs indexes \n",
    "\n",
    "sub = pd.DataFrame()\n",
    "best_epoch_dict = {\n",
    "    \"flipcnn_forward\" : [1, model_fow],\n",
    "    \"flipcnn_backward\" : [5, model_back],\n",
    "}\n",
    "avg_preds = np.zeros(for_preds.shape[0])\n",
    "\n",
    "for key, (epoch_id, model) in best_epoch_dict.items():\n",
    "    model_path = \"{}-0{}.hdf5\".format(key, epoch_id)\n",
    "    print(model_path)\n",
    "    model.load_weights(model_path)\n",
    "    preds = model.predict(test, batch_size=1024, verbose=1)[:, 1]\n",
    "    sub[key] = preds\n",
    "    \n",
    "    if key in ['flipcnn_forward', 'flipcnn_backward']:\n",
    "        avg_preds += preds\n",
    "avg_preds /= 2\n",
    "sub['flipcnn_average'] = avg_preds\n",
    "\n",
    "sub.head()"
   ]
  },
  {
   "cell_type": "code",
   "execution_count": 1,
   "metadata": {},
   "outputs": [],
   "source": [
    "# eval_t(sub['flipcnn_average']), eval_t(sub['flipcnn_backward']), eval_t(sub['flipcnn_forward'])"
   ]
  },
  {
   "cell_type": "markdown",
   "metadata": {},
   "source": [
    "## Final Ensemble"
   ]
  },
  {
   "cell_type": "code",
   "execution_count": 237,
   "metadata": {},
   "outputs": [],
   "source": [
    "test = pd.read_csv(\"test_ne_imputed.csv\")\n",
    "target = 'category'\n",
    "y_test = test[target].map({\"R\": 0, \"S\": 1}).values"
   ]
  },
  {
   "cell_type": "code",
   "execution_count": 240,
   "metadata": {},
   "outputs": [
    {
     "name": "stdout",
     "output_type": "stream",
     "text": [
      "Best Ensemble Model Scored 0.9541 on test data\n"
     ]
    }
   ],
   "source": [
    "T = 0.5\n",
    "ens_1 = (((soft_preds['gaussian_nb'] + soft_preds['log_reg'] + soft_preds['lgb'])/3) + (sub['flipcnn_backward']))/2\n",
    "\n",
    "print(\"Best Ensemble Model Scored {} on test data\".format(f1_score(y_test, (ens_1>T).astype(int))))"
   ]
  },
  {
   "cell_type": "markdown",
   "metadata": {},
   "source": [
    "## END"
   ]
  }
 ],
 "metadata": {
  "kernelspec": {
   "display_name": "Python 3",
   "language": "python",
   "name": "python3"
  },
  "language_info": {
   "codemirror_mode": {
    "name": "ipython",
    "version": 3
   },
   "file_extension": ".py",
   "mimetype": "text/x-python",
   "name": "python",
   "nbconvert_exporter": "python",
   "pygments_lexer": "ipython3",
   "version": "3.7.3"
  }
 },
 "nbformat": 4,
 "nbformat_minor": 4
}

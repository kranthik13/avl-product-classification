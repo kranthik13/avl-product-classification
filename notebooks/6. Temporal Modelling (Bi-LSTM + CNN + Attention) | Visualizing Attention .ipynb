{
 "cells": [
  {
   "cell_type": "code",
   "execution_count": 17,
   "metadata": {
    "_cell_guid": "79c7e3d0-c299-4dcb-8224-4455121ee9b0",
    "_uuid": "d629ff2d2480ee46fbb7e2d37f6b5fab8052498a"
   },
   "outputs": [
    {
     "name": "stderr",
     "output_type": "stream",
     "text": [
      "/opt/conda/lib/python3.7/site-packages/tqdm/std.py:666: FutureWarning: The Panel class is removed from pandas. Accessing it from the top-level namespace will also be removed in the next version\n",
      "  from pandas import Panel\n"
     ]
    }
   ],
   "source": [
    "import sys \n",
    "import gc\n",
    "import os \n",
    "import re \n",
    "import csv\n",
    "import time\n",
    "import codecs\n",
    "\n",
    "import numpy as np\n",
    "import pandas as pd\n",
    "\n",
    "import logging\n",
    "from sklearn.metrics import roc_auc_score, f1_score\n",
    "from sklearn.model_selection import train_test_split\n",
    "\n",
    "from keras.preprocessing.text import Tokenizer\n",
    "from keras.preprocessing.sequence import pad_sequences\n",
    "from keras.layers import Input, Bidirectional, Dense, LSTM, Embedding, Dropout, Activation, Lambda\n",
    "from keras.layers import Add, Flatten, BatchNormalization, concatenate, SpatialDropout1D\n",
    "from keras.layers import Conv1D, GlobalMaxPool1D, GlobalAveragePooling1D, GlobalMaxPooling1D, MaxPooling1D, MaxPool1D\n",
    "from keras.models import Model, load_model\n",
    "from keras import initializers, regularizers, constraints, optimizers, layers, callbacks\n",
    "from keras import backend as K\n",
    "from keras.engine import InputSpec, Layer\n",
    "from keras.callbacks import Callback, EarlyStopping, ModelCheckpoint, LearningRateScheduler\n",
    "from keras.optimizers import Adam, RMSprop\n",
    "\n",
    "\n",
    "from gensim.models import Word2Vec\n",
    "from tqdm import tqdm, tqdm_notebook\n",
    "tqdm.pandas()\n",
    "\n",
    "start_time = time.time()\n",
    "np.random.seed(32)\n",
    "os.environ[\"OMP_NUM_THREADS\"] = \"4\"\n"
   ]
  },
  {
   "cell_type": "code",
   "execution_count": 2,
   "metadata": {},
   "outputs": [],
   "source": [
    "import matplotlib.pyplot as plt\n",
    "import seaborn as sns\n",
    "%matplotlib inline"
   ]
  },
  {
   "cell_type": "code",
   "execution_count": 3,
   "metadata": {},
   "outputs": [],
   "source": [
    "class F1Evaluation(Callback):\n",
    "    def __init__(self, validation_data=(), test_data=(), interval=1):\n",
    "        super(Callback, self).__init__()\n",
    "        \n",
    "        self.interval = interval\n",
    "        self.X_val, self.y_val = validation_data\n",
    "        self.X_test, self.y_test = test_data\n",
    "        self.y_val = self.y_val[:, 1]\n",
    "        self.y_test = self.y_test[:, 1]\n",
    "        self.T = 0.5\n",
    "    \n",
    "    def on_epoch_end(self, epoch, logs={}):\n",
    "        if epoch % self.interval == 0:\n",
    "            y_val = self.model.predict(self.X_val, verbose=0)[:, 1]\n",
    "            y_test = self.model.predict(self.X_test, verbose=0)[:, 1]\n",
    "            y_val[y_val >= self.T] = 1\n",
    "            y_val[y_val < self.T] = 0\n",
    "            y_test[y_test >= self.T] = 1\n",
    "            y_test[y_test < self.T] = 0\n",
    "            \n",
    "            val_score = f1_score(self.y_val, y_val)\n",
    "            test_score = f1_score(self.y_test, y_test)\n",
    "            print(\"F1 : Epoch : {} \\t Valid Score : {:.4f} \\t Test Score : {:.4f}\".format(epoch+1, val_score, test_score))"
   ]
  },
  {
   "cell_type": "code",
   "execution_count": 4,
   "metadata": {},
   "outputs": [],
   "source": [
    "def get_data():\n",
    "    train = pd.read_csv(\"../input/avlpp-2/train_ne.csv\")\n",
    "    test = pd.read_csv(\"../input/avalaraproduct-classification/test_ne_imputed.csv\")\n",
    "    print(\"Train Shape : {}\\nTest Shape :  {}\".format(train.shape, test.shape))\n",
    "    \n",
    "    train = train[['fold_id', 'title', 'description', 'text', 'category', 'source']]\n",
    "    test = test[['title', 'description', 'text', 'category']]\n",
    "    train.dropna(inplace=True)\n",
    "    \n",
    "    return train, test"
   ]
  },
  {
   "cell_type": "code",
   "execution_count": 5,
   "metadata": {},
   "outputs": [
    {
     "name": "stdout",
     "output_type": "stream",
     "text": [
      "Train Shape : (1199998, 6)\n",
      "Test Shape :  (92, 5)\n"
     ]
    }
   ],
   "source": [
    "train, test = get_data()\n",
    "target = 'category'"
   ]
  },
  {
   "cell_type": "code",
   "execution_count": 6,
   "metadata": {},
   "outputs": [
    {
     "data": {
      "text/html": [
       "<div>\n",
       "<style scoped>\n",
       "    .dataframe tbody tr th:only-of-type {\n",
       "        vertical-align: middle;\n",
       "    }\n",
       "\n",
       "    .dataframe tbody tr th {\n",
       "        vertical-align: top;\n",
       "    }\n",
       "\n",
       "    .dataframe thead th {\n",
       "        text-align: right;\n",
       "    }\n",
       "</style>\n",
       "<table border=\"1\" class=\"dataframe\">\n",
       "  <thead>\n",
       "    <tr style=\"text-align: right;\">\n",
       "      <th></th>\n",
       "      <th>fold_id</th>\n",
       "      <th>title</th>\n",
       "      <th>description</th>\n",
       "      <th>text</th>\n",
       "      <th>category</th>\n",
       "      <th>source</th>\n",
       "    </tr>\n",
       "  </thead>\n",
       "  <tbody>\n",
       "    <tr>\n",
       "      <th>0</th>\n",
       "      <td>1</td>\n",
       "      <td>ziczac black red euro 44</td>\n",
       "      <td>clothing related products b2c shoes shoe laces</td>\n",
       "      <td>ziczac black red euro 44 clothing related prod...</td>\n",
       "      <td>R</td>\n",
       "      <td>valid</td>\n",
       "    </tr>\n",
       "    <tr>\n",
       "      <th>1</th>\n",
       "      <td>1</td>\n",
       "      <td>9x9 resista 484938</td>\n",
       "      <td>publishing printing printing services</td>\n",
       "      <td>9x9 resista 484938 publishing printing printin...</td>\n",
       "      <td>S</td>\n",
       "      <td>train</td>\n",
       "    </tr>\n",
       "    <tr>\n",
       "      <th>2</th>\n",
       "      <td>1</td>\n",
       "      <td>halle pant short inseam 013049561d0010001 02</td>\n",
       "      <td>clothing related products b2c general</td>\n",
       "      <td>halle pant short inseam 013049561d0010001 02 c...</td>\n",
       "      <td>R</td>\n",
       "      <td>train</td>\n",
       "    </tr>\n",
       "    <tr>\n",
       "      <th>3</th>\n",
       "      <td>1</td>\n",
       "      <td>harry houser travel expenses meals</td>\n",
       "      <td>security personnel</td>\n",
       "      <td>harry houser travel expenses meals security pe...</td>\n",
       "      <td>S</td>\n",
       "      <td>train</td>\n",
       "    </tr>\n",
       "    <tr>\n",
       "      <th>4</th>\n",
       "      <td>1</td>\n",
       "      <td>tee time 740078609 greens fee composite</td>\n",
       "      <td>admissions green fees privately owned golf course</td>\n",
       "      <td>tee time 740078609 greens fee composite admiss...</td>\n",
       "      <td>R</td>\n",
       "      <td>valid</td>\n",
       "    </tr>\n",
       "  </tbody>\n",
       "</table>\n",
       "</div>"
      ],
      "text/plain": [
       "   fold_id                                         title  \\\n",
       "0        1                      ziczac black red euro 44   \n",
       "1        1                            9x9 resista 484938   \n",
       "2        1  halle pant short inseam 013049561d0010001 02   \n",
       "3        1            harry houser travel expenses meals   \n",
       "4        1       tee time 740078609 greens fee composite   \n",
       "\n",
       "                                         description  \\\n",
       "0     clothing related products b2c shoes shoe laces   \n",
       "1              publishing printing printing services   \n",
       "2              clothing related products b2c general   \n",
       "3                                 security personnel   \n",
       "4  admissions green fees privately owned golf course   \n",
       "\n",
       "                                                text category source  \n",
       "0  ziczac black red euro 44 clothing related prod...        R  valid  \n",
       "1  9x9 resista 484938 publishing printing printin...        S  train  \n",
       "2  halle pant short inseam 013049561d0010001 02 c...        R  train  \n",
       "3  harry houser travel expenses meals security pe...        S  train  \n",
       "4  tee time 740078609 greens fee composite admiss...        R  valid  "
      ]
     },
     "execution_count": 6,
     "metadata": {},
     "output_type": "execute_result"
    }
   ],
   "source": [
    "train.head()"
   ]
  },
  {
   "cell_type": "code",
   "execution_count": 7,
   "metadata": {},
   "outputs": [],
   "source": [
    "K = 6"
   ]
  },
  {
   "cell_type": "code",
   "execution_count": 8,
   "metadata": {},
   "outputs": [],
   "source": [
    "train[target] = train[target].map({\"R\": 0, \"S\": 1})\n",
    "train['target_S'] = np.nan\n",
    "train['target_R'] = np.nan\n",
    "train['target_R'] = 1 - train[target].values\n",
    "train['target_S'] = train[target].values\n",
    "\n",
    "train.drop([target], axis=1, inplace=True)"
   ]
  },
  {
   "cell_type": "code",
   "execution_count": 9,
   "metadata": {},
   "outputs": [],
   "source": [
    "test[target] = test[target].map({\"R\": 0, \"S\": 1})\n",
    "test['target_S'] = np.nan\n",
    "test['target_R'] = np.nan\n",
    "test['target_R'] = 1 - test[target].values\n",
    "test['target_S'] = test[target].values\n",
    "\n",
    "y_test_true = test['target_S'].values\n",
    "test.drop([target], axis=1, inplace=True)"
   ]
  },
  {
   "cell_type": "code",
   "execution_count": 10,
   "metadata": {},
   "outputs": [],
   "source": [
    "list_classes = [\"target_R\", \"target_S\"]"
   ]
  },
  {
   "cell_type": "code",
   "execution_count": 11,
   "metadata": {},
   "outputs": [],
   "source": [
    "### Splitter\n",
    "\n",
    "def splitter(data, k=K):\n",
    "    \n",
    "    data_v1 = data[data['fold_id'] == k].copy()\n",
    "    data_v1.reset_index(drop=True, inplace=True)\n",
    "    \n",
    "    train_set = data_v1[data_v1['source'] == 'train'].copy()\n",
    "    valid_set = data_v1[data_v1['source'] == 'valid'].copy()\n",
    "    train_set.reset_index(drop=True, inplace=True)\n",
    "    valid_set.reset_index(drop=True, inplace=True)\n",
    "    \n",
    "    del data_v1\n",
    "    gc.collect()\n",
    "    \n",
    "#     print(train_set.shape, valid_set.shape)\n",
    "    \n",
    "    return train_set, valid_set, train_set[list_classes].values, valid_set[list_classes].values"
   ]
  },
  {
   "cell_type": "code",
   "execution_count": 12,
   "metadata": {},
   "outputs": [],
   "source": [
    "T = 0.5\n",
    "def eval_t(y_pred, y_true=y_test_true):\n",
    "    y_pred[y_pred >= T] = 1\n",
    "    y_pred[y_pred < T] = 0\n",
    "    \n",
    "    return f1_score(y_true, y_pred)"
   ]
  },
  {
   "cell_type": "code",
   "execution_count": 13,
   "metadata": {},
   "outputs": [
    {
     "data": {
      "image/png": "[encoded data removed]",
      "text/plain": [
       "<Figure size 432x288 with 1 Axes>"
      ]
     },
     "metadata": {
      "needs_background": "light"
     },
     "output_type": "display_data"
    }
   ],
   "source": [
    "# visualize word length distribution\n",
    "train['doc_len'] = train['text'].apply(lambda words: len(words.split(\" \")))\n",
    "max_len = np.round(train['doc_len'].mean() + 2*train['doc_len'].std()).astype(int)\n",
    "\n",
    "sns.distplot(train['doc_len'], hist=True, kde=True, color='b', label='doc len')\n",
    "plt.axvline(x=max_len, color='k', linestyle='--', label='max len')\n",
    "plt.title('comment length')\n",
    "plt.legend()\n",
    "plt.show()"
   ]
  },
  {
   "cell_type": "code",
   "execution_count": 14,
   "metadata": {},
   "outputs": [
    {
     "data": {
      "text/plain": [
       "26"
      ]
     },
     "execution_count": 14,
     "metadata": {},
     "output_type": "execute_result"
    }
   ],
   "source": [
    "max_len"
   ]
  },
  {
   "cell_type": "code",
   "execution_count": 15,
   "metadata": {},
   "outputs": [],
   "source": [
    "embed_size = 100\n",
    "max_features = 1_000_000\n",
    "max_len = 50\n",
    "\n",
    "BS = 128"
   ]
  },
  {
   "cell_type": "code",
   "execution_count": 19,
   "metadata": {},
   "outputs": [
    {
     "name": "stdout",
     "output_type": "stream",
     "text": [
      "(99371, 8) (20593, 8) (99371, 2) (20593, 2)\n"
     ]
    }
   ],
   "source": [
    "y_test = test[list_classes].values\n",
    "\n",
    "X_train, X_valid, y_new_train, y_new_valid = splitter(train)\n",
    "print(X_train.shape, X_valid.shape, y_new_train.shape, y_new_valid.shape)"
   ]
  },
  {
   "cell_type": "markdown",
   "metadata": {},
   "source": [
    "## Custom Word2Vec"
   ]
  },
  {
   "cell_type": "code",
   "execution_count": 20,
   "metadata": {},
   "outputs": [
    {
     "name": "stderr",
     "output_type": "stream",
     "text": [
      "100%|██████████| 1199559/1199559 [00:06<00:00, 192429.56it/s]\n",
      "100%|██████████| 92/92 [00:00<00:00, 63393.46it/s]\n"
     ]
    },
    {
     "name": "stdout",
     "output_type": "stream",
     "text": [
      "Length of Vocabulary : 47157\n",
      "CPU times: user 3min 56s, sys: 1.86 s, total: 3min 58s\n",
      "Wall time: 2min 29s\n"
     ]
    }
   ],
   "source": [
    "%%time\n",
    "\n",
    "col = 'text'\n",
    "\n",
    "values = train[col].progress_apply(lambda x: x.split()).values.tolist() + test[col].progress_apply(\n",
    "    lambda x: x.split()).values.tolist()\n",
    "embedding_index = Word2Vec(values, min_count=5, size=embed_size)\n",
    "print(\"Length of Vocabulary : {}\".format(len(embedding_index.wv.vocab)))"
   ]
  },
  {
   "cell_type": "code",
   "execution_count": 21,
   "metadata": {},
   "outputs": [
    {
     "name": "stderr",
     "output_type": "stream",
     "text": [
      "/opt/conda/lib/python3.7/site-packages/ipykernel_launcher.py:1: DeprecationWarning: Call to deprecated `__getitem__` (Method will be removed in 4.0.0, use self.wv.__getitem__() instead).\n",
      "  \"\"\"Entry point for launching an IPython kernel.\n"
     ]
    },
    {
     "data": {
      "text/plain": [
       "(100,)"
      ]
     },
     "execution_count": 21,
     "metadata": {},
     "output_type": "execute_result"
    }
   ],
   "source": [
    "embedding_index[\"shirt\"].shape"
   ]
  },
  {
   "cell_type": "code",
   "execution_count": 22,
   "metadata": {},
   "outputs": [],
   "source": [
    "raw_text_train = X_train['text'].str.lower()\n",
    "raw_text_valid = X_valid['text'].str.lower()\n",
    "raw_text_test = test['text'].str.lower()"
   ]
  },
  {
   "cell_type": "code",
   "execution_count": 23,
   "metadata": {},
   "outputs": [
    {
     "name": "stdout",
     "output_type": "stream",
     "text": [
      "CPU times: user 7.04 s, sys: 69.9 ms, total: 7.11 s\n",
      "Wall time: 7.11 s\n"
     ]
    }
   ],
   "source": [
    "%%time\n",
    "\n",
    "tk = Tokenizer(num_words=max_features, lower=True)\n",
    "tk.fit_on_texts(raw_text_train.values.tolist() + raw_text_valid.values.tolist() + test['text'].values.tolist())\n",
    "X_train['seq'] = tk.texts_to_sequences(raw_text_train.values)\n",
    "X_valid['seq'] = tk.texts_to_sequences(raw_text_valid.values)\n",
    "test['seq'] = tk.texts_to_sequences(raw_text_test.values)\n",
    "\n",
    "X_train = pad_sequences(X_train.seq, maxlen=max_len)\n",
    "X_valid = pad_sequences(X_valid.seq, maxlen=max_len)\n",
    "test = pad_sequences(test.seq, maxlen=max_len)"
   ]
  },
  {
   "cell_type": "markdown",
   "metadata": {},
   "source": [
    "## Word2Vec"
   ]
  },
  {
   "cell_type": "code",
   "execution_count": 24,
   "metadata": {},
   "outputs": [
    {
     "name": "stderr",
     "output_type": "stream",
     "text": [
      "/opt/conda/lib/python3.7/site-packages/ipykernel_launcher.py:6: TqdmDeprecationWarning: This function will be removed in tqdm==5.0.0\n",
      "Please use `tqdm.notebook.tqdm` instead of `tqdm.tqdm_notebook`\n",
      "  \n"
     ]
    },
    {
     "data": {
      "application/vnd.jupyter.widget-view+json": {
       "model_id": "b6ea582ec0f946b8b901e21ddc54f85a",
       "version_major": 2,
       "version_minor": 0
      },
      "text/plain": [
       "HBox(children=(FloatProgress(value=0.0, max=157153.0), HTML(value='')))"
      ]
     },
     "metadata": {},
     "output_type": "display_data"
    },
    {
     "name": "stderr",
     "output_type": "stream",
     "text": [
      "/opt/conda/lib/python3.7/site-packages/ipykernel_launcher.py:10: DeprecationWarning: Call to deprecated `__getitem__` (Method will be removed in 4.0.0, use self.wv.__getitem__() instead).\n",
      "  # Remove the CWD from sys.path while we load stuff.\n"
     ]
    },
    {
     "name": "stdout",
     "output_type": "stream",
     "text": [
      "\n",
      "Number of words : 157153\n",
      "Coverage : 21.60\n"
     ]
    }
   ],
   "source": [
    "word_index = tk.word_index\n",
    "nb_words = min(max_features, len(word_index))\n",
    "\n",
    "embedding_matrix = np.zeros((nb_words, embed_size))\n",
    "cnt = 0\n",
    "for word, i in tqdm_notebook(word_index.items()):\n",
    "    if i>= nb_words:\n",
    "        continue\n",
    "    try:\n",
    "        embedding_vector = embedding_index[word]\n",
    "        if embedding_vector is not None:\n",
    "            embedding_matrix[i] = embedding_vector\n",
    "            cnt += 1\n",
    "    except KeyError:\n",
    "        continue\n",
    "cov = (cnt / nb_words)*100\n",
    "print(\"Number of words : {}\".format(nb_words))\n",
    "print(\"Coverage : {:.2f}\".format(cov))"
   ]
  },
  {
   "cell_type": "markdown",
   "metadata": {},
   "source": [
    "## Modelling Utils"
   ]
  },
  {
   "cell_type": "code",
   "execution_count": 25,
   "metadata": {},
   "outputs": [],
   "source": [
    "lr = 1e-3\n",
    "lr_d = 0\n",
    "units = 128\n",
    "dr = 0.2"
   ]
  },
  {
   "cell_type": "code",
   "execution_count": 26,
   "metadata": {},
   "outputs": [],
   "source": [
    "N_EPOCHS = 5\n",
    "NUM_CLASSES = 2"
   ]
  },
  {
   "cell_type": "markdown",
   "metadata": {},
   "source": [
    "## FlipCNN"
   ]
  },
  {
   "cell_type": "code",
   "execution_count": 27,
   "metadata": {},
   "outputs": [],
   "source": [
    "def build_model_flipcnn_forward(test, embedding_matrix, lr=0.0, lr_d=0.0, units=0, dr=0.0, filename=\"flipcnn_forward\"):\n",
    "    \n",
    "    file_path = \"flipcnn_forward-{epoch:02d}.hdf5\"\n",
    "    check_point = ModelCheckpoint(file_path, monitor=\"val_loss\", verbose=1, save_best_only=False, save_weights_only=True, mode='auto', period=1)\n",
    "    f1_val = F1Evaluation(validation_data=(X_valid, y_new_valid), test_data=(test, y_test), interval=1)\n",
    "    early_stop = EarlyStopping(monitor=\"val_loss\", mode=\"min\", patience=5)\n",
    "    \n",
    "    filter_sizes = [1, 2, 3, 4, 5]\n",
    "    num_filters = 36\n",
    "    \n",
    "    inp = Input(shape=(max_len, ))\n",
    "    x = Embedding(nb_words, embed_size, weights=[embedding_matrix], trainable=False)(inp)\n",
    "    x = SpatialDropout1D(dr)(x)\n",
    "    \n",
    "    conv_0 = Conv1D(num_filters, kernel_size=(filter_sizes[0]), kernel_initializer='he_normal', activation='relu')(x)\n",
    "    conv_1 = Conv1D(num_filters, kernel_size=(filter_sizes[1]), kernel_initializer='he_normal', activation='relu')(x)\n",
    "    conv_2 = Conv1D(num_filters, kernel_size=(filter_sizes[2]), kernel_initializer='he_normal', activation='relu')(x)\n",
    "    conv_3 = Conv1D(num_filters, kernel_size=(filter_sizes[3]), kernel_initializer='he_normal', activation='relu')(x)\n",
    "    \n",
    "    maxpool_0 = MaxPool1D(pool_size=(max_len - filter_sizes[0] + 1))(conv_0)\n",
    "    maxpool_1 = MaxPool1D(pool_size=(max_len - filter_sizes[1] + 1))(conv_1)\n",
    "    maxpool_2 = MaxPool1D(pool_size=(max_len - filter_sizes[2] + 1))(conv_2)\n",
    "    maxpool_3 = MaxPool1D(pool_size=(max_len - filter_sizes[3] + 1))(conv_3)\n",
    "    \n",
    "    z = concatenate([maxpool_0, maxpool_1, maxpool_2, maxpool_3])\n",
    "    z = Flatten()(z)\n",
    "    \n",
    "    outp = Dense(NUM_CLASSES, activation=\"sigmoid\")(z)\n",
    "    model = Model(inputs=inp, outputs=outp)\n",
    "    model.compile(loss=\"binary_crossentropy\", optimizer=Adam(lr=lr, decay=lr_d), metrics=['accuracy'])\n",
    "    history = model.fit(X_train, y_new_train, batch_size=BS, epochs=N_EPOCHS, validation_data=(X_valid, y_new_valid), verbose=1, \n",
    "                        callbacks=[f1_val, check_point, early_stop])\n",
    "    preds = model.predict(test, batch_size=1024, verbose=1)[:, 1]\n",
    "    \n",
    "    return model, preds\n",
    "\n",
    "def build_model_flipcnn_backward(test, embedding_matrix, lr=0.0, lr_d=0.0, units=0, dr=0.0, filename=\"flipcnn_backward\"):\n",
    "    \n",
    "    file_path = \"flipcnn_backward-{epoch:02d}.hdf5\"\n",
    "    check_point = ModelCheckpoint(file_path, monitor=\"val_loss\", verbose=1, save_best_only=False, save_weights_only=True, mode='auto', period=1)\n",
    "    f1_val = F1Evaluation(validation_data=(X_valid, y_new_valid), test_data=(test, y_test), interval=1)\n",
    "    early_stop = EarlyStopping(monitor=\"val_loss\", mode=\"min\", patience=5)\n",
    "    \n",
    "    filter_sizes = [1, 2, 3, 4, 5]\n",
    "    num_filters = 36\n",
    "    \n",
    "    inp = Input(shape=(max_len, )) \n",
    "    x = Lambda(lambda x: K.reverse(x, axes=-1))(inp)\n",
    "    x = Embedding(nb_words, embed_size, weights=[embedding_matrix], trainable=False)(inp)\n",
    "    x = SpatialDropout1D(dr)(x)\n",
    "    \n",
    "    conv_0 = Conv1D(num_filters, kernel_size=(filter_sizes[0]), kernel_initializer='he_normal', activation='relu')(x)\n",
    "    conv_1 = Conv1D(num_filters, kernel_size=(filter_sizes[1]), kernel_initializer='he_normal', activation='relu')(x)\n",
    "    conv_2 = Conv1D(num_filters, kernel_size=(filter_sizes[2]), kernel_initializer='he_normal', activation='relu')(x)\n",
    "    conv_3 = Conv1D(num_filters, kernel_size=(filter_sizes[3]), kernel_initializer='he_normal', activation='relu')(x)\n",
    "    \n",
    "    maxpool_0 = MaxPool1D(pool_size=(max_len - filter_sizes[0] + 1))(conv_0)\n",
    "    maxpool_1 = MaxPool1D(pool_size=(max_len - filter_sizes[1] + 1))(conv_1)\n",
    "    maxpool_2 = MaxPool1D(pool_size=(max_len - filter_sizes[2] + 1))(conv_2)\n",
    "    maxpool_3 = MaxPool1D(pool_size=(max_len - filter_sizes[3] + 1))(conv_3)\n",
    "    \n",
    "    z = concatenate([maxpool_0, maxpool_1, maxpool_2, maxpool_3])\n",
    "    z = Flatten()(z)\n",
    "    \n",
    "    outp = Dense(NUM_CLASSES, activation=\"sigmoid\")(z)\n",
    "    model = Model(inputs=inp, outputs=outp)\n",
    "    model.compile(loss=\"binary_crossentropy\", optimizer=Adam(lr=lr, decay=lr_d), metrics=['accuracy'])\n",
    "    history = model.fit(X_train, y_new_train, batch_size=BS, epochs=N_EPOCHS, validation_data=(X_valid, y_new_valid), verbose=1, \n",
    "                        callbacks=[f1_val, check_point, early_stop])\n",
    "    preds = model.predict(test, batch_size=1024, verbose=1)[:, 1]\n",
    "    \n",
    "    return model, preds\n",
    "\n",
    "\n",
    "def build_model_flipcnn(test, embedding_matrix, lr=0.0, lr_d=0.0, units=0, dr=0.0):\n",
    "    model_1, preds_1 = build_model_flipcnn_forward(test, embedding_matrix, lr=lr, lr_d=lr_d, units=units, dr=dr, filename=\"flipcnn_forward\")\n",
    "    model_2, preds_2 = build_model_flipcnn_backward(test, embedding_matrix, lr=lr, lr_d=lr_d, units=units, dr=dr, filename=\"flipcnn_backward\")\n",
    "    \n",
    "    preds = (preds_1 + preds_2)/2\n",
    "    \n",
    "    return model_1, model_2, preds, preds_1, preds_2"
   ]
  },
  {
   "cell_type": "code",
   "execution_count": 28,
   "metadata": {},
   "outputs": [
    {
     "name": "stdout",
     "output_type": "stream",
     "text": [
      "Train on 99371 samples, validate on 20593 samples\n",
      "Epoch 1/5\n",
      "99371/99371 [==============================] - 10s 99us/step - loss: 0.0324 - accuracy: 0.9913 - val_loss: 0.1548 - val_accuracy: 0.9379\n",
      "F1 : Epoch : 1 \t Valid Score : 0.9497 \t Test Score : 0.8762\n",
      "\n",
      "Epoch 00001: saving model to flipcnn_forward-01.hdf5\n",
      "Epoch 2/5\n",
      "99371/99371 [==============================] - 5s 51us/step - loss: 0.0036 - accuracy: 0.9989 - val_loss: 0.1803 - val_accuracy: 0.9424\n",
      "F1 : Epoch : 2 \t Valid Score : 0.9423 \t Test Score : 0.8952\n",
      "\n",
      "Epoch 00002: saving model to flipcnn_forward-02.hdf5\n",
      "Epoch 3/5\n",
      "99371/99371 [==============================] - 5s 50us/step - loss: 0.0017 - accuracy: 0.9995 - val_loss: 0.1595 - val_accuracy: 0.9468\n",
      "F1 : Epoch : 3 \t Valid Score : 0.9485 \t Test Score : 0.8807\n",
      "\n",
      "Epoch 00003: saving model to flipcnn_forward-03.hdf5\n",
      "Epoch 4/5\n",
      "99371/99371 [==============================] - 5s 48us/step - loss: 0.0011 - accuracy: 0.9997 - val_loss: 0.1683 - val_accuracy: 0.9499\n",
      "F1 : Epoch : 4 \t Valid Score : 0.9450 \t Test Score : 0.8727\n",
      "\n",
      "Epoch 00004: saving model to flipcnn_forward-04.hdf5\n",
      "Epoch 5/5\n",
      "99371/99371 [==============================] - 5s 47us/step - loss: 5.3731e-04 - accuracy: 0.9998 - val_loss: 0.2693 - val_accuracy: 0.9390\n",
      "F1 : Epoch : 5 \t Valid Score : 0.9472 \t Test Score : 0.9057\n",
      "\n",
      "Epoch 00005: saving model to flipcnn_forward-05.hdf5\n",
      "92/92 [==============================] - 0s 981us/step\n",
      "Train on 99371 samples, validate on 20593 samples\n",
      "Epoch 1/5\n",
      "99371/99371 [==============================] - 5s 52us/step - loss: 0.0346 - accuracy: 0.9903 - val_loss: 0.2345 - val_accuracy: 0.9495\n",
      "F1 : Epoch : 1 \t Valid Score : 0.9651 \t Test Score : 0.9444\n",
      "\n",
      "Epoch 00001: saving model to flipcnn_backward-01.hdf5\n",
      "Epoch 2/5\n",
      "99371/99371 [==============================] - 5s 47us/step - loss: 0.0034 - accuracy: 0.9990 - val_loss: 0.1640 - val_accuracy: 0.9488\n",
      "F1 : Epoch : 2 \t Valid Score : 0.9649 \t Test Score : 0.8824\n",
      "\n",
      "Epoch 00002: saving model to flipcnn_backward-02.hdf5\n",
      "Epoch 3/5\n",
      "99371/99371 [==============================] - 5s 48us/step - loss: 0.0016 - accuracy: 0.9995 - val_loss: 0.1874 - val_accuracy: 0.9498\n",
      "F1 : Epoch : 3 \t Valid Score : 0.9663 \t Test Score : 0.8600\n",
      "\n",
      "Epoch 00003: saving model to flipcnn_backward-03.hdf5\n",
      "Epoch 4/5\n",
      "99371/99371 [==============================] - 5s 49us/step - loss: 9.2102e-04 - accuracy: 0.9997 - val_loss: 0.2366 - val_accuracy: 0.9534\n",
      "F1 : Epoch : 4 \t Valid Score : 0.9711 \t Test Score : 0.9159\n",
      "\n",
      "Epoch 00004: saving model to flipcnn_backward-04.hdf5\n",
      "Epoch 5/5\n",
      "99371/99371 [==============================] - 5s 49us/step - loss: 5.2011e-04 - accuracy: 0.9999 - val_loss: 0.2391 - val_accuracy: 0.9495\n",
      "F1 : Epoch : 5 \t Valid Score : 0.9662 \t Test Score : 0.8952\n",
      "\n",
      "Epoch 00005: saving model to flipcnn_backward-05.hdf5\n",
      "92/92 [==============================] - 0s 25us/step\n"
     ]
    }
   ],
   "source": [
    "model_fow, model_back, avg_preds, for_preds, back_preds = build_model_flipcnn(test, embedding_matrix, lr=lr, lr_d=lr_d, units=units, dr=dr)"
   ]
  },
  {
   "cell_type": "code",
   "execution_count": 29,
   "metadata": {},
   "outputs": [
    {
     "data": {
      "text/plain": [
       "(0.8952380952380952, 0.9056603773584905, 0.8952380952380952)"
      ]
     },
     "execution_count": 29,
     "metadata": {},
     "output_type": "execute_result"
    }
   ],
   "source": [
    "# # Best epochs indexes : \n",
    "# 1. For : 5 0.9057\n",
    "# 2. Back : 1 0.9444\n",
    "\n",
    "eval_t(avg_preds), eval_t(for_preds), eval_t(back_preds)"
   ]
  },
  {
   "cell_type": "markdown",
   "metadata": {},
   "source": [
    "## BiLSTM"
   ]
  },
  {
   "cell_type": "code",
   "execution_count": 30,
   "metadata": {},
   "outputs": [],
   "source": [
    "def build_model_bilstm(test, embedding_matrix, lr=0.0, lr_d=0.0, units=0, dr=0.0, filename=\"bilstm\"):\n",
    "    \n",
    "    file_path = \"bilstm-{epoch:02d}.hdf5\"\n",
    "    check_point = ModelCheckpoint(file_path, monitor=\"val_loss\", verbose=1, save_best_only=False, save_weights_only=True, mode='auto', period=1)\n",
    "    f1_val = F1Evaluation(validation_data=(X_valid, y_new_valid), test_data=(test, y_test), interval=1)\n",
    "    early_stop = EarlyStopping(monitor=\"val_loss\", mode=\"min\", patience=5)\n",
    "    \n",
    "    inp = Input(shape=(max_len, ))\n",
    "\n",
    "    x = Embedding(nb_words, embed_size, weights=[embedding_matrix], trainable=False)(inp)\n",
    "    x = Bidirectional(LSTM(64, return_sequences=False))(x)\n",
    "    x = Dense(64, activation='relu')(x)\n",
    "    x = Dropout(0.25)(x)\n",
    "    x = Dense(NUM_CLASSES, activation='sigmoid')(x)\n",
    "    \n",
    "    model = Model(inputs=inp, outputs=x)\n",
    "    model.compile(loss=\"binary_crossentropy\", optimizer=Adam(lr=lr, decay=lr_d), metrics=['accuracy'])\n",
    "    history = model.fit(X_train, y_new_train, batch_size=BS, epochs=N_EPOCHS, validation_data=(X_valid, y_new_valid), verbose=1, \n",
    "                        callbacks=[f1_val, check_point, early_stop])\n",
    "    preds = model.predict(test, batch_size=1024, verbose=1)[:, 1]\n",
    "    \n",
    "    return model, preds"
   ]
  },
  {
   "cell_type": "code",
   "execution_count": 31,
   "metadata": {},
   "outputs": [
    {
     "name": "stdout",
     "output_type": "stream",
     "text": [
      "Train on 99371 samples, validate on 20593 samples\n",
      "Epoch 1/5\n",
      "99371/99371 [==============================] - 161s 2ms/step - loss: 0.0180 - accuracy: 0.9954 - val_loss: 0.2741 - val_accuracy: 0.8353\n",
      "F1 : Epoch : 1 \t Valid Score : 0.8959 \t Test Score : 0.8319\n",
      "\n",
      "Epoch 00001: saving model to bilstm-01.hdf5\n",
      "Epoch 2/5\n",
      "99371/99371 [==============================] - 161s 2ms/step - loss: 4.0559e-04 - accuracy: 0.9999 - val_loss: 0.2486 - val_accuracy: 0.9686\n",
      "F1 : Epoch : 2 \t Valid Score : 0.9726 \t Test Score : 0.8421\n",
      "\n",
      "Epoch 00002: saving model to bilstm-02.hdf5\n",
      "Epoch 3/5\n",
      "99371/99371 [==============================] - 164s 2ms/step - loss: 4.3356e-05 - accuracy: 1.0000 - val_loss: 0.2542 - val_accuracy: 0.9557\n",
      "F1 : Epoch : 3 \t Valid Score : 0.9700 \t Test Score : 0.8108\n",
      "\n",
      "Epoch 00003: saving model to bilstm-03.hdf5\n",
      "Epoch 4/5\n",
      "99371/99371 [==============================] - 164s 2ms/step - loss: 1.9898e-05 - accuracy: 1.0000 - val_loss: 0.4264 - val_accuracy: 0.8240\n",
      "F1 : Epoch : 4 \t Valid Score : 0.8904 \t Test Score : 0.8421\n",
      "\n",
      "Epoch 00004: saving model to bilstm-04.hdf5\n",
      "Epoch 5/5\n",
      "99371/99371 [==============================] - 165s 2ms/step - loss: 4.2703e-04 - accuracy: 0.9999 - val_loss: 0.7151 - val_accuracy: 0.8257\n",
      "F1 : Epoch : 5 \t Valid Score : 0.8921 \t Test Score : 0.8036\n",
      "\n",
      "Epoch 00005: saving model to bilstm-05.hdf5\n",
      "92/92 [==============================] - 0s 175us/step\n"
     ]
    }
   ],
   "source": [
    "model_bilstm, bilstm_preds = build_model_bilstm(test, embedding_matrix, lr=lr, lr_d=lr_d, units=units, dr=dr, filename=\"bilstm\")"
   ]
  },
  {
   "cell_type": "code",
   "execution_count": 32,
   "metadata": {},
   "outputs": [
    {
     "data": {
      "text/plain": [
       "0.8035714285714286"
      ]
     },
     "execution_count": 32,
     "metadata": {},
     "output_type": "execute_result"
    }
   ],
   "source": [
    "# Best Epoch_ID : 2 : 0.8421\n",
    "eval_t(bilstm_preds)"
   ]
  },
  {
   "cell_type": "markdown",
   "metadata": {},
   "source": [
    "## BiLSTM+CNN"
   ]
  },
  {
   "cell_type": "code",
   "execution_count": 33,
   "metadata": {},
   "outputs": [],
   "source": [
    "def build_model_bilstm_cnn(test, embedding_matrix, lr=0.0, lr_d=0.0, units=0, dr=0.0, filename=\"bilstm_cnn\"):\n",
    "    \n",
    "    file_path = \"bilstm_cnn-{epoch:02d}.hdf5\"\n",
    "    check_point = ModelCheckpoint(file_path, monitor=\"val_loss\", verbose=1, save_best_only=False, save_weights_only=True, mode='auto', period=1)\n",
    "    f1_val = F1Evaluation(validation_data=(X_valid, y_new_valid), test_data=(test, y_test), interval=1)\n",
    "    early_stop = EarlyStopping(monitor=\"val_loss\", mode=\"min\", patience=5)\n",
    "    \n",
    "    inp = Input(shape=(max_len, ))\n",
    "    x = Embedding(nb_words, embed_size, weights=[embedding_matrix], trainable=False)(inp)\n",
    "    x = SpatialDropout1D(dr)(x)\n",
    "    \n",
    "    x = Bidirectional(LSTM(units, return_sequences=True))(x)\n",
    "    x = Conv1D(64, kernel_size=2, padding=\"valid\", kernel_initializer=\"he_uniform\")(x)\n",
    "    \n",
    "    avg_pool = GlobalAveragePooling1D()(x)\n",
    "    max_pool = GlobalMaxPooling1D()(x)\n",
    "    x = concatenate([avg_pool, max_pool])\n",
    "    \n",
    "    x = Dense(NUM_CLASSES, activation=\"sigmoid\")(x)\n",
    "    model = Model(inputs=inp, outputs=x)\n",
    "    model.compile(loss=\"binary_crossentropy\", optimizer=Adam(lr=lr, decay=lr_d), metrics=['accuracy'])\n",
    "    history = model.fit(X_train, y_new_train, batch_size=BS, epochs=N_EPOCHS, validation_data=(X_valid, y_new_valid), verbose=1, \n",
    "                        callbacks=[f1_val, check_point, early_stop])\n",
    "    preds = model.predict(test, batch_size=1024, verbose=1)[:, 1]\n",
    "    \n",
    "    return model, preds"
   ]
  },
  {
   "cell_type": "code",
   "execution_count": 34,
   "metadata": {},
   "outputs": [
    {
     "name": "stdout",
     "output_type": "stream",
     "text": [
      "Train on 99371 samples, validate on 20593 samples\n",
      "Epoch 1/5\n",
      "99371/99371 [==============================] - 162s 2ms/step - loss: 0.0102 - accuracy: 0.9968 - val_loss: 0.2228 - val_accuracy: 0.9610\n",
      "F1 : Epoch : 1 \t Valid Score : 0.9731 \t Test Score : 0.8846\n",
      "\n",
      "Epoch 00001: saving model to bilstm_cnn-01.hdf5\n",
      "Epoch 2/5\n",
      "99371/99371 [==============================] - 162s 2ms/step - loss: 5.4008e-04 - accuracy: 0.9999 - val_loss: 0.2829 - val_accuracy: 0.9616\n",
      "F1 : Epoch : 2 \t Valid Score : 0.9739 \t Test Score : 0.8972\n",
      "\n",
      "Epoch 00002: saving model to bilstm_cnn-02.hdf5\n",
      "Epoch 3/5\n",
      "99371/99371 [==============================] - 159s 2ms/step - loss: 3.0224e-04 - accuracy: 0.9999 - val_loss: 0.3044 - val_accuracy: 0.9619\n",
      "F1 : Epoch : 3 \t Valid Score : 0.9742 \t Test Score : 0.8350\n",
      "\n",
      "Epoch 00003: saving model to bilstm_cnn-03.hdf5\n",
      "Epoch 4/5\n",
      "99371/99371 [==============================] - 157s 2ms/step - loss: 5.1368e-04 - accuracy: 0.9998 - val_loss: 0.3842 - val_accuracy: 0.9586\n",
      "F1 : Epoch : 4 \t Valid Score : 0.9716 \t Test Score : 0.8624\n",
      "\n",
      "Epoch 00004: saving model to bilstm_cnn-04.hdf5\n",
      "Epoch 5/5\n",
      "99371/99371 [==============================] - 156s 2ms/step - loss: 4.1628e-04 - accuracy: 0.9998 - val_loss: 0.3139 - val_accuracy: 0.9613\n",
      "F1 : Epoch : 5 \t Valid Score : 0.9736 \t Test Score : 0.8119\n",
      "\n",
      "Epoch 00005: saving model to bilstm_cnn-05.hdf5\n",
      "92/92 [==============================] - 0s 444us/step\n"
     ]
    }
   ],
   "source": [
    "model_bilstm_cnn, bilstm_cnn_preds = build_model_bilstm_cnn(test, embedding_matrix, \n",
    "                                                                  lr=lr, lr_d=lr_d, units=units, dr=dr, filename=\"bilstm_cnn\")"
   ]
  },
  {
   "cell_type": "code",
   "execution_count": 37,
   "metadata": {},
   "outputs": [
    {
     "data": {
      "text/plain": [
       "0.8118811881188119"
      ]
     },
     "execution_count": 37,
     "metadata": {},
     "output_type": "execute_result"
    }
   ],
   "source": [
    "# Best Epoch_ID : 2 0.8972\n",
    "eval_t(bilstm_cnn_preds)"
   ]
  },
  {
   "cell_type": "markdown",
   "metadata": {},
   "source": [
    "## Does Attention help? \n",
    "\n",
    "Checking if the Attention layer is worth the hype? \n",
    "\n",
    "![Attention Algorithm](https://i.imgur.com/rQQ52by.png)"
   ]
  },
  {
   "cell_type": "code",
   "execution_count": 40,
   "metadata": {},
   "outputs": [],
   "source": [
    "class Attention(Layer):\n",
    "    def __init__(self, step_dim,\n",
    "                 W_regularizer=None, b_regularizer=None,\n",
    "                 W_constraint=None, b_constraint=None,\n",
    "                 bias=True, return_attention=False, **kwargs):\n",
    "        self.supports_masking = True\n",
    "        self.return_attention = return_attention\n",
    "        self.init = initializers.get('glorot_uniform')\n",
    "\n",
    "        self.W_regularizer = regularizers.get(W_regularizer)\n",
    "        self.b_regularizer = regularizers.get(b_regularizer)\n",
    "\n",
    "        self.W_constraint = constraints.get(W_constraint)\n",
    "        self.b_constraint = constraints.get(b_constraint)\n",
    "\n",
    "        self.bias = bias\n",
    "        self.step_dim = step_dim\n",
    "        self.features_dim = 0\n",
    "        super(Attention, self).__init__(**kwargs)\n",
    "\n",
    "    def build(self, input_shape):\n",
    "        assert len(input_shape) == 3\n",
    "\n",
    "        self.W = self.add_weight(shape=(input_shape[-1],),\n",
    "                                 initializer=self.init,\n",
    "                                 name='{}_W'.format(self.name),\n",
    "                                 regularizer=self.W_regularizer,\n",
    "                                 constraint=self.W_constraint)\n",
    "        self.features_dim = input_shape[-1]\n",
    "\n",
    "        if self.bias:\n",
    "            self.b = self.add_weight(shape=(input_shape[1],),\n",
    "                                     initializer='zero',\n",
    "                                     name='{}_b'.format(self.name),\n",
    "                                     regularizer=self.b_regularizer,\n",
    "                                     constraint=self.b_constraint)\n",
    "        else:\n",
    "            self.b = None\n",
    "\n",
    "        self.built = True\n",
    "\n",
    "    def compute_mask(self, input, input_mask=None):\n",
    "        return None\n",
    "\n",
    "    def call(self, x, mask=None):\n",
    "        features_dim = self.features_dim\n",
    "        step_dim = self.step_dim\n",
    "\n",
    "        eij = K.reshape(K.dot(K.reshape(x, (-1, features_dim)),\n",
    "                        K.reshape(self.W, (features_dim, 1))), (-1, step_dim))\n",
    "#         eij = K.squeeze(K.dot(x, K.expand_dims(self.W)), axis=-1)\n",
    "    \n",
    "        if self.bias:\n",
    "            eij += self.b\n",
    "\n",
    "        eij = K.tanh(eij)\n",
    "\n",
    "        a = K.exp(eij)\n",
    "\n",
    "        if mask is not None:\n",
    "            a *= K.cast(mask, K.floatx())\n",
    "\n",
    "        a /= K.cast(K.sum(a, axis=1, keepdims=True) + K.epsilon(), K.floatx())\n",
    "\n",
    "        a = K.expand_dims(a)\n",
    "        weighted_input = x * a\n",
    "        \n",
    "        result = K.sum(weighted_input, axis=1)\n",
    "\n",
    "        if self.return_attention:\n",
    "            return [result, a]\n",
    "        return result\n",
    "\n",
    "    def compute_output_shape(self, input_shape):\n",
    "        if self.return_attention:\n",
    "            return [\n",
    "                (input_shape[0], input_shape[-1]),\n",
    "                (input_shape[0], input_shape[1]),\n",
    "            ]\n",
    "        return input_shape[0],  input_shape[-1] # self.features_dim\n",
    "\n",
    "def build_model_bilstm_attention(test, embedding_matrix, lr=0.0, lr_d=0.0, units=0, dr=0.0, filename=\"bilstm_attention\"):\n",
    "    \n",
    "    file_path = \"bilstm_attention-{epoch:02d}.hdf5\"\n",
    "    check_point = ModelCheckpoint(file_path, monitor=\"val_loss\", verbose=1, save_best_only=False, save_weights_only=True, mode='auto', period=1)\n",
    "    f1_val = F1Evaluation(validation_data=(X_valid, y_new_valid), test_data=(test, y_test), interval=1)\n",
    "    early_stop = EarlyStopping(monitor=\"val_loss\", mode=\"min\", patience=5)\n",
    "    \n",
    "    inp = Input(shape=(max_len, ))\n",
    "\n",
    "    x = Embedding(nb_words, embed_size, weights=[embedding_matrix], trainable=False)(inp)\n",
    "    x = Bidirectional(LSTM(units, return_sequences=True))(x)\n",
    "    x, word_scores = Attention(max_len, return_attention=True, name=\"attention_vec\")(x) # Attention(return_attention=True, name=\"attention_vec\")(x)\n",
    "    x = Dense(64, activation='relu')(x)\n",
    "    x = Dropout(0.25)(x)\n",
    "    x = Dense(NUM_CLASSES, activation='sigmoid')(x)\n",
    "    \n",
    "    model = Model(inputs=inp, outputs=x)\n",
    "    model.compile(loss=\"binary_crossentropy\", optimizer=Adam(lr=lr, decay=lr_d), metrics=['accuracy'])\n",
    "    history = model.fit(X_train, y_new_train, batch_size=BS, epochs=1, validation_data=(X_valid, y_new_valid), verbose=1, \n",
    "                        callbacks=[f1_val, check_point, early_stop])\n",
    "    preds = model.predict(test, batch_size=1024, verbose=1)[:, 1]\n",
    "    \n",
    "    return model, word_scores, preds"
   ]
  },
  {
   "cell_type": "code",
   "execution_count": 41,
   "metadata": {},
   "outputs": [
    {
     "name": "stdout",
     "output_type": "stream",
     "text": [
      "Train on 99371 samples, validate on 20593 samples\n",
      "Epoch 1/1\n",
      "99371/99371 [==============================] - 158s 2ms/step - loss: 0.0170 - accuracy: 0.9961 - val_loss: 0.2142 - val_accuracy: 0.9625\n",
      "F1 : Epoch : 1 \t Valid Score : 0.9746 \t Test Score : 0.8348\n",
      "\n",
      "Epoch 00001: saving model to bilstm_attention-01.hdf5\n",
      "92/92 [==============================] - 0s 177us/step\n"
     ]
    }
   ],
   "source": [
    "model_bilstm_attention, word_scores, bilstm_attention_preds = build_model_bilstm_attention(\n",
    "    test, embedding_matrix, lr=lr, lr_d=lr_d, units=units, dr=dr, filename=\"bilstm_attention\")"
   ]
  },
  {
   "cell_type": "code",
   "execution_count": 42,
   "metadata": {},
   "outputs": [
    {
     "data": {
      "text/plain": [
       "0.8347826086956522"
      ]
     },
     "execution_count": 42,
     "metadata": {},
     "output_type": "execute_result"
    }
   ],
   "source": [
    "# Best Epoch_ID : 1 \n",
    "eval_t(bilstm_attention_preds)"
   ]
  },
  {
   "cell_type": "markdown",
   "metadata": {},
   "source": [
    "## Getting preds from the best model saved."
   ]
  },
  {
   "cell_type": "code",
   "execution_count": 43,
   "metadata": {},
   "outputs": [
    {
     "name": "stdout",
     "output_type": "stream",
     "text": [
      "bilstm-02.hdf5\n",
      "92/92 [==============================] - 0s 171us/step\n",
      "bilstm_cnn-02.hdf5\n",
      "92/92 [==============================] - 0s 175us/step\n",
      "flipcnn_forward-05.hdf5\n",
      "92/92 [==============================] - 0s 28us/step\n",
      "flipcnn_backward-01.hdf5\n",
      "92/92 [==============================] - 0s 25us/step\n"
     ]
    }
   ],
   "source": [
    "# Best epochs indexes \n",
    "\n",
    "sub = pd.DataFrame()\n",
    "sub['bilstm_attention'] = bilstm_attention_preds\n",
    "\n",
    "best_epoch_dict = {\n",
    "    \"bilstm\" : [2, model_bilstm],\n",
    "    \"bilstm_cnn\" : [2, model_bilstm_cnn],\n",
    "    \"flipcnn_forward\" : [5, model_fow],\n",
    "    \"flipcnn_backward\" : [1, model_back],\n",
    "}\n",
    "avg_preds = np.zeros(for_preds.shape[0])\n",
    "\n",
    "for key, (epoch_id, model) in best_epoch_dict.items():\n",
    "    model_path = \"{}-0{}.hdf5\".format(key, epoch_id)\n",
    "    print(model_path)\n",
    "    model.load_weights(model_path)\n",
    "    preds = model.predict(test, batch_size=1024, verbose=1)[:, 1]\n",
    "    sub[key] = preds\n",
    "    \n",
    "    if key in ['flipcnn_forward', 'flipcnn_backward']:\n",
    "        avg_preds += preds\n",
    "avg_preds /= 2\n",
    "sub['flipcnn_average'] = avg_preds"
   ]
  },
  {
   "cell_type": "code",
   "execution_count": 44,
   "metadata": {},
   "outputs": [
    {
     "data": {
      "text/html": [
       "<div>\n",
       "<style scoped>\n",
       "    .dataframe tbody tr th:only-of-type {\n",
       "        vertical-align: middle;\n",
       "    }\n",
       "\n",
       "    .dataframe tbody tr th {\n",
       "        vertical-align: top;\n",
       "    }\n",
       "\n",
       "    .dataframe thead th {\n",
       "        text-align: right;\n",
       "    }\n",
       "</style>\n",
       "<table border=\"1\" class=\"dataframe\">\n",
       "  <thead>\n",
       "    <tr style=\"text-align: right;\">\n",
       "      <th></th>\n",
       "      <th>bilstm_attention</th>\n",
       "      <th>bilstm</th>\n",
       "      <th>bilstm_cnn</th>\n",
       "      <th>flipcnn_forward</th>\n",
       "      <th>flipcnn_backward</th>\n",
       "      <th>flipcnn_average</th>\n",
       "    </tr>\n",
       "  </thead>\n",
       "  <tbody>\n",
       "    <tr>\n",
       "      <th>0</th>\n",
       "      <td>0.0</td>\n",
       "      <td>0.000009</td>\n",
       "      <td>0.000004</td>\n",
       "      <td>0.000093</td>\n",
       "      <td>0.000299</td>\n",
       "      <td>0.000196</td>\n",
       "    </tr>\n",
       "    <tr>\n",
       "      <th>1</th>\n",
       "      <td>1.0</td>\n",
       "      <td>0.771911</td>\n",
       "      <td>0.703757</td>\n",
       "      <td>0.993070</td>\n",
       "      <td>0.983858</td>\n",
       "      <td>0.988464</td>\n",
       "    </tr>\n",
       "    <tr>\n",
       "      <th>2</th>\n",
       "      <td>1.0</td>\n",
       "      <td>0.999998</td>\n",
       "      <td>1.000000</td>\n",
       "      <td>0.999768</td>\n",
       "      <td>0.999769</td>\n",
       "      <td>0.999769</td>\n",
       "    </tr>\n",
       "    <tr>\n",
       "      <th>3</th>\n",
       "      <td>1.0</td>\n",
       "      <td>1.000000</td>\n",
       "      <td>1.000000</td>\n",
       "      <td>1.000000</td>\n",
       "      <td>1.000000</td>\n",
       "      <td>1.000000</td>\n",
       "    </tr>\n",
       "    <tr>\n",
       "      <th>4</th>\n",
       "      <td>0.0</td>\n",
       "      <td>0.000044</td>\n",
       "      <td>0.000005</td>\n",
       "      <td>0.000084</td>\n",
       "      <td>0.001529</td>\n",
       "      <td>0.000807</td>\n",
       "    </tr>\n",
       "  </tbody>\n",
       "</table>\n",
       "</div>"
      ],
      "text/plain": [
       "   bilstm_attention    bilstm  bilstm_cnn  flipcnn_forward  flipcnn_backward  \\\n",
       "0               0.0  0.000009    0.000004         0.000093          0.000299   \n",
       "1               1.0  0.771911    0.703757         0.993070          0.983858   \n",
       "2               1.0  0.999998    1.000000         0.999768          0.999769   \n",
       "3               1.0  1.000000    1.000000         1.000000          1.000000   \n",
       "4               0.0  0.000044    0.000005         0.000084          0.001529   \n",
       "\n",
       "   flipcnn_average  \n",
       "0         0.000196  \n",
       "1         0.988464  \n",
       "2         0.999769  \n",
       "3         1.000000  \n",
       "4         0.000807  "
      ]
     },
     "execution_count": 44,
     "metadata": {},
     "output_type": "execute_result"
    }
   ],
   "source": [
    "sub.head()"
   ]
  },
  {
   "cell_type": "code",
   "execution_count": 45,
   "metadata": {},
   "outputs": [],
   "source": [
    "sub.to_csv(\"temporal_models.csv\", index=False)"
   ]
  },
  {
   "cell_type": "markdown",
   "metadata": {},
   "source": [
    "### Visualising Attention"
   ]
  },
  {
   "cell_type": "code",
   "execution_count": 46,
   "metadata": {},
   "outputs": [],
   "source": [
    "# Visualization\n",
    "import matplotlib.pyplot as plt\n",
    "from IPython.core.display import display, HTML\n",
    "import seaborn as sns\n",
    "sns.set()"
   ]
  },
  {
   "cell_type": "code",
   "execution_count": 47,
   "metadata": {},
   "outputs": [],
   "source": [
    "def rgb_to_hex(rgb):\n",
    "    return '#%02x%02x%02x' % rgb\n",
    "    \n",
    "def attention2color(attention_score):\n",
    "    r = 255 - int(attention_score * 255)\n",
    "    color = rgb_to_hex((255, r, r))\n",
    "    return str(color)\n",
    "\n",
    "def visualize_attention(model):\n",
    "    # Make new model for output predictions and attentions\n",
    "    '''\n",
    "    model.get_layer('attention_vec').output:\n",
    "    attention_vec (Attention)    [(None, 128), (None, 54)] <- We want (None,54) that is the word att\n",
    "    '''\n",
    "    model_att = Model(inputs=model.input, \\\n",
    "                            outputs=[model.output, model.get_layer('attention_vec').output[-1]])\n",
    "    idx = np.random.randint(low = 0, high=test.shape[0]) # Get a random test\n",
    "    tokenized_sample = np.trim_zeros(test[idx]) # Get the tokenized text\n",
    "    label_probs, attentions = model_att.predict(test[idx:idx+1]) # Perform the prediction\n",
    "\n",
    "    # Get decoded text and labels\n",
    "    id2word = dict(map(reversed, tk.word_index.items()))\n",
    "    decoded_text = [id2word[word] for word in tokenized_sample] \n",
    "    \n",
    "    # Get classification\n",
    "    label = (label_probs>0.5).astype(int).squeeze() # Only one\n",
    "    label2id = ['Sincere', 'Insincere']\n",
    "\n",
    "    # Get word attentions using attenion vector\n",
    "    token_attention_dic = {}\n",
    "    max_score = 0.0\n",
    "    min_score = 0.0\n",
    "    \n",
    "    attentions_text = attentions[0,-len(tokenized_sample):]\n",
    "    attentions_text = (attentions_text - np.min(attentions_text)) / (np.max(attentions_text) - np.min(attentions_text))\n",
    "    for token, attention_score in zip(decoded_text, attentions_text):\n",
    "        #print(token, attention_score)\n",
    "        token_attention_dic[token] = attention_score\n",
    "        \n",
    "\n",
    "    # Build HTML String to viualize attentions\n",
    "    html_text = \"<hr><p style='font-size: large'><b>Text:  </b>\"\n",
    "    for token, attention in token_attention_dic.items():\n",
    "        html_text += \"<span style='background-color:{};'>{} <span> \".format(attention2color(attention),\n",
    "                                                                            token)\n",
    "    # Display text enriched with attention scores \n",
    "    display(HTML(html_text))\n",
    "    \n",
    "    # PLOT EMOTION SCORES\n",
    "    _labels = ['product', 'service']\n",
    "    probs = np.zeros(2)\n",
    "    \n",
    "    probs[1] = label_probs[0][1]\n",
    "    probs[0] = 1- label_probs[0][1]\n",
    "    plt.figure(figsize=(5,2))\n",
    "    plt.bar(np.arange(len(_labels)), probs.squeeze(), align='center', alpha=0.5, color=['black', 'red', 'green', 'blue', 'cyan', \"purple\"])\n",
    "    plt.xticks(np.arange(len(_labels)), _labels)\n",
    "    plt.ylabel('Scores')\n",
    "    plt.show()"
   ]
  },
  {
   "cell_type": "code",
   "execution_count": 48,
   "metadata": {},
   "outputs": [
    {
     "data": {
      "text/html": [
       "<hr><p style='font-size: large'><b>Text:  </b><span style='background-color:#ff0101;'>repair <span> <span style='background-color:#ff6767;'>maintenance <span> <span style='background-color:#ff6e6e;'>services <span> <span style='background-color:#ff0101;'>performed <span> <span style='background-color:#ff0000;'>tpp <span> <span style='background-color:#ffffff;'>include <span> <span style='background-color:#ff0505;'>parts <span> <span style='background-color:#ff0404;'>materials <span> <span style='background-color:#ff0101;'>labor <span> "
      ],
      "text/plain": [
       "<IPython.core.display.HTML object>"
      ]
     },
     "metadata": {},
     "output_type": "display_data"
    },
    {
     "data": {
      "image/png": "[encoded data removed]",
      "text/plain": [
       "<Figure size 360x144 with 1 Axes>"
      ]
     },
     "metadata": {},
     "output_type": "display_data"
    },
    {
     "data": {
      "text/html": [
       "<hr><p style='font-size: large'><b>Text:  </b><span style='background-color:#ffffff;'>apparel <span> <span style='background-color:#ff9797;'>patches <span> <span style='background-color:#ff0000;'>clothing <span> <span style='background-color:#ff0101;'>related <span> <span style='background-color:#ff0000;'>products <span> <span style='background-color:#ff0000;'>b2c <span> <span style='background-color:#ff0101;'>general <span> "
      ],
      "text/plain": [
       "<IPython.core.display.HTML object>"
      ]
     },
     "metadata": {},
     "output_type": "display_data"
    },
    {
     "data": {
      "image/png": "[encoded data removed]",
      "text/plain": [
       "<Figure size 360x144 with 1 Axes>"
      ]
     },
     "metadata": {},
     "output_type": "display_data"
    },
    {
     "data": {
      "text/html": [
       "<hr><p style='font-size: large'><b>Text:  </b><span style='background-color:#ffffff;'>platinum <span> <span style='background-color:#ff0505;'>women <span> <span style='background-color:#ff0202;'>multi <span> <span style='background-color:#ff0101;'>vitamin <span> <span style='background-color:#ff0101;'>human <span> <span style='background-color:#ff0101;'>nutritional <span> <span style='background-color:#ff0000;'>supplements <span> "
      ],
      "text/plain": [
       "<IPython.core.display.HTML object>"
      ]
     },
     "metadata": {},
     "output_type": "display_data"
    },
    {
     "data": {
      "image/png": "[encoded data removed]",
      "text/plain": [
       "<Figure size 360x144 with 1 Axes>"
      ]
     },
     "metadata": {},
     "output_type": "display_data"
    },
    {
     "data": {
      "text/html": [
       "<hr><p style='font-size: large'><b>Text:  </b><span style='background-color:#ffcccc;'>support <span> <span style='background-color:#ff0101;'>services <span> <span style='background-color:#fffbfb;'>employee <span> <span style='background-color:#fff8f8;'>1099 <span> <span style='background-color:#ffe8e8;'>subcontractor <span> <span style='background-color:#ff0000;'>labor <span> <span style='background-color:#ffffff;'>dispatch <span> <span style='background-color:#ffeeee;'>schedule <span> <span style='background-color:#ffebeb;'>full <span> <span style='background-color:#ff1d1d;'>techs <span> <span style='background-color:#ff0707;'>supporting <span> <span style='background-color:#ff0303;'>related <span> <span style='background-color:#ff0101;'>temporary <span> <span style='background-color:#ff0202;'>longer <span> <span style='background-color:#ff0101;'>term <span> <span style='background-color:#ff0909;'>contracts <span> <span style='background-color:#ff0101;'>business <span> "
      ],
      "text/plain": [
       "<IPython.core.display.HTML object>"
      ]
     },
     "metadata": {},
     "output_type": "display_data"
    },
    {
     "data": {
      "image/png": "[encoded data removed]",
      "text/plain": [
       "<Figure size 360x144 with 1 Axes>"
      ]
     },
     "metadata": {},
     "output_type": "display_data"
    },
    {
     "data": {
      "text/html": [
       "<hr><p style='font-size: large'><b>Text:  </b><span style='background-color:#ffffff;'>crispy <span> <span style='background-color:#fffdfd;'>squares <span> <span style='background-color:#ff0101;'>chocolate <span> <span style='background-color:#ff0303;'>chip <span> <span style='background-color:#ff2020;'>6 <span> <span style='background-color:#ff0101;'>pack <span> <span style='background-color:#ff0404;'>crisp <span> <span style='background-color:#ff0404;'>rice <span> <span style='background-color:#ff0404;'>cane <span> <span style='background-color:#ff0101;'>sugar <span> <span style='background-color:#ff0404;'>syrup <span> <span style='background-color:#ff0101;'>chips <span> <span style='background-color:#ff0101;'>cocoa <span> <span style='background-color:#ff0d0d;'>mass <span> <span style='background-color:#ff0101;'>butter <span> <span style='background-color:#ff0101;'>vanilla <span> <span style='background-color:#ff0606;'>sustainable <span> <span style='background-color:#ff0101;'>palm <span> <span style='background-color:#ff0101;'>fruit <span> <span style='background-color:#ff0101;'>oil <span> <span style='background-color:#ff0101;'>vegetable <span> <span style='background-color:#ff0909;'>glycerin <span> <span style='background-color:#ff0505;'>inulin <span> <span style='background-color:#ff0606;'>tapioca <span> <span style='background-color:#ff0101;'>flour <span> <span style='background-color:#ff0101;'>powder <span> <span style='background-color:#ff0000;'>sea <span> <span style='background-color:#ff0101;'>salt <span> <span style='background-color:#ff0101;'>flavor <span> <span style='background-color:#ff0101;'>extracts <span> <span style='background-color:#ff0202;'>spinach <span> <span style='background-color:#ff0202;'>broccoli <span> <span style='background-color:#ff0404;'>carrots <span> <span style='background-color:#ff0606;'>tomatoes <span> <span style='background-color:#ff0d0d;'>beets <span> <span style='background-color:#ff1717;'>shiitake <span> <span style='background-color:#ff3232;'>mushrooms <span> "
      ],
      "text/plain": [
       "<IPython.core.display.HTML object>"
      ]
     },
     "metadata": {},
     "output_type": "display_data"
    },
    {
     "data": {
      "image/png": "[encoded data removed]",
      "text/plain": [
       "<Figure size 360x144 with 1 Axes>"
      ]
     },
     "metadata": {},
     "output_type": "display_data"
    }
   ],
   "source": [
    "for _ in range(5):\n",
    "    visualize_attention(model_bilstm_attention)"
   ]
  },
  {
   "cell_type": "markdown",
   "metadata": {},
   "source": [
    "# Conclusion\n",
    "\n",
    "We can see that **Temporal Models tends to overfit very fast near 1-2 epochs**.\n",
    "\n",
    "1. Results : \n",
    "\n",
    "    - The best is the **backward CNN** which scored : **0.944**\n",
    "    - We can infer that **BOW models like CNN work better and faster due to the non-temporal sensical nature of the domain data**."
   ]
  },
  {
   "cell_type": "code",
   "execution_count": null,
   "metadata": {},
   "outputs": [],
   "source": []
  }
 ],
 "metadata": {
  "kernelspec": {
   "display_name": "Python 3",
   "language": "python",
   "name": "python3"
  },
  "language_info": {
   "codemirror_mode": {
    "name": "ipython",
    "version": 3
   },
   "file_extension": ".py",
   "mimetype": "text/x-python",
   "name": "python",
   "nbconvert_exporter": "python",
   "pygments_lexer": "ipython3",
   "version": "3.7.3"
  }
 },
 "nbformat": 4,
 "nbformat_minor": 4
}

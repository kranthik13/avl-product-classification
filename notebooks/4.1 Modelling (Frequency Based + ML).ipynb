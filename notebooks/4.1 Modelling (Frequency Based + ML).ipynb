{
 "cells": [
  {
   "cell_type": "code",
   "execution_count": 1,
   "metadata": {},
   "outputs": [
    {
     "name": "stderr",
     "output_type": "stream",
     "text": [
      "/home/kranthi/anaconda3/lib/python3.7/site-packages/dask/config.py:168: YAMLLoadWarning: calling yaml.load() without Loader=... is deprecated, as the default Loader is unsafe. Please read https://msg.pyyaml.org/load for full details.\n",
      "  data = yaml.load(f.read()) or {}\n",
      "/home/kranthi/anaconda3/lib/python3.7/site-packages/dask/dataframe/utils.py:13: FutureWarning: pandas.util.testing is deprecated. Use the functions in the public API at pandas.testing instead.\n",
      "  import pandas.util.testing as tm\n"
     ]
    }
   ],
   "source": [
    "import os\n",
    "import gc\n",
    "import numpy as np\n",
    "import pandas as pd\n",
    "\n",
    "import ast\n",
    "import re, string\n",
    "from sklearn.metrics import f1_score, roc_auc_score\n",
    "\n",
    "from sklearn.feature_extraction.text import TfidfVectorizer, CountVectorizer\n",
    "from sklearn.model_selection import train_test_split\n",
    "from sklearn.preprocessing import LabelEncoder\n",
    "\n",
    "from sklearn.metrics import f1_score\n",
    "from sklearn.model_selection import cross_val_score\n",
    "\n",
    "# Classification models\n",
    "from sklearn.linear_model import LogisticRegression\n",
    "from sklearn.naive_bayes import GaussianNB\n",
    "from sklearn.neighbors import KNeighborsClassifier\n",
    "from sklearn.tree import DecisionTreeClassifier, ExtraTreeClassifier\n",
    "from sklearn.ensemble import RandomForestClassifier, AdaBoostClassifier, BaggingClassifier, ExtraTreesClassifier, GradientBoostingClassifier\n",
    "\n",
    "import xgboost as xgb\n",
    "import lightgbm as lgb\n",
    "import catboost as cat\n",
    "\n",
    "import joblib\n",
    "import matplotlib.pyplot as plt\n",
    "import seaborn as sns\n",
    "%matplotlib inline\n",
    "\n",
    "import warnings\n",
    "warnings.simplefilter('ignore')"
   ]
  },
  {
   "cell_type": "code",
   "execution_count": 2,
   "metadata": {},
   "outputs": [],
   "source": [
    "def get_data():\n",
    "    train = pd.read_csv(\"../data/v2/train_ne.csv\")\n",
    "    test = pd.read_csv(\"../data/test_ne_imputed.csv\")\n",
    "    print(\"Train Shape : {}\\nTest Shape :  {}\".format(train.shape, test.shape))\n",
    "    \n",
    "    train = train[['fold_id', 'title', 'description', 'text', 'category', 'source']]\n",
    "    test = test[['title', 'description', 'text', 'category']]\n",
    "    train.dropna(inplace=True)\n",
    "    \n",
    "    return train, test"
   ]
  },
  {
   "cell_type": "code",
   "execution_count": 3,
   "metadata": {},
   "outputs": [
    {
     "name": "stdout",
     "output_type": "stream",
     "text": [
      "Train Shape : (1199998, 6)\n",
      "Test Shape :  (92, 5)\n"
     ]
    },
    {
     "data": {
      "text/html": [
       "<div>\n",
       "<style scoped>\n",
       "    .dataframe tbody tr th:only-of-type {\n",
       "        vertical-align: middle;\n",
       "    }\n",
       "\n",
       "    .dataframe tbody tr th {\n",
       "        vertical-align: top;\n",
       "    }\n",
       "\n",
       "    .dataframe thead th {\n",
       "        text-align: right;\n",
       "    }\n",
       "</style>\n",
       "<table border=\"1\" class=\"dataframe\">\n",
       "  <thead>\n",
       "    <tr style=\"text-align: right;\">\n",
       "      <th></th>\n",
       "      <th>fold_id</th>\n",
       "      <th>title</th>\n",
       "      <th>description</th>\n",
       "      <th>text</th>\n",
       "      <th>category</th>\n",
       "      <th>source</th>\n",
       "    </tr>\n",
       "  </thead>\n",
       "  <tbody>\n",
       "    <tr>\n",
       "      <th>0</th>\n",
       "      <td>1</td>\n",
       "      <td>ziczac black red euro 44</td>\n",
       "      <td>clothing related products b2c shoes shoe laces</td>\n",
       "      <td>ziczac black red euro 44 clothing related prod...</td>\n",
       "      <td>R</td>\n",
       "      <td>valid</td>\n",
       "    </tr>\n",
       "    <tr>\n",
       "      <th>1</th>\n",
       "      <td>1</td>\n",
       "      <td>9x9 resista 484938</td>\n",
       "      <td>publishing printing printing services</td>\n",
       "      <td>9x9 resista 484938 publishing printing printin...</td>\n",
       "      <td>S</td>\n",
       "      <td>train</td>\n",
       "    </tr>\n",
       "    <tr>\n",
       "      <th>2</th>\n",
       "      <td>1</td>\n",
       "      <td>halle pant short inseam 013049561d0010001 02</td>\n",
       "      <td>clothing related products b2c general</td>\n",
       "      <td>halle pant short inseam 013049561d0010001 02 c...</td>\n",
       "      <td>R</td>\n",
       "      <td>train</td>\n",
       "    </tr>\n",
       "    <tr>\n",
       "      <th>3</th>\n",
       "      <td>1</td>\n",
       "      <td>harry houser travel expenses meals</td>\n",
       "      <td>security personnel</td>\n",
       "      <td>harry houser travel expenses meals security pe...</td>\n",
       "      <td>S</td>\n",
       "      <td>train</td>\n",
       "    </tr>\n",
       "    <tr>\n",
       "      <th>4</th>\n",
       "      <td>1</td>\n",
       "      <td>tee time 740078609 greens fee composite</td>\n",
       "      <td>admissions green fees privately owned golf course</td>\n",
       "      <td>tee time 740078609 greens fee composite admiss...</td>\n",
       "      <td>R</td>\n",
       "      <td>valid</td>\n",
       "    </tr>\n",
       "  </tbody>\n",
       "</table>\n",
       "</div>"
      ],
      "text/plain": [
       "   fold_id                                         title  \\\n",
       "0        1                      ziczac black red euro 44   \n",
       "1        1                            9x9 resista 484938   \n",
       "2        1  halle pant short inseam 013049561d0010001 02   \n",
       "3        1            harry houser travel expenses meals   \n",
       "4        1       tee time 740078609 greens fee composite   \n",
       "\n",
       "                                         description  \\\n",
       "0     clothing related products b2c shoes shoe laces   \n",
       "1              publishing printing printing services   \n",
       "2              clothing related products b2c general   \n",
       "3                                 security personnel   \n",
       "4  admissions green fees privately owned golf course   \n",
       "\n",
       "                                                text category source  \n",
       "0  ziczac black red euro 44 clothing related prod...        R  valid  \n",
       "1  9x9 resista 484938 publishing printing printin...        S  train  \n",
       "2  halle pant short inseam 013049561d0010001 02 c...        R  train  \n",
       "3  harry houser travel expenses meals security pe...        S  train  \n",
       "4  tee time 740078609 greens fee composite admiss...        R  valid  "
      ]
     },
     "execution_count": 3,
     "metadata": {},
     "output_type": "execute_result"
    }
   ],
   "source": [
    "train, test = get_data()\n",
    "train.head()"
   ]
  },
  {
   "cell_type": "code",
   "execution_count": 4,
   "metadata": {},
   "outputs": [],
   "source": [
    "K = 6"
   ]
  },
  {
   "cell_type": "markdown",
   "metadata": {},
   "source": [
    "#### LabelEncoding Target"
   ]
  },
  {
   "cell_type": "code",
   "execution_count": 5,
   "metadata": {},
   "outputs": [
    {
     "name": "stdout",
     "output_type": "stream",
     "text": [
      "['R' 'S']\n"
     ]
    }
   ],
   "source": [
    "target = 'category'\n",
    "\n",
    "le = LabelEncoder()\n",
    "train[target] = le.fit_transform(train[target].values)\n",
    "test[target] = le.transform(test[target].values)\n",
    "\n",
    "y = train[target].values\n",
    "y_test = test[target].values\n",
    "\n",
    "print(le.classes_)"
   ]
  },
  {
   "cell_type": "markdown",
   "metadata": {},
   "source": [
    "### Splitter"
   ]
  },
  {
   "cell_type": "code",
   "execution_count": 6,
   "metadata": {},
   "outputs": [],
   "source": [
    "def splitter(data, k=K):\n",
    "    \n",
    "    data_v1 = data[data['fold_id'] == k].copy()\n",
    "    data_v1.reset_index(drop=True, inplace=True)\n",
    "    \n",
    "    train_set = data_v1[data_v1['source'] == 'train'].copy()\n",
    "    valid_set = data_v1[data_v1['source'] == 'valid'].copy()\n",
    "    train_set.reset_index(drop=True, inplace=True)\n",
    "    valid_set.reset_index(drop=True, inplace=True)\n",
    "    \n",
    "    del data_v1\n",
    "    gc.collect()\n",
    "    \n",
    "#     print(train_set.shape, valid_set.shape)\n",
    "    \n",
    "    return train_set['text'].values, valid_set['text'].values, train_set['category'].values, valid_set['category'].values"
   ]
  },
  {
   "cell_type": "markdown",
   "metadata": {},
   "source": [
    "### Baseliner Function to evaluate : "
   ]
  },
  {
   "cell_type": "code",
   "execution_count": 7,
   "metadata": {},
   "outputs": [],
   "source": [
    "def eval_t(y_pred):\n",
    "    return f1_score(y_test, y_pred)\n",
    "\n",
    "def baseliner(X_train, X_valid, y_train, y_valid, X_test, cv=3, metric='f1'):\n",
    "    print(\"Baseliner Models\\n\")\n",
    "    eval_dict = {}\n",
    "    models = [LogisticRegression(), GaussianNB(), lgb.LGBMClassifier(), RandomForestClassifier(),\n",
    "              DecisionTreeClassifier(), ExtraTreeClassifier()\n",
    "             ]\n",
    "    # xgb.XGBClassifier(), GradientBoostingClassifier(), AdaBoostClassifier(), BaggingClassifier(), ExtraTreesClassifier() \n",
    "    print(\"Model Name \\t | Train \\t | Valid \\t | Test \") #    | \\t TRN   | \\t  VAL\n",
    "    print(\"--\" * 30)\n",
    "    \n",
    "    for index, model in enumerate(models, 0):\n",
    "        model_name = str(model).split(\"(\")[0]\n",
    "        eval_dict[model_name] = {}\n",
    "        \n",
    "        model.fit(X_train, y_train)\n",
    "        train_f1 = f1_score(y_train, model.predict(X_train))\n",
    "        valid_f1 = f1_score(y_valid, model.predict(X_valid))\n",
    "        test_f1 = eval_t(model.predict(X_test))\n",
    "        \n",
    "        eval_dict[model_name]['train'] = train_f1\n",
    "        eval_dict[model_name]['valid'] = valid_f1\n",
    "        eval_dict[model_name]['test'] = test_f1\n",
    "        \n",
    "        print(\"%s \\t | %.4f \\t | %.4f \\t | %.4f \\t \" % (\n",
    "            model_name[:12], eval_dict[model_name]['train'], eval_dict[model_name]['valid'], eval_dict[model_name]['test']))"
   ]
  },
  {
   "cell_type": "markdown",
   "metadata": {},
   "source": [
    "### Using only frequency based methods to model : \n",
    "\n",
    "1. CountVectorizer\n",
    "2. Tf-IdfVectorizer"
   ]
  },
  {
   "cell_type": "code",
   "execution_count": 8,
   "metadata": {},
   "outputs": [],
   "source": [
    "def tokenize(s): \n",
    "    return s.split()"
   ]
  },
  {
   "cell_type": "code",
   "execution_count": 9,
   "metadata": {},
   "outputs": [],
   "source": [
    "def fit_and_return_vectorizer(train, test, vectorizer, text_col='text', subsample_train=False):\n",
    "\n",
    "    total_texts = pd.concat([train[text_col], test[text_col]], axis=0)\n",
    "    total_texts.reset_index(drop=True, inplace=True)\n",
    "\n",
    "    vectorizer.fit(total_texts.values)\n",
    "    if subsample_train:\n",
    "#         k = np.random.choice(train['fold_id'].unique())\n",
    "        print(f\"Choosing Random Subsample Fold-ID : {K}\")\n",
    "        X_train, X_valid, y_train, y_valid = splitter(train)\n",
    "\n",
    "    train_count_vect = vectorizer.transform(X_train)\n",
    "    valid_count_vect = vectorizer.transform(X_valid)\n",
    "    test_count_vect = vectorizer.transform(test[text_col].values)\n",
    "\n",
    "    print(\"Number of features / words in vocab : {}\".format(len(vectorizer.get_feature_names())))\n",
    "    print(\"Transformed Shapes :: \\nTrain : {}\\nValid : {}\\nTest :  {}\".format(\n",
    "        train_count_vect.shape, valid_count_vect.shape, test_count_vect.shape))\n",
    "    \n",
    "    del total_texts\n",
    "    gc.collect()\n",
    "    \n",
    "    return vectorizer, train_count_vect, valid_count_vect, test_count_vect, y_train, y_valid"
   ]
  },
  {
   "cell_type": "markdown",
   "metadata": {},
   "source": [
    "### CountVectorizer"
   ]
  },
  {
   "cell_type": "code",
   "execution_count": 10,
   "metadata": {},
   "outputs": [
    {
     "name": "stdout",
     "output_type": "stream",
     "text": [
      "Choosing Random Subsample Fold-ID : 6\n",
      "Number of features / words in vocab : 1000\n",
      "Transformed Shapes :: \n",
      "Train : (99372, 1000)\n",
      "Valid : (20592, 1000)\n",
      "Test :  (92, 1000)\n",
      "CPU times: user 36.4 s, sys: 504 ms, total: 36.9 s\n",
      "Wall time: 36.9 s\n"
     ]
    }
   ],
   "source": [
    "%%time\n",
    "\n",
    "max_features = 1_000\n",
    "vect = CountVectorizer(max_features=max_features)\n",
    "vect, transformed_train, transformed_valid, transformed_test, y_new_train, y_new_valid = fit_and_return_vectorizer(\n",
    "    train, test, vect, subsample_train=True)"
   ]
  },
  {
   "cell_type": "code",
   "execution_count": 13,
   "metadata": {
    "scrolled": true
   },
   "outputs": [
    {
     "name": "stdout",
     "output_type": "stream",
     "text": [
      "Baseliner Models\n",
      "\n",
      "Model Name \t | Train \t | Valid \t | Test \n",
      "------------------------------------------------------------\n",
      "LogisticRegr \t | 0.9996 \t | 0.9731 \t | 0.8846 \t \n",
      "GaussianNB \t | 0.9794 \t | 0.9757 \t | 0.9358 \t \n",
      "LGBMClassifi \t | 0.9999 \t | 0.9637 \t | 0.8713 \t \n",
      "RandomForest \t | 0.9999 \t | 0.9621 \t | 0.8491 \t \n",
      "DecisionTree \t | 0.9999 \t | 0.9321 \t | 0.7890 \t \n",
      "ExtraTreeCla \t | 0.9999 \t | 0.8694 \t | 0.7963 \t \n"
     ]
    }
   ],
   "source": [
    "baseliner(transformed_train.toarray(), transformed_valid.toarray(), y_new_train, y_new_valid, transformed_test.toarray())\n",
    "\n",
    "## Before Validation Strategy\n",
    "# Model Name     |    CV     | Test \n",
    "# ------------------------------------------------------------\n",
    "# LogisticRegr \t | 0.9992 \t | 0.8846 \t \n",
    "# GaussianNB \t | 0.9807 \t | 0.9159 \t \n",
    "# LGBMClassifi \t | 0.9993 \t | 0.8738 \t \n",
    "# RandomForest \t | 0.9993 \t | 0.9038 \t \n",
    "# DecisionTree \t | 0.9972 \t | 0.8077 \t \n",
    "# ExtraTreeCla \t | 0.9971 \t | 0.7500 \t "
   ]
  },
  {
   "cell_type": "markdown",
   "metadata": {},
   "source": [
    "### Boosting Utilities"
   ]
  },
  {
   "cell_type": "code",
   "execution_count": 14,
   "metadata": {},
   "outputs": [],
   "source": [
    "threshold = 0.5\n",
    "\n",
    "def f1_lgb(y_hat, data):\n",
    "    y_true = data.get_label()\n",
    "    y_hat[y_hat < threshold] = 0\n",
    "    y_hat[y_hat >= threshold] = 1\n",
    "    \n",
    "    return 'f1_score', f1_score(y_true, y_hat), True\n",
    "\n",
    "def f1_xgb(y_pred, dtrain):\n",
    "    y_true = dtrain.get_label()\n",
    "    y_pred[y_pred < threshold] = 0\n",
    "    y_pred[y_pred >= threshold] = 1\n",
    "    \n",
    "    return 'f1_score', f1_score(y_true, y_pred)\n",
    "\n",
    "def lgb_model(trainX, validX, trainY, validY, X_test):\n",
    "    evals_result = {}\n",
    "    print(\"LGB Model\")\n",
    "    lgb_train_set = lgb.Dataset(trainX, label=trainY)\n",
    "    lgb_valid_set = lgb.Dataset(validX, label=validY)\n",
    "\n",
    "    MAX_ROUNDS = 2000\n",
    "    lgb_params = {\n",
    "        \"boosting\": 'gbdt',  # \"dart\",\n",
    "        \"learning_rate\": 0.01,\n",
    "        \"nthread\": -1,\n",
    "        \"seed\": 13,\n",
    "        \"num_boost_round\": MAX_ROUNDS,\n",
    "        \"objective\": \"binary\",\n",
    "    }\n",
    "\n",
    "    lgb_model = lgb.train(\n",
    "        lgb_params,\n",
    "        train_set=lgb_train_set,\n",
    "        valid_sets=[lgb_train_set, lgb_valid_set],\n",
    "        early_stopping_rounds=50,\n",
    "        verbose_eval=100,\n",
    "        evals_result=evals_result,\n",
    "        feval=f1_lgb\n",
    "    )\n",
    "\n",
    "    lgb.plot_importance(lgb_model, figsize=(24, 24))\n",
    "    lgb.plot_metric(evals_result, metric='f1_score')\n",
    "    \n",
    "    preds = lgb_model.predict(X_test)\n",
    "    preds[preds >= threshold] = 1\n",
    "    preds[preds < threshold] = 0\n",
    "    \n",
    "    test_f1 = eval_t(preds)\n",
    "    print(\"Test Score : {}\".format(test_f1))\n",
    "    \n",
    "    return lgb_model\n",
    "\n",
    "def xgb_model(X_train, X_valid, y_train, y_valid, X_test):\n",
    "\n",
    "    MAX_ROUNDS=2000\n",
    "    early_stopping_rounds=50\n",
    "    params = {\n",
    "        'booster': 'gbtree', # dart\n",
    "        'objective': 'binary:logistic',\n",
    "        'eval_metric': 'error',\n",
    "        'learning_rate': 0.1,\n",
    "        'num_round': MAX_ROUNDS,\n",
    "        'max_depth': 8,\n",
    "        'seed': 13,\n",
    "        'nthread': -1\n",
    "    }\n",
    "    print(X_train.shape, X_valid.shape, y_train.shape, y_valid.shape)\n",
    "\n",
    "    dtrain = xgb.DMatrix(X_train, label=y_train)\n",
    "    dvalid = xgb.DMatrix(X_valid, label=y_valid)\n",
    "    watchlist = [(dtrain, 'train'), (dvalid, 'valid')]\n",
    "\n",
    "    model = xgb.train(\n",
    "        params,\n",
    "        dtrain,\n",
    "        evals=watchlist,\n",
    "        num_boost_round=MAX_ROUNDS,\n",
    "        early_stopping_rounds=early_stopping_rounds,\n",
    "        verbose_eval=50,\n",
    "        feval=f1_xgb,\n",
    "        maximize=True\n",
    "    )\n",
    "    print(\"Best Iteration :: \", model.best_iteration)\n",
    "\n",
    "    # Plotting Importances\n",
    "    fig, ax = plt.subplots(figsize=(24, 24))\n",
    "    xgb.plot_importance(model, height=0.4, ax=ax)\n",
    "    preds = model.predict(xgb.DMatrix(X_test), ntree_limit=model.best_ntree_limit)\n",
    "    preds[preds >= threshold] = 1\n",
    "    preds[preds < threshold] = 0\n",
    "    \n",
    "    test_f1 = eval_t(preds)\n",
    "    print(\"Test Score : {}\".format(test_f1))\n",
    "    \n",
    "    return model\n",
    "\n",
    "def feature_order(feat, model):\n",
    "    feat_imp = pd.DataFrame(model.feature_importances_, index=feat)\n",
    "    feat_imp.reset_index(inplace=True)\n",
    "    feat_imp.columns = ['columns', 'importance']\n",
    "\n",
    "    feat_imp = feat_imp.iloc[feat_imp['importance'].sort_values(ascending=False).index]\n",
    "\n",
    "    return feat_imp, feat_imp['columns'].values.tolist()"
   ]
  },
  {
   "cell_type": "code",
   "execution_count": 16,
   "metadata": {
    "scrolled": true
   },
   "outputs": [
    {
     "name": "stdout",
     "output_type": "stream",
     "text": [
      "LGB Model\n",
      "Training until validation scores don't improve for 50 rounds\n",
      "Early stopping, best iteration is:\n",
      "[24]\ttraining's binary_logloss: 0.504806\ttraining's f1_score: 0.992783\tvalid_1's binary_logloss: 0.504851\tvalid_1's f1_score: 0.99279\n",
      "Test Score : 0.7050359712230214\n"
     ]
    },
    {
     "data": {
      "image/png": "[encoded data removed]",
      "text/plain": [
       "<Figure size 1728x1728 with 1 Axes>"
      ]
     },
     "metadata": {
      "needs_background": "light"
     },
     "output_type": "display_data"
    },
    {
     "data": {
      "image/png": "[encoded data removed]",
      "text/plain": [
       "<Figure size 432x288 with 1 Axes>"
      ]
     },
     "metadata": {
      "needs_background": "light"
     },
     "output_type": "display_data"
    }
   ],
   "source": [
    "lgbM = lgb_model(transformed_train.toarray(), transformed_test.toarray(), y_new)"
   ]
  },
  {
   "cell_type": "code",
   "execution_count": 17,
   "metadata": {},
   "outputs": [],
   "source": [
    "# xgbM = xgb_model(transformed_train.toarray(), transformed_test.toarray(), y_new)"
   ]
  },
  {
   "cell_type": "markdown",
   "metadata": {},
   "source": [
    "### TF-IDF"
   ]
  },
  {
   "cell_type": "code",
   "execution_count": 15,
   "metadata": {},
   "outputs": [
    {
     "name": "stdout",
     "output_type": "stream",
     "text": [
      "Choosing Random Subsample Fold-ID : 6\n",
      "Number of features / words in vocab : 1000\n",
      "Transformed Shapes :: \n",
      "Train : (99372, 1000)\n",
      "Valid : (20592, 1000)\n",
      "Test :  (92, 1000)\n",
      "CPU times: user 33.6 s, sys: 424 ms, total: 34 s\n",
      "Wall time: 34 s\n"
     ]
    }
   ],
   "source": [
    "%%time\n",
    "\n",
    "max_features = 1_000\n",
    "vect = TfidfVectorizer(max_features=max_features)\n",
    "vect, transformed_train, transformed_valid, transformed_test, y_new_train, y_new_valid = fit_and_return_vectorizer(\n",
    "    train, test, vect, subsample_train=True)"
   ]
  },
  {
   "cell_type": "code",
   "execution_count": 16,
   "metadata": {},
   "outputs": [
    {
     "name": "stdout",
     "output_type": "stream",
     "text": [
      "Baseliner Models\n",
      "\n",
      "Model Name \t | Train \t | Valid \t | Test \n",
      "------------------------------------------------------------\n",
      "LogisticRegr \t | 0.9988 \t | 0.9723 \t | 0.9057 \t \n",
      "GaussianNB \t | 0.9807 \t | 0.9618 \t | 0.9358 \t \n",
      "LGBMClassifi \t | 0.9999 \t | 0.9505 \t | 0.8515 \t \n",
      "RandomForest \t | 0.9999 \t | 0.9702 \t | 0.8485 \t \n",
      "DecisionTree \t | 0.9999 \t | 0.9364 \t | 0.8247 \t \n",
      "ExtraTreeCla \t | 0.9999 \t | 0.8981 \t | 0.7917 \t \n"
     ]
    }
   ],
   "source": [
    "baseliner(transformed_train.toarray(), transformed_valid.toarray(), y_new_train, y_new_valid, transformed_test.toarray())"
   ]
  },
  {
   "cell_type": "code",
   "execution_count": 17,
   "metadata": {},
   "outputs": [],
   "source": [
    "# lgbM = lgb_model(transformed_train.toarray(), transformed_valid.toarray(), y_new_train, y_new_valid, transformed_test.toarray())"
   ]
  },
  {
   "cell_type": "code",
   "execution_count": 18,
   "metadata": {},
   "outputs": [],
   "source": [
    "# xgbM = xgb_model(transformed_train.toarray(), transformed_valid.toarray(), y_new_train, y_new_valid, transformed_test.toarray())"
   ]
  },
  {
   "cell_type": "markdown",
   "metadata": {},
   "source": [
    "## Evaluation"
   ]
  },
  {
   "cell_type": "markdown",
   "metadata": {},
   "source": [
    "### CountVect vs TF-IDF \n",
    "\n",
    "Even though TF-IDF is theoratically a better and intuitive model than naive CountVect we can see that the evaluation for both of them are very comparable and very near.\n",
    "\n",
    "Some of the best model : \n",
    "\n",
    "1. Naive Bayes : 93.58%\n",
    "1. LogisticReg : 90.57%\n",
    "1. LightGBM : 87.13%\n",
    "\n",
    "I haven't used other boosting models such as XGB and Catboost as they are very compute-heavy models and choosed lightgbm because it's faster and easier for baselining."
   ]
  },
  {
   "cell_type": "markdown",
   "metadata": {},
   "source": [
    "### Confusion Matrix + Understanding Evaluation"
   ]
  },
  {
   "cell_type": "code",
   "execution_count": 19,
   "metadata": {},
   "outputs": [],
   "source": [
    "from sklearn.metrics import confusion_matrix, classification_report\n",
    "from sklearn.model_selection import train_test_split\n",
    "\n",
    "def plot_classification_report(model, X_train, X_test, y_train, y_test):\n",
    "\n",
    "    model.fit(X_train, y_train)\n",
    "    T = 0.44\n",
    "    preds = model.predict_proba(X_test)[:, 1]\n",
    "    pred_probs = preds.copy()\n",
    "    preds[preds >= T] = 1\n",
    "    preds[preds < T] = 0\n",
    "    \n",
    "    cm = confusion_matrix(y_test, preds)\n",
    "    print(\"Classification Report\")\n",
    "    print(classification_report(y_test, preds))\n",
    "    class_names = [\"R\", \"S\"]  # name  of classes\n",
    "\n",
    "    fig, ax = plt.subplots()\n",
    "    tick_marks = np.arange(len(class_names))\n",
    "    plt.xticks(tick_marks, class_names)\n",
    "    plt.yticks(tick_marks, class_names)\n",
    "    sns.heatmap(pd.DataFrame(cm), annot=True, cmap=\"YlGnBu\", fmt='g')\n",
    "    ax.xaxis.set_label_position(\"top\")\n",
    "    plt.tight_layout()\n",
    "    plt.title('Confusion matrix', y=1.1)\n",
    "    plt.ylabel('Actual label')\n",
    "    plt.xlabel('Predicted label')\n",
    "    plt.show()\n",
    "    \n",
    "    return pred_probs"
   ]
  },
  {
   "cell_type": "code",
   "execution_count": 20,
   "metadata": {},
   "outputs": [
    {
     "name": "stdout",
     "output_type": "stream",
     "text": [
      "Classification Report\n",
      "              precision    recall  f1-score   support\n",
      "\n",
      "           0       0.85      0.97      0.91        35\n",
      "           1       0.98      0.89      0.94        57\n",
      "\n",
      "    accuracy                           0.92        92\n",
      "   macro avg       0.92      0.93      0.92        92\n",
      "weighted avg       0.93      0.92      0.92        92\n",
      "\n"
     ]
    },
    {
     "data": {
      "image/png": "[encoded data removed]",
      "text/plain": [
       "<Figure size 432x288 with 2 Axes>"
      ]
     },
     "metadata": {
      "needs_background": "light"
     },
     "output_type": "display_data"
    }
   ],
   "source": [
    "pred_probs = plot_classification_report(GaussianNB(), transformed_train.toarray(), transformed_test.toarray(), y_new_train, y_test)"
   ]
  },
  {
   "cell_type": "markdown",
   "metadata": {},
   "source": [
    "It seems we have higher False Negatives i.e 6 predictions which are actually Positive which have been faslely classified as Negative."
   ]
  },
  {
   "cell_type": "markdown",
   "metadata": {},
   "source": [
    "### Plotting the prediction probability distribution"
   ]
  },
  {
   "cell_type": "code",
   "execution_count": 21,
   "metadata": {},
   "outputs": [
    {
     "data": {
      "image/png": "[encoded data removed]",
      "text/plain": [
       "<Figure size 864x360 with 1 Axes>"
      ]
     },
     "metadata": {
      "needs_background": "light"
     },
     "output_type": "display_data"
    }
   ],
   "source": [
    "plt.figure(figsize=(12, 5))\n",
    "sns.distplot(pred_probs)\n",
    "plt.show()"
   ]
  },
  {
   "cell_type": "markdown",
   "metadata": {},
   "source": [
    "### Does ensembling help?"
   ]
  },
  {
   "cell_type": "code",
   "execution_count": 22,
   "metadata": {},
   "outputs": [
    {
     "name": "stdout",
     "output_type": "stream",
     "text": [
      "Model : gaussian_nb\n",
      "Train Score : 0.9807\n",
      "Test Score : 0.9358\n",
      "Model : log_reg\n",
      "Train Score : 0.9988\n",
      "Test Score : 0.9057\n",
      "Model : lgb\n",
      "Train Score : 0.9999\n",
      "Test Score : 0.8515\n"
     ]
    }
   ],
   "source": [
    "good_models = {\n",
    "    \"gaussian_nb\": GaussianNB(),\n",
    "    \"log_reg\" : LogisticRegression(),\n",
    "    \"lgb\" : lgb.LGBMClassifier(),\n",
    "}\n",
    "\n",
    "soft_preds = {}\n",
    "hard_preds = {}\n",
    "\n",
    "for model_name, model in good_models.items():\n",
    "    \n",
    "    print(\"Model : {}\".format(model_name))\n",
    "    hard_preds[model_name] = np.nan\n",
    "    soft_preds[model_name] = np.nan\n",
    "    \n",
    "    model.fit(transformed_train.toarray(), y_new_train)\n",
    "    train_score = f1_score(y_new_train, model.predict(transformed_train.toarray()))\n",
    "    preds = model.predict(transformed_test.toarray())\n",
    "    pred_probs = model.predict_proba(transformed_test.toarray())[:, 1]\n",
    "    \n",
    "    hard_preds[model_name] = preds\n",
    "    soft_preds[model_name] = pred_probs\n",
    "    \n",
    "    test_score = eval_t(preds)\n",
    "    print(\"Train Score : {:.4f}\\nTest Score : {:.4f}\".format(train_score, test_score))"
   ]
  },
  {
   "cell_type": "code",
   "execution_count": 18,
   "metadata": {},
   "outputs": [
    {
     "name": "stdout",
     "output_type": "stream",
     "text": [
      "Hard Voting F1 : 0.9245283018867925\n"
     ]
    }
   ],
   "source": [
    "# 1. Hard Voting : \n",
    "zip_ = zip(hard_preds['gaussian_nb'], hard_preds['log_reg'], hard_preds['lgb'])\n",
    "preds = []\n",
    "for i, j, k in zip_:\n",
    "    lst = [i, j, k]\n",
    "    preds.append(max(set(lst), key=lst.count))\n",
    "    \n",
    "print(f\"Hard Voting F1 : {eval_t(preds)}\")"
   ]
  },
  {
   "cell_type": "markdown",
   "metadata": {},
   "source": [
    "#### Choosing best threshold for good F1"
   ]
  },
  {
   "cell_type": "code",
   "execution_count": 26,
   "metadata": {},
   "outputs": [],
   "source": [
    "def tweak_threshold(pred, truth):\n",
    "    thresholds = []\n",
    "    scores = []\n",
    "    for thresh in np.arange(0.1, 0.501, 0.01):\n",
    "        thresh = np.round(thresh, 2)\n",
    "        thresholds.append(thresh)\n",
    "        score = f1_score(truth, (pred>thresh).astype(int))\n",
    "        scores.append(score)\n",
    "#     print(scores)\n",
    "    return np.max(scores), thresholds[np.argmax(scores)]"
   ]
  },
  {
   "cell_type": "code",
   "execution_count": 20,
   "metadata": {},
   "outputs": [
    {
     "name": "stdout",
     "output_type": "stream",
     "text": [
      "Scored 0.9999 for threshold 0.41 on train data\n",
      "Scored 0.9444 for threshold 0.41 on test data\n"
     ]
    }
   ],
   "source": [
    "# 2. Soft-Voting\n",
    "# Finding the best threshold for best F1-Score : \n",
    "\n",
    "ens_1 = (soft_preds['gaussian_nb'] + soft_preds['log_reg'] + soft_preds['lgb'])/3\n",
    "\n",
    "# First getting the threshold value from train_predictions\n",
    "score_val, threshold_val = tweak_threshold(model.predict_proba(transformed_train.toarray())[:, 1], y_new)\n",
    "print(f\"Scored {round(score_val, 4)} for threshold {threshold_val} on train data\")\n",
    "\n",
    "# Then getting the f1 score in test set using that threshold\n",
    "ens_1[ens_1 >= threshold_val] = 1\n",
    "ens_1[ens_1 < threshold_val] = 0\n",
    "\n",
    "print(f\"Scored {round(eval_t(ens_1), 4)} for threshold {threshold_val} on test data\")"
   ]
  },
  {
   "cell_type": "markdown",
   "metadata": {},
   "source": [
    "### Saving the predictions for further ensembling"
   ]
  },
  {
   "cell_type": "code",
   "execution_count": 21,
   "metadata": {},
   "outputs": [],
   "source": [
    "sub = pd.DataFrame()\n",
    "sub['gnb'] = soft_preds['gaussian_nb']\n",
    "sub['log_reg'] = soft_preds['log_reg']\n",
    "sub['lgb'] = soft_preds['lgb']\n",
    "sub['avg_3'] = (soft_preds['gaussian_nb'] + soft_preds['log_reg'] + soft_preds['lgb'])/3"
   ]
  },
  {
   "cell_type": "code",
   "execution_count": 22,
   "metadata": {},
   "outputs": [],
   "source": [
    "sub.to_csv(\"../subs/frequency_models.csv\", index=False)"
   ]
  },
  {
   "cell_type": "markdown",
   "metadata": {},
   "source": [
    "## Conclusion \n",
    "\n",
    "\n",
    "### Single : Naive Bayes worked best : 0.9358\n",
    "\n",
    "### 3 Model Ensemble :  0.9444 (NB + LR + LGB)"
   ]
  },
  {
   "cell_type": "code",
   "execution_count": null,
   "metadata": {},
   "outputs": [],
   "source": []
  }
 ],
 "metadata": {
  "kernelspec": {
   "display_name": "Python 3",
   "language": "python",
   "name": "python3"
  },
  "language_info": {
   "codemirror_mode": {
    "name": "ipython",
    "version": 3
   },
   "file_extension": ".py",
   "mimetype": "text/x-python",
   "name": "python",
   "nbconvert_exporter": "python",
   "pygments_lexer": "ipython3",
   "version": "3.7.3"
  }
 },
 "nbformat": 4,
 "nbformat_minor": 4
}
